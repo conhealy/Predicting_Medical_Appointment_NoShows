{
 "cells": [
  {
   "cell_type": "markdown",
   "metadata": {
    "deletable": true,
    "editable": true
   },
   "source": [
    "# Medical Appointment No-Shows Prediction"
   ]
  },
  {
   "cell_type": "code",
   "execution_count": 100,
   "metadata": {
    "collapsed": false,
    "deletable": true,
    "editable": true
   },
   "outputs": [
    {
     "name": "stderr",
     "output_type": "stream",
     "text": [
      "/Users/conhealy/anaconda2/envs/py35/lib/python3.5/site-packages/sklearn/cross_validation.py:41: DeprecationWarning: This module was deprecated in version 0.18 in favor of the model_selection module into which all the refactored classes and functions are moved. Also note that the interface of the new CV iterators are different from that of this module. This module will be removed in 0.20.\n",
      "  \"This module will be removed in 0.20.\", DeprecationWarning)\n"
     ]
    }
   ],
   "source": [
    "import numpy as np\n",
    "import pandas as pd\n",
    "import time\n",
    "import dateutil.parser\n",
    "import matplotlib as plt\n",
    "from sklearn.linear_model import LogisticRegression\n",
    "from sklearn.model_selection import train_test_split, GridSearchCV\n",
    "from sklearn.ensemble import RandomForestClassifier\n",
    "from sklearn.metrics import accuracy_score, f1_score, confusion_matrix\n",
    "from xgboost import XGBClassifier\n",
    "from imblearn.over_sampling import RandomOverSampler, SMOTE\n",
    "from imblearn.under_sampling import RandomUnderSampler\n",
    "%matplotlib inline"
   ]
  },
  {
   "cell_type": "code",
   "execution_count": 2,
   "metadata": {
    "collapsed": false,
    "deletable": true,
    "editable": true
   },
   "outputs": [],
   "source": [
    "df=pd.read_csv('../data/KaggleV2-May-2016.csv.zip', dtype={'PatientId': object})"
   ]
  },
  {
   "cell_type": "code",
   "execution_count": 3,
   "metadata": {
    "collapsed": false,
    "deletable": true,
    "editable": true,
    "scrolled": true
   },
   "outputs": [
    {
     "data": {
      "text/html": [
       "<div>\n",
       "<style>\n",
       "    .dataframe thead tr:only-child th {\n",
       "        text-align: right;\n",
       "    }\n",
       "\n",
       "    .dataframe thead th {\n",
       "        text-align: left;\n",
       "    }\n",
       "\n",
       "    .dataframe tbody tr th {\n",
       "        vertical-align: top;\n",
       "    }\n",
       "</style>\n",
       "<table border=\"1\" class=\"dataframe\">\n",
       "  <thead>\n",
       "    <tr style=\"text-align: right;\">\n",
       "      <th></th>\n",
       "      <th>PatientId</th>\n",
       "      <th>AppointmentID</th>\n",
       "      <th>Gender</th>\n",
       "      <th>ScheduledDay</th>\n",
       "      <th>AppointmentDay</th>\n",
       "      <th>Age</th>\n",
       "      <th>Neighbourhood</th>\n",
       "      <th>Scholarship</th>\n",
       "      <th>Hipertension</th>\n",
       "      <th>Diabetes</th>\n",
       "      <th>Alcoholism</th>\n",
       "      <th>Handcap</th>\n",
       "      <th>SMS_received</th>\n",
       "      <th>No-show</th>\n",
       "    </tr>\n",
       "  </thead>\n",
       "  <tbody>\n",
       "    <tr>\n",
       "      <th>0</th>\n",
       "      <td>29872499824296</td>\n",
       "      <td>5642903</td>\n",
       "      <td>F</td>\n",
       "      <td>2016-04-29T18:38:08Z</td>\n",
       "      <td>2016-04-29T00:00:00Z</td>\n",
       "      <td>62</td>\n",
       "      <td>JARDIM DA PENHA</td>\n",
       "      <td>0</td>\n",
       "      <td>1</td>\n",
       "      <td>0</td>\n",
       "      <td>0</td>\n",
       "      <td>0</td>\n",
       "      <td>0</td>\n",
       "      <td>No</td>\n",
       "    </tr>\n",
       "    <tr>\n",
       "      <th>1</th>\n",
       "      <td>558997776694438</td>\n",
       "      <td>5642503</td>\n",
       "      <td>M</td>\n",
       "      <td>2016-04-29T16:08:27Z</td>\n",
       "      <td>2016-04-29T00:00:00Z</td>\n",
       "      <td>56</td>\n",
       "      <td>JARDIM DA PENHA</td>\n",
       "      <td>0</td>\n",
       "      <td>0</td>\n",
       "      <td>0</td>\n",
       "      <td>0</td>\n",
       "      <td>0</td>\n",
       "      <td>0</td>\n",
       "      <td>No</td>\n",
       "    </tr>\n",
       "    <tr>\n",
       "      <th>2</th>\n",
       "      <td>4262962299951</td>\n",
       "      <td>5642549</td>\n",
       "      <td>F</td>\n",
       "      <td>2016-04-29T16:19:04Z</td>\n",
       "      <td>2016-04-29T00:00:00Z</td>\n",
       "      <td>62</td>\n",
       "      <td>MATA DA PRAIA</td>\n",
       "      <td>0</td>\n",
       "      <td>0</td>\n",
       "      <td>0</td>\n",
       "      <td>0</td>\n",
       "      <td>0</td>\n",
       "      <td>0</td>\n",
       "      <td>No</td>\n",
       "    </tr>\n",
       "    <tr>\n",
       "      <th>3</th>\n",
       "      <td>867951213174</td>\n",
       "      <td>5642828</td>\n",
       "      <td>F</td>\n",
       "      <td>2016-04-29T17:29:31Z</td>\n",
       "      <td>2016-04-29T00:00:00Z</td>\n",
       "      <td>8</td>\n",
       "      <td>PONTAL DE CAMBURI</td>\n",
       "      <td>0</td>\n",
       "      <td>0</td>\n",
       "      <td>0</td>\n",
       "      <td>0</td>\n",
       "      <td>0</td>\n",
       "      <td>0</td>\n",
       "      <td>No</td>\n",
       "    </tr>\n",
       "    <tr>\n",
       "      <th>4</th>\n",
       "      <td>8841186448183</td>\n",
       "      <td>5642494</td>\n",
       "      <td>F</td>\n",
       "      <td>2016-04-29T16:07:23Z</td>\n",
       "      <td>2016-04-29T00:00:00Z</td>\n",
       "      <td>56</td>\n",
       "      <td>JARDIM DA PENHA</td>\n",
       "      <td>0</td>\n",
       "      <td>1</td>\n",
       "      <td>1</td>\n",
       "      <td>0</td>\n",
       "      <td>0</td>\n",
       "      <td>0</td>\n",
       "      <td>No</td>\n",
       "    </tr>\n",
       "    <tr>\n",
       "      <th>5</th>\n",
       "      <td>95985133231274</td>\n",
       "      <td>5626772</td>\n",
       "      <td>F</td>\n",
       "      <td>2016-04-27T08:36:51Z</td>\n",
       "      <td>2016-04-29T00:00:00Z</td>\n",
       "      <td>76</td>\n",
       "      <td>REPÚBLICA</td>\n",
       "      <td>0</td>\n",
       "      <td>1</td>\n",
       "      <td>0</td>\n",
       "      <td>0</td>\n",
       "      <td>0</td>\n",
       "      <td>0</td>\n",
       "      <td>No</td>\n",
       "    </tr>\n",
       "    <tr>\n",
       "      <th>6</th>\n",
       "      <td>733688164476661</td>\n",
       "      <td>5630279</td>\n",
       "      <td>F</td>\n",
       "      <td>2016-04-27T15:05:12Z</td>\n",
       "      <td>2016-04-29T00:00:00Z</td>\n",
       "      <td>23</td>\n",
       "      <td>GOIABEIRAS</td>\n",
       "      <td>0</td>\n",
       "      <td>0</td>\n",
       "      <td>0</td>\n",
       "      <td>0</td>\n",
       "      <td>0</td>\n",
       "      <td>0</td>\n",
       "      <td>Yes</td>\n",
       "    </tr>\n",
       "    <tr>\n",
       "      <th>7</th>\n",
       "      <td>3449833394123</td>\n",
       "      <td>5630575</td>\n",
       "      <td>F</td>\n",
       "      <td>2016-04-27T15:39:58Z</td>\n",
       "      <td>2016-04-29T00:00:00Z</td>\n",
       "      <td>39</td>\n",
       "      <td>GOIABEIRAS</td>\n",
       "      <td>0</td>\n",
       "      <td>0</td>\n",
       "      <td>0</td>\n",
       "      <td>0</td>\n",
       "      <td>0</td>\n",
       "      <td>0</td>\n",
       "      <td>Yes</td>\n",
       "    </tr>\n",
       "    <tr>\n",
       "      <th>8</th>\n",
       "      <td>56394729949972</td>\n",
       "      <td>5638447</td>\n",
       "      <td>F</td>\n",
       "      <td>2016-04-29T08:02:16Z</td>\n",
       "      <td>2016-04-29T00:00:00Z</td>\n",
       "      <td>21</td>\n",
       "      <td>ANDORINHAS</td>\n",
       "      <td>0</td>\n",
       "      <td>0</td>\n",
       "      <td>0</td>\n",
       "      <td>0</td>\n",
       "      <td>0</td>\n",
       "      <td>0</td>\n",
       "      <td>No</td>\n",
       "    </tr>\n",
       "    <tr>\n",
       "      <th>9</th>\n",
       "      <td>78124564369297</td>\n",
       "      <td>5629123</td>\n",
       "      <td>F</td>\n",
       "      <td>2016-04-27T12:48:25Z</td>\n",
       "      <td>2016-04-29T00:00:00Z</td>\n",
       "      <td>19</td>\n",
       "      <td>CONQUISTA</td>\n",
       "      <td>0</td>\n",
       "      <td>0</td>\n",
       "      <td>0</td>\n",
       "      <td>0</td>\n",
       "      <td>0</td>\n",
       "      <td>0</td>\n",
       "      <td>No</td>\n",
       "    </tr>\n",
       "  </tbody>\n",
       "</table>\n",
       "</div>"
      ],
      "text/plain": [
       "         PatientId  AppointmentID Gender          ScheduledDay  \\\n",
       "0   29872499824296        5642903      F  2016-04-29T18:38:08Z   \n",
       "1  558997776694438        5642503      M  2016-04-29T16:08:27Z   \n",
       "2    4262962299951        5642549      F  2016-04-29T16:19:04Z   \n",
       "3     867951213174        5642828      F  2016-04-29T17:29:31Z   \n",
       "4    8841186448183        5642494      F  2016-04-29T16:07:23Z   \n",
       "5   95985133231274        5626772      F  2016-04-27T08:36:51Z   \n",
       "6  733688164476661        5630279      F  2016-04-27T15:05:12Z   \n",
       "7    3449833394123        5630575      F  2016-04-27T15:39:58Z   \n",
       "8   56394729949972        5638447      F  2016-04-29T08:02:16Z   \n",
       "9   78124564369297        5629123      F  2016-04-27T12:48:25Z   \n",
       "\n",
       "         AppointmentDay  Age      Neighbourhood  Scholarship  Hipertension  \\\n",
       "0  2016-04-29T00:00:00Z   62    JARDIM DA PENHA            0             1   \n",
       "1  2016-04-29T00:00:00Z   56    JARDIM DA PENHA            0             0   \n",
       "2  2016-04-29T00:00:00Z   62      MATA DA PRAIA            0             0   \n",
       "3  2016-04-29T00:00:00Z    8  PONTAL DE CAMBURI            0             0   \n",
       "4  2016-04-29T00:00:00Z   56    JARDIM DA PENHA            0             1   \n",
       "5  2016-04-29T00:00:00Z   76          REPÚBLICA            0             1   \n",
       "6  2016-04-29T00:00:00Z   23         GOIABEIRAS            0             0   \n",
       "7  2016-04-29T00:00:00Z   39         GOIABEIRAS            0             0   \n",
       "8  2016-04-29T00:00:00Z   21         ANDORINHAS            0             0   \n",
       "9  2016-04-29T00:00:00Z   19          CONQUISTA            0             0   \n",
       "\n",
       "   Diabetes  Alcoholism  Handcap  SMS_received No-show  \n",
       "0         0           0        0             0      No  \n",
       "1         0           0        0             0      No  \n",
       "2         0           0        0             0      No  \n",
       "3         0           0        0             0      No  \n",
       "4         1           0        0             0      No  \n",
       "5         0           0        0             0      No  \n",
       "6         0           0        0             0     Yes  \n",
       "7         0           0        0             0     Yes  \n",
       "8         0           0        0             0      No  \n",
       "9         0           0        0             0      No  "
      ]
     },
     "execution_count": 3,
     "metadata": {},
     "output_type": "execute_result"
    }
   ],
   "source": [
    "df.head(10)"
   ]
  },
  {
   "cell_type": "code",
   "execution_count": 4,
   "metadata": {
    "collapsed": false,
    "deletable": true,
    "editable": true
   },
   "outputs": [
    {
     "data": {
      "text/plain": [
       "array(['PatientId', 'AppointmentID', 'Gender', 'ScheduledDay',\n",
       "       'AppointmentDay', 'Age', 'Neighbourhood', 'Scholarship',\n",
       "       'Hipertension', 'Diabetes', 'Alcoholism', 'Handcap', 'SMS_received',\n",
       "       'No-show'], dtype=object)"
      ]
     },
     "execution_count": 4,
     "metadata": {},
     "output_type": "execute_result"
    }
   ],
   "source": [
    "df.columns.values"
   ]
  },
  {
   "cell_type": "code",
   "execution_count": 5,
   "metadata": {
    "collapsed": false,
    "deletable": true,
    "editable": true
   },
   "outputs": [
    {
     "data": {
      "text/plain": [
       "110527"
      ]
     },
     "execution_count": 5,
     "metadata": {},
     "output_type": "execute_result"
    }
   ],
   "source": [
    "df.PatientId.count()"
   ]
  },
  {
   "cell_type": "code",
   "execution_count": 6,
   "metadata": {
    "collapsed": false,
    "deletable": true,
    "editable": true
   },
   "outputs": [
    {
     "data": {
      "text/plain": [
       "PatientId         object\n",
       "AppointmentID      int64\n",
       "Gender            object\n",
       "ScheduledDay      object\n",
       "AppointmentDay    object\n",
       "Age                int64\n",
       "Neighbourhood     object\n",
       "Scholarship        int64\n",
       "Hipertension       int64\n",
       "Diabetes           int64\n",
       "Alcoholism         int64\n",
       "Handcap            int64\n",
       "SMS_received       int64\n",
       "No-show           object\n",
       "dtype: object"
      ]
     },
     "execution_count": 6,
     "metadata": {},
     "output_type": "execute_result"
    }
   ],
   "source": [
    "df.dtypes"
   ]
  },
  {
   "cell_type": "markdown",
   "metadata": {
    "deletable": true,
    "editable": true
   },
   "source": [
    "## Feature Engineering"
   ]
  },
  {
   "cell_type": "markdown",
   "metadata": {
    "deletable": true,
    "editable": true
   },
   "source": [
    "Some basic feature engineering. Mostly interested in looking at imbalanced distribution in target so not too heavy on feature engineering. We just convert date strings to some more useful features"
   ]
  },
  {
   "cell_type": "code",
   "execution_count": 7,
   "metadata": {
    "collapsed": false,
    "deletable": true,
    "editable": true
   },
   "outputs": [],
   "source": [
    "df['no_show_int']=df['No-show'].apply(lambda x: 0 if x=='No' else 1)"
   ]
  },
  {
   "cell_type": "code",
   "execution_count": 8,
   "metadata": {
    "collapsed": true,
    "deletable": true,
    "editable": true
   },
   "outputs": [],
   "source": [
    "df['scheduledDateTime']=df['ScheduledDay'].apply(lambda x: dateutil.parser.parse(x))"
   ]
  },
  {
   "cell_type": "code",
   "execution_count": 9,
   "metadata": {
    "collapsed": false,
    "deletable": true,
    "editable": true
   },
   "outputs": [],
   "source": [
    "df['scheduledUnix']=df['scheduledDateTime'].apply(lambda x: int(time.mktime(x.timetuple())))"
   ]
  },
  {
   "cell_type": "code",
   "execution_count": 10,
   "metadata": {
    "collapsed": true,
    "deletable": true,
    "editable": true
   },
   "outputs": [],
   "source": [
    "df['appointmentDateTime']=df['AppointmentDay'].apply(lambda x: dateutil.parser.parse(x))"
   ]
  },
  {
   "cell_type": "code",
   "execution_count": 11,
   "metadata": {
    "collapsed": true,
    "deletable": true,
    "editable": true
   },
   "outputs": [],
   "source": [
    "df['appointmentUnix']=df['appointmentDateTime'].apply(lambda x: int(time.mktime(x.timetuple())))"
   ]
  },
  {
   "cell_type": "code",
   "execution_count": 12,
   "metadata": {
    "collapsed": true,
    "deletable": true,
    "editable": true
   },
   "outputs": [],
   "source": [
    "df['timeToAppointment']=df['appointmentUnix']-df['scheduledUnix']\n"
   ]
  },
  {
   "cell_type": "code",
   "execution_count": 13,
   "metadata": {
    "collapsed": false,
    "deletable": true,
    "editable": true
   },
   "outputs": [],
   "source": [
    "df['scheduledMonth']=df['ScheduledDay'].apply(lambda x: int(x[5:7]))"
   ]
  },
  {
   "cell_type": "code",
   "execution_count": 14,
   "metadata": {
    "collapsed": false,
    "deletable": true,
    "editable": true
   },
   "outputs": [],
   "source": [
    "df['AppointmentMonth']=df['AppointmentDay'].apply(lambda x: int(x[5:7]))"
   ]
  },
  {
   "cell_type": "code",
   "execution_count": 15,
   "metadata": {
    "collapsed": true,
    "deletable": true,
    "editable": true
   },
   "outputs": [],
   "source": [
    "df['Appointmenteekday']=df['appointmentDateTime'].apply(lambda x: x.weekday())"
   ]
  },
  {
   "cell_type": "code",
   "execution_count": 16,
   "metadata": {
    "collapsed": true,
    "deletable": true,
    "editable": true
   },
   "outputs": [],
   "source": [
    "df['ScheduledWeekday']=df['scheduledDateTime'].apply(lambda x: x.weekday())"
   ]
  },
  {
   "cell_type": "code",
   "execution_count": null,
   "metadata": {
    "collapsed": true,
    "deletable": true,
    "editable": true
   },
   "outputs": [],
   "source": []
  },
  {
   "cell_type": "markdown",
   "metadata": {
    "deletable": true,
    "editable": true
   },
   "source": [
    "## Data Exploration"
   ]
  },
  {
   "cell_type": "markdown",
   "metadata": {
    "deletable": true,
    "editable": true
   },
   "source": [
    "##### Women go to the doctor more often!"
   ]
  },
  {
   "cell_type": "code",
   "execution_count": 17,
   "metadata": {
    "collapsed": false,
    "deletable": true,
    "editable": true,
    "scrolled": true
   },
   "outputs": [
    {
     "data": {
      "text/plain": [
       "<matplotlib.axes._subplots.AxesSubplot at 0x115344940>"
      ]
     },
     "execution_count": 17,
     "metadata": {},
     "output_type": "execute_result"
    },
    {
     "data": {
      "image/png": "[encoded data removed]",
      "text/plain": [
       "<matplotlib.figure.Figure at 0x114c74828>"
      ]
     },
     "metadata": {},
     "output_type": "display_data"
    }
   ],
   "source": [
    "df['Gender'].value_counts().plot(kind='bar')"
   ]
  },
  {
   "cell_type": "markdown",
   "metadata": {
    "deletable": true,
    "editable": true
   },
   "source": [
    "##### Not much difference between male and female no-show rates"
   ]
  },
  {
   "cell_type": "code",
   "execution_count": 18,
   "metadata": {
    "collapsed": false,
    "deletable": true,
    "editable": true
   },
   "outputs": [
    {
     "data": {
      "text/plain": [
       "<matplotlib.axes._subplots.AxesSubplot at 0x114c74278>"
      ]
     },
     "execution_count": 18,
     "metadata": {},
     "output_type": "execute_result"
    },
    {
     "data": {
      "image/png": "[encoded data removed]",
      "text/plain": [
       "<matplotlib.figure.Figure at 0x108199e10>"
      ]
     },
     "metadata": {},
     "output_type": "display_data"
    }
   ],
   "source": [
    "males=df[df['Gender']=='M']\n",
    "males['No-show'].value_counts().plot(kind='pie', autopct='%.2f',  fontsize=10)"
   ]
  },
  {
   "cell_type": "code",
   "execution_count": 19,
   "metadata": {
    "collapsed": false,
    "deletable": true,
    "editable": true
   },
   "outputs": [
    {
     "data": {
      "text/plain": [
       "<matplotlib.axes._subplots.AxesSubplot at 0x1140fabe0>"
      ]
     },
     "execution_count": 19,
     "metadata": {},
     "output_type": "execute_result"
    },
    {
     "data": {
      "image/png": "[encoded data removed]",
      "text/plain": [
       "<matplotlib.figure.Figure at 0x1141247b8>"
      ]
     },
     "metadata": {},
     "output_type": "display_data"
    }
   ],
   "source": [
    "females=df[df['Gender']=='F']\n",
    "females['No-show'].value_counts().plot(kind='pie', autopct='%.2f',  fontsize=10)"
   ]
  },
  {
   "cell_type": "code",
   "execution_count": 20,
   "metadata": {
    "collapsed": false,
    "deletable": true,
    "editable": true,
    "scrolled": true
   },
   "outputs": [
    {
     "data": {
      "text/plain": [
       "<matplotlib.axes._subplots.AxesSubplot at 0x114070978>"
      ]
     },
     "execution_count": 20,
     "metadata": {},
     "output_type": "execute_result"
    },
    {
     "data": {
      "image/png": "[encoded data removed]",
      "text/plain": [
       "<matplotlib.figure.Figure at 0x114124550>"
      ]
     },
     "metadata": {},
     "output_type": "display_data"
    }
   ],
   "source": [
    "\n",
    "df['No-show'].value_counts().plot(kind='pie', autopct='%.2f',  fontsize=10)"
   ]
  },
  {
   "cell_type": "markdown",
   "metadata": {
    "deletable": true,
    "editable": true
   },
   "source": [
    "##### No-Shows don't seem to change with age"
   ]
  },
  {
   "cell_type": "code",
   "execution_count": 21,
   "metadata": {
    "collapsed": false,
    "deletable": true,
    "editable": true,
    "scrolled": true
   },
   "outputs": [
    {
     "data": {
      "text/plain": [
       "<matplotlib.axes._subplots.AxesSubplot at 0x11410f470>"
      ]
     },
     "execution_count": 21,
     "metadata": {},
     "output_type": "execute_result"
    },
    {
     "data": {
      "image/png": "[encoded data removed]",
      "text/plain": [
       "<matplotlib.figure.Figure at 0x111f0b128>"
      ]
     },
     "metadata": {},
     "output_type": "display_data"
    }
   ],
   "source": [
    "df[['Age','no_show_int']].groupby('Age').describe()['no_show_int']['mean'].plot()"
   ]
  },
  {
   "cell_type": "code",
   "execution_count": 22,
   "metadata": {
    "collapsed": false,
    "deletable": true,
    "editable": true
   },
   "outputs": [
    {
     "data": {
      "text/html": [
       "<div>\n",
       "<style>\n",
       "    .dataframe thead tr:only-child th {\n",
       "        text-align: right;\n",
       "    }\n",
       "\n",
       "    .dataframe thead th {\n",
       "        text-align: left;\n",
       "    }\n",
       "\n",
       "    .dataframe tbody tr th {\n",
       "        vertical-align: top;\n",
       "    }\n",
       "</style>\n",
       "<table border=\"1\" class=\"dataframe\">\n",
       "  <thead>\n",
       "    <tr style=\"text-align: right;\">\n",
       "      <th></th>\n",
       "      <th>no_show_int</th>\n",
       "      <th>timeToAppointment</th>\n",
       "      <th>Age</th>\n",
       "    </tr>\n",
       "  </thead>\n",
       "  <tbody>\n",
       "    <tr>\n",
       "      <th>no_show_int</th>\n",
       "      <td>1.000000</td>\n",
       "      <td>0.185819</td>\n",
       "      <td>-0.060319</td>\n",
       "    </tr>\n",
       "    <tr>\n",
       "      <th>timeToAppointment</th>\n",
       "      <td>0.185819</td>\n",
       "      <td>1.000000</td>\n",
       "      <td>0.034722</td>\n",
       "    </tr>\n",
       "    <tr>\n",
       "      <th>Age</th>\n",
       "      <td>-0.060319</td>\n",
       "      <td>0.034722</td>\n",
       "      <td>1.000000</td>\n",
       "    </tr>\n",
       "  </tbody>\n",
       "</table>\n",
       "</div>"
      ],
      "text/plain": [
       "                   no_show_int  timeToAppointment       Age\n",
       "no_show_int           1.000000           0.185819 -0.060319\n",
       "timeToAppointment     0.185819           1.000000  0.034722\n",
       "Age                  -0.060319           0.034722  1.000000"
      ]
     },
     "execution_count": 22,
     "metadata": {},
     "output_type": "execute_result"
    }
   ],
   "source": [
    "df[['no_show_int', 'timeToAppointment', 'Age']].corr()"
   ]
  },
  {
   "cell_type": "markdown",
   "metadata": {
    "deletable": true,
    "editable": true
   },
   "source": [
    "Older people more likely to show up. Appointments booked far in the past more likely to be missed"
   ]
  },
  {
   "cell_type": "markdown",
   "metadata": {
    "deletable": true,
    "editable": true
   },
   "source": [
    "##### Plot distribution of days between scheduling and appointment"
   ]
  },
  {
   "cell_type": "code",
   "execution_count": 23,
   "metadata": {
    "collapsed": true,
    "deletable": true,
    "editable": true
   },
   "outputs": [],
   "source": [
    "df['days_to_appointment']=df['timeToAppointment']/86400"
   ]
  },
  {
   "cell_type": "code",
   "execution_count": 24,
   "metadata": {
    "collapsed": false,
    "deletable": true,
    "editable": true
   },
   "outputs": [
    {
     "data": {
      "text/plain": [
       "<matplotlib.axes._subplots.AxesSubplot at 0x1141fe9b0>"
      ]
     },
     "execution_count": 24,
     "metadata": {},
     "output_type": "execute_result"
    },
    {
     "data": {
      "image/png": "[encoded data removed]",
      "text/plain": [
       "<matplotlib.figure.Figure at 0x1141bdcc0>"
      ]
     },
     "metadata": {},
     "output_type": "display_data"
    }
   ],
   "source": [
    "df['days_to_appointment'].hist(bins=50)"
   ]
  },
  {
   "cell_type": "markdown",
   "metadata": {
    "deletable": true,
    "editable": true
   },
   "source": [
    "##### Binary variable correlations"
   ]
  },
  {
   "cell_type": "code",
   "execution_count": 25,
   "metadata": {
    "collapsed": false,
    "deletable": true,
    "editable": true
   },
   "outputs": [
    {
     "data": {
      "text/html": [
       "<div>\n",
       "<style>\n",
       "    .dataframe thead tr:only-child th {\n",
       "        text-align: right;\n",
       "    }\n",
       "\n",
       "    .dataframe thead th {\n",
       "        text-align: left;\n",
       "    }\n",
       "\n",
       "    .dataframe tbody tr th {\n",
       "        vertical-align: top;\n",
       "    }\n",
       "</style>\n",
       "<table border=\"1\" class=\"dataframe\">\n",
       "  <thead>\n",
       "    <tr style=\"text-align: right;\">\n",
       "      <th></th>\n",
       "      <th>no_show_int</th>\n",
       "      <th>Scholarship</th>\n",
       "      <th>Hipertension</th>\n",
       "      <th>Diabetes</th>\n",
       "      <th>Alcoholism</th>\n",
       "      <th>Handcap</th>\n",
       "      <th>SMS_received</th>\n",
       "    </tr>\n",
       "  </thead>\n",
       "  <tbody>\n",
       "    <tr>\n",
       "      <th>no_show_int</th>\n",
       "      <td>1.000000</td>\n",
       "      <td>0.029135</td>\n",
       "      <td>-0.035701</td>\n",
       "      <td>-0.015180</td>\n",
       "      <td>-0.000196</td>\n",
       "      <td>-0.006076</td>\n",
       "      <td>0.126431</td>\n",
       "    </tr>\n",
       "    <tr>\n",
       "      <th>Scholarship</th>\n",
       "      <td>0.029135</td>\n",
       "      <td>1.000000</td>\n",
       "      <td>-0.019729</td>\n",
       "      <td>-0.024894</td>\n",
       "      <td>0.035022</td>\n",
       "      <td>-0.008586</td>\n",
       "      <td>0.001194</td>\n",
       "    </tr>\n",
       "    <tr>\n",
       "      <th>Hipertension</th>\n",
       "      <td>-0.035701</td>\n",
       "      <td>-0.019729</td>\n",
       "      <td>1.000000</td>\n",
       "      <td>0.433086</td>\n",
       "      <td>0.087971</td>\n",
       "      <td>0.080083</td>\n",
       "      <td>-0.006267</td>\n",
       "    </tr>\n",
       "    <tr>\n",
       "      <th>Diabetes</th>\n",
       "      <td>-0.015180</td>\n",
       "      <td>-0.024894</td>\n",
       "      <td>0.433086</td>\n",
       "      <td>1.000000</td>\n",
       "      <td>0.018474</td>\n",
       "      <td>0.057530</td>\n",
       "      <td>-0.014550</td>\n",
       "    </tr>\n",
       "    <tr>\n",
       "      <th>Alcoholism</th>\n",
       "      <td>-0.000196</td>\n",
       "      <td>0.035022</td>\n",
       "      <td>0.087971</td>\n",
       "      <td>0.018474</td>\n",
       "      <td>1.000000</td>\n",
       "      <td>0.004648</td>\n",
       "      <td>-0.026147</td>\n",
       "    </tr>\n",
       "    <tr>\n",
       "      <th>Handcap</th>\n",
       "      <td>-0.006076</td>\n",
       "      <td>-0.008586</td>\n",
       "      <td>0.080083</td>\n",
       "      <td>0.057530</td>\n",
       "      <td>0.004648</td>\n",
       "      <td>1.000000</td>\n",
       "      <td>-0.024161</td>\n",
       "    </tr>\n",
       "    <tr>\n",
       "      <th>SMS_received</th>\n",
       "      <td>0.126431</td>\n",
       "      <td>0.001194</td>\n",
       "      <td>-0.006267</td>\n",
       "      <td>-0.014550</td>\n",
       "      <td>-0.026147</td>\n",
       "      <td>-0.024161</td>\n",
       "      <td>1.000000</td>\n",
       "    </tr>\n",
       "  </tbody>\n",
       "</table>\n",
       "</div>"
      ],
      "text/plain": [
       "              no_show_int  Scholarship  Hipertension  Diabetes  Alcoholism  \\\n",
       "no_show_int      1.000000     0.029135     -0.035701 -0.015180   -0.000196   \n",
       "Scholarship      0.029135     1.000000     -0.019729 -0.024894    0.035022   \n",
       "Hipertension    -0.035701    -0.019729      1.000000  0.433086    0.087971   \n",
       "Diabetes        -0.015180    -0.024894      0.433086  1.000000    0.018474   \n",
       "Alcoholism      -0.000196     0.035022      0.087971  0.018474    1.000000   \n",
       "Handcap         -0.006076    -0.008586      0.080083  0.057530    0.004648   \n",
       "SMS_received     0.126431     0.001194     -0.006267 -0.014550   -0.026147   \n",
       "\n",
       "               Handcap  SMS_received  \n",
       "no_show_int  -0.006076      0.126431  \n",
       "Scholarship  -0.008586      0.001194  \n",
       "Hipertension  0.080083     -0.006267  \n",
       "Diabetes      0.057530     -0.014550  \n",
       "Alcoholism    0.004648     -0.026147  \n",
       "Handcap       1.000000     -0.024161  \n",
       "SMS_received -0.024161      1.000000  "
      ]
     },
     "execution_count": 25,
     "metadata": {},
     "output_type": "execute_result"
    }
   ],
   "source": [
    "df[['no_show_int','Scholarship','Hipertension', 'Diabetes', 'Alcoholism', 'Handcap', 'SMS_received']].corr()"
   ]
  },
  {
   "cell_type": "code",
   "execution_count": 26,
   "metadata": {
    "collapsed": false,
    "deletable": true,
    "editable": true
   },
   "outputs": [
    {
     "data": {
      "text/plain": [
       "81"
      ]
     },
     "execution_count": 26,
     "metadata": {},
     "output_type": "execute_result"
    }
   ],
   "source": [
    "df['Neighbourhood'].nunique()"
   ]
  },
  {
   "cell_type": "markdown",
   "metadata": {
    "deletable": true,
    "editable": true
   },
   "source": [
    "## One Hot Encode Categorical Variables"
   ]
  },
  {
   "cell_type": "code",
   "execution_count": 27,
   "metadata": {
    "collapsed": false,
    "deletable": true,
    "editable": true
   },
   "outputs": [],
   "source": [
    "df=pd.get_dummies(df, columns=[\"Gender\", \"Neighbourhood\", 'scheduledMonth',\n",
    "       'AppointmentMonth', 'Appointmenteekday', 'ScheduledWeekday'],\n",
    "               prefix=[\"gender\", \"nhood\", 'scheduleMonth', 'appointmentMonth', 'appointmentDay', 'scheduleDay'])"
   ]
  },
  {
   "cell_type": "code",
   "execution_count": 36,
   "metadata": {
    "collapsed": false,
    "deletable": true,
    "editable": true
   },
   "outputs": [
    {
     "data": {
      "text/plain": [
       "array(['PatientId', 'AppointmentID', 'ScheduledDay', 'AppointmentDay',\n",
       "       'Age', 'Scholarship', 'Hipertension', 'Diabetes', 'Alcoholism',\n",
       "       'Handcap', 'SMS_received', 'No-show', 'no_show_int',\n",
       "       'scheduledDateTime', 'scheduledUnix', 'appointmentDateTime',\n",
       "       'appointmentUnix', 'timeToAppointment', 'days_to_appointment',\n",
       "       'gender_F', 'gender_M', 'nhood_AEROPORTO', 'nhood_ANDORINHAS',\n",
       "       'nhood_ANTÔNIO HONÓRIO', 'nhood_ARIOVALDO FAVALESSA',\n",
       "       'nhood_BARRO VERMELHO', 'nhood_BELA VISTA', 'nhood_BENTO FERREIRA',\n",
       "       'nhood_BOA VISTA', 'nhood_BONFIM', 'nhood_CARATOÍRA',\n",
       "       'nhood_CENTRO', 'nhood_COMDUSA', 'nhood_CONQUISTA',\n",
       "       'nhood_CONSOLAÇÃO', 'nhood_CRUZAMENTO', 'nhood_DA PENHA',\n",
       "       'nhood_DE LOURDES', 'nhood_DO CABRAL', 'nhood_DO MOSCOSO',\n",
       "       'nhood_DO QUADRO', 'nhood_ENSEADA DO SUÁ', 'nhood_ESTRELINHA',\n",
       "       'nhood_FONTE GRANDE', 'nhood_FORTE SÃO JOÃO', 'nhood_FRADINHOS',\n",
       "       'nhood_GOIABEIRAS', 'nhood_GRANDE VITÓRIA', 'nhood_GURIGICA',\n",
       "       'nhood_HORTO', 'nhood_ILHA DAS CAIEIRAS',\n",
       "       'nhood_ILHA DE SANTA MARIA', 'nhood_ILHA DO BOI',\n",
       "       'nhood_ILHA DO FRADE', 'nhood_ILHA DO PRÍNCIPE',\n",
       "       'nhood_ILHAS OCEÂNICAS DE TRINDADE', 'nhood_INHANGUETÁ',\n",
       "       'nhood_ITARARÉ', 'nhood_JABOUR', 'nhood_JARDIM CAMBURI',\n",
       "       'nhood_JARDIM DA PENHA', 'nhood_JESUS DE NAZARETH',\n",
       "       'nhood_JOANA D´ARC', 'nhood_JUCUTUQUARA', 'nhood_MARIA ORTIZ',\n",
       "       'nhood_MARUÍPE', 'nhood_MATA DA PRAIA', 'nhood_MONTE BELO',\n",
       "       'nhood_MORADA DE CAMBURI', 'nhood_MÁRIO CYPRESTE', 'nhood_NAZARETH',\n",
       "       'nhood_NOVA PALESTINA', 'nhood_PARQUE INDUSTRIAL',\n",
       "       'nhood_PARQUE MOSCOSO', 'nhood_PIEDADE', 'nhood_PONTAL DE CAMBURI',\n",
       "       'nhood_PRAIA DO CANTO', 'nhood_PRAIA DO SUÁ', 'nhood_REDENÇÃO',\n",
       "       'nhood_REPÚBLICA', 'nhood_RESISTÊNCIA', 'nhood_ROMÃO',\n",
       "       'nhood_SANTA CECÍLIA', 'nhood_SANTA CLARA', 'nhood_SANTA HELENA',\n",
       "       'nhood_SANTA LUÍZA', 'nhood_SANTA LÚCIA', 'nhood_SANTA MARTHA',\n",
       "       'nhood_SANTA TEREZA', 'nhood_SANTO ANDRÉ', 'nhood_SANTO ANTÔNIO',\n",
       "       'nhood_SANTOS DUMONT', 'nhood_SANTOS REIS',\n",
       "       'nhood_SEGURANÇA DO LAR', 'nhood_SOLON BORGES',\n",
       "       'nhood_SÃO BENEDITO', 'nhood_SÃO CRISTÓVÃO', 'nhood_SÃO JOSÉ',\n",
       "       'nhood_SÃO PEDRO', 'nhood_TABUAZEIRO', 'nhood_UNIVERSITÁRIO',\n",
       "       'nhood_VILA RUBIM', 'scheduleMonth_1', 'scheduleMonth_2',\n",
       "       'scheduleMonth_3', 'scheduleMonth_4', 'scheduleMonth_5',\n",
       "       'scheduleMonth_6', 'scheduleMonth_11', 'scheduleMonth_12',\n",
       "       'appointmentMonth_4', 'appointmentMonth_5', 'appointmentMonth_6',\n",
       "       'appointmentDay_0', 'appointmentDay_1', 'appointmentDay_2',\n",
       "       'appointmentDay_3', 'appointmentDay_4', 'appointmentDay_5',\n",
       "       'scheduleDay_0', 'scheduleDay_1', 'scheduleDay_2', 'scheduleDay_3',\n",
       "       'scheduleDay_4', 'scheduleDay_5'], dtype=object)"
      ]
     },
     "execution_count": 36,
     "metadata": {},
     "output_type": "execute_result"
    }
   ],
   "source": [
    "df.columns.values"
   ]
  },
  {
   "cell_type": "markdown",
   "metadata": {
    "deletable": true,
    "editable": true
   },
   "source": [
    "##### Make list of columns we use for training/prediction"
   ]
  },
  {
   "cell_type": "code",
   "execution_count": 29,
   "metadata": {
    "collapsed": false,
    "deletable": true,
    "editable": true
   },
   "outputs": [
    {
     "data": {
      "text/plain": [
       "['Age',\n",
       " 'Scholarship',\n",
       " 'Hipertension',\n",
       " 'Diabetes',\n",
       " 'Alcoholism',\n",
       " 'Handcap',\n",
       " 'SMS_received',\n",
       " 'scheduledUnix',\n",
       " 'appointmentUnix',\n",
       " 'timeToAppointment',\n",
       " 'days_to_appointment',\n",
       " 'gender_F',\n",
       " 'gender_M',\n",
       " 'nhood_AEROPORTO',\n",
       " 'nhood_ANDORINHAS',\n",
       " 'nhood_ANTÔNIO HONÓRIO',\n",
       " 'nhood_ARIOVALDO FAVALESSA',\n",
       " 'nhood_BARRO VERMELHO',\n",
       " 'nhood_BELA VISTA',\n",
       " 'nhood_BENTO FERREIRA',\n",
       " 'nhood_BOA VISTA',\n",
       " 'nhood_BONFIM',\n",
       " 'nhood_CARATOÍRA',\n",
       " 'nhood_CENTRO',\n",
       " 'nhood_COMDUSA',\n",
       " 'nhood_CONQUISTA',\n",
       " 'nhood_CONSOLAÇÃO',\n",
       " 'nhood_CRUZAMENTO',\n",
       " 'nhood_DA PENHA',\n",
       " 'nhood_DE LOURDES',\n",
       " 'nhood_DO CABRAL',\n",
       " 'nhood_DO MOSCOSO',\n",
       " 'nhood_DO QUADRO',\n",
       " 'nhood_ENSEADA DO SUÁ',\n",
       " 'nhood_ESTRELINHA',\n",
       " 'nhood_FONTE GRANDE',\n",
       " 'nhood_FORTE SÃO JOÃO',\n",
       " 'nhood_FRADINHOS',\n",
       " 'nhood_GOIABEIRAS',\n",
       " 'nhood_GRANDE VITÓRIA',\n",
       " 'nhood_GURIGICA',\n",
       " 'nhood_HORTO',\n",
       " 'nhood_ILHA DAS CAIEIRAS',\n",
       " 'nhood_ILHA DE SANTA MARIA',\n",
       " 'nhood_ILHA DO BOI',\n",
       " 'nhood_ILHA DO FRADE',\n",
       " 'nhood_ILHA DO PRÍNCIPE',\n",
       " 'nhood_ILHAS OCEÂNICAS DE TRINDADE',\n",
       " 'nhood_INHANGUETÁ',\n",
       " 'nhood_ITARARÉ',\n",
       " 'nhood_JABOUR',\n",
       " 'nhood_JARDIM CAMBURI',\n",
       " 'nhood_JARDIM DA PENHA',\n",
       " 'nhood_JESUS DE NAZARETH',\n",
       " 'nhood_JOANA D´ARC',\n",
       " 'nhood_JUCUTUQUARA',\n",
       " 'nhood_MARIA ORTIZ',\n",
       " 'nhood_MARUÍPE',\n",
       " 'nhood_MATA DA PRAIA',\n",
       " 'nhood_MONTE BELO',\n",
       " 'nhood_MORADA DE CAMBURI',\n",
       " 'nhood_MÁRIO CYPRESTE',\n",
       " 'nhood_NAZARETH',\n",
       " 'nhood_NOVA PALESTINA',\n",
       " 'nhood_PARQUE INDUSTRIAL',\n",
       " 'nhood_PARQUE MOSCOSO',\n",
       " 'nhood_PIEDADE',\n",
       " 'nhood_PONTAL DE CAMBURI',\n",
       " 'nhood_PRAIA DO CANTO',\n",
       " 'nhood_PRAIA DO SUÁ',\n",
       " 'nhood_REDENÇÃO',\n",
       " 'nhood_REPÚBLICA',\n",
       " 'nhood_RESISTÊNCIA',\n",
       " 'nhood_ROMÃO',\n",
       " 'nhood_SANTA CECÍLIA',\n",
       " 'nhood_SANTA CLARA',\n",
       " 'nhood_SANTA HELENA',\n",
       " 'nhood_SANTA LUÍZA',\n",
       " 'nhood_SANTA LÚCIA',\n",
       " 'nhood_SANTA MARTHA',\n",
       " 'nhood_SANTA TEREZA',\n",
       " 'nhood_SANTO ANDRÉ',\n",
       " 'nhood_SANTO ANTÔNIO',\n",
       " 'nhood_SANTOS DUMONT',\n",
       " 'nhood_SANTOS REIS',\n",
       " 'nhood_SEGURANÇA DO LAR',\n",
       " 'nhood_SOLON BORGES',\n",
       " 'nhood_SÃO BENEDITO',\n",
       " 'nhood_SÃO CRISTÓVÃO',\n",
       " 'nhood_SÃO JOSÉ',\n",
       " 'nhood_SÃO PEDRO',\n",
       " 'nhood_TABUAZEIRO',\n",
       " 'nhood_UNIVERSITÁRIO',\n",
       " 'nhood_VILA RUBIM',\n",
       " 'scheduleMonth_1',\n",
       " 'scheduleMonth_2',\n",
       " 'scheduleMonth_3',\n",
       " 'scheduleMonth_4',\n",
       " 'scheduleMonth_5',\n",
       " 'scheduleMonth_6',\n",
       " 'scheduleMonth_11',\n",
       " 'scheduleMonth_12',\n",
       " 'appointmentMonth_4',\n",
       " 'appointmentMonth_5',\n",
       " 'appointmentMonth_6',\n",
       " 'appointmentDay_0',\n",
       " 'appointmentDay_1',\n",
       " 'appointmentDay_2',\n",
       " 'appointmentDay_3',\n",
       " 'appointmentDay_4',\n",
       " 'appointmentDay_5',\n",
       " 'scheduleDay_0',\n",
       " 'scheduleDay_1',\n",
       " 'scheduleDay_2',\n",
       " 'scheduleDay_3',\n",
       " 'scheduleDay_4',\n",
       " 'scheduleDay_5']"
      ]
     },
     "execution_count": 29,
     "metadata": {},
     "output_type": "execute_result"
    }
   ],
   "source": [
    "\n",
    "training_columns=list(df.columns.values)\n",
    "notTraining=['PatientId', 'AppointmentID', 'ScheduledDay', 'AppointmentDay', 'No-show', 'no_show_int',\n",
    "            'scheduledDateTime', 'appointmentDateTime']\n",
    "for col in notTraining:\n",
    "    if col in training_columns:\n",
    "        training_columns.remove(col)\n",
    "    \n",
    "training_columns"
   ]
  },
  {
   "cell_type": "code",
   "execution_count": 30,
   "metadata": {
    "collapsed": false,
    "deletable": true,
    "editable": true
   },
   "outputs": [
    {
     "data": {
      "text/plain": [
       "array([dtype('int64'), dtype('int64'), dtype('int64'), dtype('int64'),\n",
       "       dtype('int64'), dtype('int64'), dtype('int64'), dtype('int64'),\n",
       "       dtype('int64'), dtype('int64'), dtype('float64'), dtype('uint8'),\n",
       "       dtype('uint8'), dtype('uint8'), dtype('uint8'), dtype('uint8'),\n",
       "       dtype('uint8'), dtype('uint8'), dtype('uint8'), dtype('uint8'),\n",
       "       dtype('uint8'), dtype('uint8'), dtype('uint8'), dtype('uint8'),\n",
       "       dtype('uint8'), dtype('uint8'), dtype('uint8'), dtype('uint8'),\n",
       "       dtype('uint8'), dtype('uint8'), dtype('uint8'), dtype('uint8'),\n",
       "       dtype('uint8'), dtype('uint8'), dtype('uint8'), dtype('uint8'),\n",
       "       dtype('uint8'), dtype('uint8'), dtype('uint8'), dtype('uint8'),\n",
       "       dtype('uint8'), dtype('uint8'), dtype('uint8'), dtype('uint8'),\n",
       "       dtype('uint8'), dtype('uint8'), dtype('uint8'), dtype('uint8'),\n",
       "       dtype('uint8'), dtype('uint8'), dtype('uint8'), dtype('uint8'),\n",
       "       dtype('uint8'), dtype('uint8'), dtype('uint8'), dtype('uint8'),\n",
       "       dtype('uint8'), dtype('uint8'), dtype('uint8'), dtype('uint8'),\n",
       "       dtype('uint8'), dtype('uint8'), dtype('uint8'), dtype('uint8'),\n",
       "       dtype('uint8'), dtype('uint8'), dtype('uint8'), dtype('uint8'),\n",
       "       dtype('uint8'), dtype('uint8'), dtype('uint8'), dtype('uint8'),\n",
       "       dtype('uint8'), dtype('uint8'), dtype('uint8'), dtype('uint8'),\n",
       "       dtype('uint8'), dtype('uint8'), dtype('uint8'), dtype('uint8'),\n",
       "       dtype('uint8'), dtype('uint8'), dtype('uint8'), dtype('uint8'),\n",
       "       dtype('uint8'), dtype('uint8'), dtype('uint8'), dtype('uint8'),\n",
       "       dtype('uint8'), dtype('uint8'), dtype('uint8'), dtype('uint8'),\n",
       "       dtype('uint8'), dtype('uint8'), dtype('uint8'), dtype('uint8'),\n",
       "       dtype('uint8'), dtype('uint8'), dtype('uint8'), dtype('uint8'),\n",
       "       dtype('uint8'), dtype('uint8'), dtype('uint8'), dtype('uint8'),\n",
       "       dtype('uint8'), dtype('uint8'), dtype('uint8'), dtype('uint8'),\n",
       "       dtype('uint8'), dtype('uint8'), dtype('uint8'), dtype('uint8'),\n",
       "       dtype('uint8'), dtype('uint8'), dtype('uint8'), dtype('uint8'),\n",
       "       dtype('uint8')], dtype=object)"
      ]
     },
     "execution_count": 30,
     "metadata": {},
     "output_type": "execute_result"
    }
   ],
   "source": [
    "df[training_columns].dtypes.values"
   ]
  },
  {
   "cell_type": "code",
   "execution_count": null,
   "metadata": {
    "collapsed": true,
    "deletable": true,
    "editable": true
   },
   "outputs": [],
   "source": []
  },
  {
   "cell_type": "markdown",
   "metadata": {},
   "source": [
    "### Lets try some classifiers without doing any data rebalancing"
   ]
  },
  {
   "cell_type": "markdown",
   "metadata": {},
   "source": [
    "##### Linear Regression"
   ]
  },
  {
   "cell_type": "code",
   "execution_count": 37,
   "metadata": {
    "collapsed": false
   },
   "outputs": [],
   "source": [
    "X_train, X_test, y_train, y_test = train_test_split(df[training_columns], df['no_show_int'], test_size=0.2, random_state=42)"
   ]
  },
  {
   "cell_type": "code",
   "execution_count": 39,
   "metadata": {
    "collapsed": false
   },
   "outputs": [
    {
     "data": {
      "text/plain": [
       "LogisticRegression(C=1.0, class_weight=None, dual=False, fit_intercept=True,\n",
       "          intercept_scaling=1, max_iter=100, multi_class='ovr', n_jobs=1,\n",
       "          penalty='l2', random_state=None, solver='liblinear', tol=0.0001,\n",
       "          verbose=0, warm_start=False)"
      ]
     },
     "execution_count": 39,
     "metadata": {},
     "output_type": "execute_result"
    }
   ],
   "source": [
    "lr = LogisticRegression()\n",
    "lr.fit(X_train, y_train)"
   ]
  },
  {
   "cell_type": "code",
   "execution_count": 40,
   "metadata": {
    "collapsed": true
   },
   "outputs": [],
   "source": [
    "y_test_pred = lr.predict(X_test)"
   ]
  },
  {
   "cell_type": "code",
   "execution_count": 43,
   "metadata": {
    "collapsed": false
   },
   "outputs": [
    {
     "data": {
      "text/plain": [
       "array([[   82,  4355],\n",
       "       [  226, 17443]])"
      ]
     },
     "execution_count": 43,
     "metadata": {},
     "output_type": "execute_result"
    }
   ],
   "source": [
    "confusion_matrix(y_test, y_test_pred, labels=[1,0])"
   ]
  },
  {
   "cell_type": "code",
   "execution_count": 44,
   "metadata": {
    "collapsed": false
   },
   "outputs": [
    {
     "data": {
      "text/plain": [
       "0.7927711933411743"
      ]
     },
     "execution_count": 44,
     "metadata": {},
     "output_type": "execute_result"
    }
   ],
   "source": [
    "accuracy_score(y_test, y_test_pred)"
   ]
  },
  {
   "cell_type": "code",
   "execution_count": 45,
   "metadata": {
    "collapsed": false
   },
   "outputs": [
    {
     "data": {
      "text/plain": [
       "0.034562697576396205"
      ]
     },
     "execution_count": 45,
     "metadata": {},
     "output_type": "execute_result"
    }
   ],
   "source": [
    "f1_score(y_test, y_test_pred)"
   ]
  },
  {
   "cell_type": "markdown",
   "metadata": {},
   "source": [
    "##### Random Forest"
   ]
  },
  {
   "cell_type": "code",
   "execution_count": 50,
   "metadata": {
    "collapsed": false
   },
   "outputs": [
    {
     "name": "stdout",
     "output_type": "stream",
     "text": [
      "Fitting 3 folds for each of 81 candidates, totalling 243 fits\n",
      "[CV] min_samples_split=2, min_samples_leaf=1, max_depth=3, max_features=1 \n",
      "[CV] min_samples_split=2, min_samples_leaf=1, max_depth=3, max_features=1 \n",
      "[CV] min_samples_split=2, min_samples_leaf=1, max_depth=3, max_features=1 \n",
      "[CV]  min_samples_split=2, min_samples_leaf=1, max_depth=3, max_features=1, total=   0.3s\n",
      "[CV]  min_samples_split=2, min_samples_leaf=1, max_depth=3, max_features=1, total=   0.3s\n",
      "[CV] min_samples_split=3, min_samples_leaf=1, max_depth=3, max_features=1 \n",
      "[CV]  min_samples_split=2, min_samples_leaf=1, max_depth=3, max_features=1, total=   0.3s\n",
      "[CV] min_samples_split=3, min_samples_leaf=1, max_depth=3, max_features=1 \n",
      "[CV] min_samples_split=3, min_samples_leaf=1, max_depth=3, max_features=1 \n",
      "[CV]  min_samples_split=3, min_samples_leaf=1, max_depth=3, max_features=1, total=   0.3s\n",
      "[CV] min_samples_split=10, min_samples_leaf=1, max_depth=3, max_features=1 \n",
      "[CV]  min_samples_split=3, min_samples_leaf=1, max_depth=3, max_features=1, total=   0.3s\n",
      "[CV] min_samples_split=10, min_samples_leaf=1, max_depth=3, max_features=1 \n",
      "[CV]  min_samples_split=3, min_samples_leaf=1, max_depth=3, max_features=1, total=   0.3s\n",
      "[CV] min_samples_split=10, min_samples_leaf=1, max_depth=3, max_features=1 \n",
      "[CV]  min_samples_split=10, min_samples_leaf=1, max_depth=3, max_features=1, total=   0.3s\n",
      "[CV] min_samples_split=2, min_samples_leaf=3, max_depth=3, max_features=1 \n",
      "[CV]  min_samples_split=10, min_samples_leaf=1, max_depth=3, max_features=1, total=   0.3s\n",
      "[CV] min_samples_split=2, min_samples_leaf=3, max_depth=3, max_features=1 \n",
      "[CV]  min_samples_split=10, min_samples_leaf=1, max_depth=3, max_features=1, total=   0.3s\n",
      "[CV] min_samples_split=2, min_samples_leaf=3, max_depth=3, max_features=1 \n",
      "[CV]  min_samples_split=2, min_samples_leaf=3, max_depth=3, max_features=1, total=   0.3s\n",
      "[CV] min_samples_split=3, min_samples_leaf=3, max_depth=3, max_features=1 \n",
      "[CV]  min_samples_split=2, min_samples_leaf=3, max_depth=3, max_features=1, total=   0.3s\n",
      "[CV] min_samples_split=3, min_samples_leaf=3, max_depth=3, max_features=1 \n",
      "[CV]  min_samples_split=2, min_samples_leaf=3, max_depth=3, max_features=1, total=   0.2s\n",
      "[CV] min_samples_split=3, min_samples_leaf=3, max_depth=3, max_features=1 \n",
      "[CV]  min_samples_split=3, min_samples_leaf=3, max_depth=3, max_features=1, total=   0.3s\n",
      "[CV] min_samples_split=10, min_samples_leaf=3, max_depth=3, max_features=1 \n",
      "[CV]  min_samples_split=3, min_samples_leaf=3, max_depth=3, max_features=1, total=   0.3s\n",
      "[CV] min_samples_split=10, min_samples_leaf=3, max_depth=3, max_features=1 \n",
      "[CV]  min_samples_split=3, min_samples_leaf=3, max_depth=3, max_features=1, total=   0.3s\n",
      "[CV] min_samples_split=10, min_samples_leaf=3, max_depth=3, max_features=1 \n",
      "[CV]  min_samples_split=10, min_samples_leaf=3, max_depth=3, max_features=1, total=   0.4s\n",
      "[CV]  min_samples_split=10, min_samples_leaf=3, max_depth=3, max_features=1, total=   0.3s\n",
      "[CV] min_samples_split=2, min_samples_leaf=10, max_depth=3, max_features=1 \n",
      "[CV] min_samples_split=2, min_samples_leaf=10, max_depth=3, max_features=1 \n",
      "[CV]  min_samples_split=10, min_samples_leaf=3, max_depth=3, max_features=1, total=   0.3s\n",
      "[CV] min_samples_split=2, min_samples_leaf=10, max_depth=3, max_features=1 \n",
      "[CV]  min_samples_split=2, min_samples_leaf=10, max_depth=3, max_features=1, total=   0.3s\n",
      "[CV] min_samples_split=3, min_samples_leaf=10, max_depth=3, max_features=1 \n",
      "[CV]  min_samples_split=2, min_samples_leaf=10, max_depth=3, max_features=1, total=   0.3s\n",
      "[CV] min_samples_split=3, min_samples_leaf=10, max_depth=3, max_features=1 \n",
      "[CV]  min_samples_split=2, min_samples_leaf=10, max_depth=3, max_features=1, total=   0.3s\n",
      "[CV] min_samples_split=3, min_samples_leaf=10, max_depth=3, max_features=1 \n",
      "[CV]  min_samples_split=3, min_samples_leaf=10, max_depth=3, max_features=1, total=   0.4s\n",
      "[CV] min_samples_split=10, min_samples_leaf=10, max_depth=3, max_features=1 \n",
      "[CV]  min_samples_split=3, min_samples_leaf=10, max_depth=3, max_features=1, total=   0.4s\n",
      "[CV] min_samples_split=10, min_samples_leaf=10, max_depth=3, max_features=1 \n",
      "[CV]  min_samples_split=3, min_samples_leaf=10, max_depth=3, max_features=1, total=   0.3s\n",
      "[CV] min_samples_split=10, min_samples_leaf=10, max_depth=3, max_features=1 \n",
      "[CV]  min_samples_split=10, min_samples_leaf=10, max_depth=3, max_features=1, total=   0.4s\n",
      "[CV] min_samples_split=2, min_samples_leaf=1, max_depth=3, max_features=3 \n",
      "[CV]  min_samples_split=10, min_samples_leaf=10, max_depth=3, max_features=1, total=   0.3s\n",
      "[CV] min_samples_split=2, min_samples_leaf=1, max_depth=3, max_features=3 \n",
      "[CV]  min_samples_split=10, min_samples_leaf=10, max_depth=3, max_features=1, total=   0.3s\n",
      "[CV] min_samples_split=2, min_samples_leaf=1, max_depth=3, max_features=3 \n",
      "[CV]  min_samples_split=2, min_samples_leaf=1, max_depth=3, max_features=3, total=   0.4s\n",
      "[CV] min_samples_split=3, min_samples_leaf=1, max_depth=3, max_features=3 \n",
      "[CV]  min_samples_split=2, min_samples_leaf=1, max_depth=3, max_features=3, total=   0.4s\n",
      "[CV]  min_samples_split=2, min_samples_leaf=1, max_depth=3, max_features=3, total=   0.3s\n",
      "[CV] min_samples_split=3, min_samples_leaf=1, max_depth=3, max_features=3 \n",
      "[CV] min_samples_split=3, min_samples_leaf=1, max_depth=3, max_features=3 \n",
      "[CV]  min_samples_split=3, min_samples_leaf=1, max_depth=3, max_features=3, total=   0.3s\n",
      "[CV] min_samples_split=10, min_samples_leaf=1, max_depth=3, max_features=3 \n",
      "[CV]  min_samples_split=3, min_samples_leaf=1, max_depth=3, max_features=3, total=   0.3s\n",
      "[CV] min_samples_split=10, min_samples_leaf=1, max_depth=3, max_features=3 \n",
      "[CV]  min_samples_split=3, min_samples_leaf=1, max_depth=3, max_features=3, total=   0.3s\n",
      "[CV] min_samples_split=10, min_samples_leaf=1, max_depth=3, max_features=3 \n",
      "[CV]  min_samples_split=10, min_samples_leaf=1, max_depth=3, max_features=3, total=   0.3s\n",
      "[CV] min_samples_split=2, min_samples_leaf=3, max_depth=3, max_features=3 \n",
      "[CV]  min_samples_split=10, min_samples_leaf=1, max_depth=3, max_features=3, total=   0.3s\n",
      "[CV] min_samples_split=2, min_samples_leaf=3, max_depth=3, max_features=3 \n",
      "[CV]  min_samples_split=10, min_samples_leaf=1, max_depth=3, max_features=3, total=   0.3s\n",
      "[CV] min_samples_split=2, min_samples_leaf=3, max_depth=3, max_features=3 \n"
     ]
    },
    {
     "name": "stderr",
     "output_type": "stream",
     "text": [
      "[Parallel(n_jobs=3)]: Done  35 tasks      | elapsed:    5.7s\n"
     ]
    },
    {
     "name": "stdout",
     "output_type": "stream",
     "text": [
      "[CV]  min_samples_split=2, min_samples_leaf=3, max_depth=3, max_features=3, total=   0.4s\n",
      "[CV] min_samples_split=3, min_samples_leaf=3, max_depth=3, max_features=3 \n",
      "[CV]  min_samples_split=2, min_samples_leaf=3, max_depth=3, max_features=3, total=   0.4s\n",
      "[CV] min_samples_split=3, min_samples_leaf=3, max_depth=3, max_features=3 \n",
      "[CV]  min_samples_split=2, min_samples_leaf=3, max_depth=3, max_features=3, total=   0.4s\n",
      "[CV] min_samples_split=3, min_samples_leaf=3, max_depth=3, max_features=3 \n",
      "[CV]  min_samples_split=3, min_samples_leaf=3, max_depth=3, max_features=3, total=   0.4s\n",
      "[CV] min_samples_split=10, min_samples_leaf=3, max_depth=3, max_features=3 \n",
      "[CV]  min_samples_split=3, min_samples_leaf=3, max_depth=3, max_features=3, total=   0.4s\n",
      "[CV] min_samples_split=10, min_samples_leaf=3, max_depth=3, max_features=3 \n",
      "[CV]  min_samples_split=3, min_samples_leaf=3, max_depth=3, max_features=3, total=   0.4s\n",
      "[CV] min_samples_split=10, min_samples_leaf=3, max_depth=3, max_features=3 \n",
      "[CV]  min_samples_split=10, min_samples_leaf=3, max_depth=3, max_features=3, total=   0.4s\n",
      "[CV] min_samples_split=2, min_samples_leaf=10, max_depth=3, max_features=3 \n",
      "[CV]  min_samples_split=10, min_samples_leaf=3, max_depth=3, max_features=3, total=   0.3s\n",
      "[CV] min_samples_split=2, min_samples_leaf=10, max_depth=3, max_features=3 \n",
      "[CV]  min_samples_split=10, min_samples_leaf=3, max_depth=3, max_features=3, total=   0.3s\n",
      "[CV] min_samples_split=2, min_samples_leaf=10, max_depth=3, max_features=3 \n",
      "[CV]  min_samples_split=2, min_samples_leaf=10, max_depth=3, max_features=3, total=   0.4s\n",
      "[CV] min_samples_split=3, min_samples_leaf=10, max_depth=3, max_features=3 \n",
      "[CV]  min_samples_split=2, min_samples_leaf=10, max_depth=3, max_features=3, total=   0.3s\n",
      "[CV] min_samples_split=3, min_samples_leaf=10, max_depth=3, max_features=3 \n",
      "[CV]  min_samples_split=2, min_samples_leaf=10, max_depth=3, max_features=3, total=   0.3s\n",
      "[CV] min_samples_split=3, min_samples_leaf=10, max_depth=3, max_features=3 \n",
      "[CV]  min_samples_split=3, min_samples_leaf=10, max_depth=3, max_features=3, total=   0.4s\n",
      "[CV] min_samples_split=10, min_samples_leaf=10, max_depth=3, max_features=3 \n",
      "[CV]  min_samples_split=3, min_samples_leaf=10, max_depth=3, max_features=3, total=   0.4s\n",
      "[CV] min_samples_split=10, min_samples_leaf=10, max_depth=3, max_features=3 \n",
      "[CV]  min_samples_split=3, min_samples_leaf=10, max_depth=3, max_features=3, total=   0.3s\n",
      "[CV] min_samples_split=10, min_samples_leaf=10, max_depth=3, max_features=3 \n",
      "[CV]  min_samples_split=10, min_samples_leaf=10, max_depth=3, max_features=3, total=   0.4s\n",
      "[CV] min_samples_split=2, min_samples_leaf=1, max_depth=3, max_features=10 \n",
      "[CV]  min_samples_split=10, min_samples_leaf=10, max_depth=3, max_features=3, total=   0.3s\n",
      "[CV] min_samples_split=2, min_samples_leaf=1, max_depth=3, max_features=10 \n",
      "[CV]  min_samples_split=10, min_samples_leaf=10, max_depth=3, max_features=3, total=   0.3s\n",
      "[CV] min_samples_split=2, min_samples_leaf=1, max_depth=3, max_features=10 \n",
      "[CV]  min_samples_split=2, min_samples_leaf=1, max_depth=3, max_features=10, total=   0.4s\n",
      "[CV] min_samples_split=3, min_samples_leaf=1, max_depth=3, max_features=10 \n",
      "[CV]  min_samples_split=2, min_samples_leaf=1, max_depth=3, max_features=10, total=   0.4s\n",
      "[CV] min_samples_split=3, min_samples_leaf=1, max_depth=3, max_features=10 \n",
      "[CV]  min_samples_split=2, min_samples_leaf=1, max_depth=3, max_features=10, total=   0.3s\n",
      "[CV] min_samples_split=3, min_samples_leaf=1, max_depth=3, max_features=10 \n",
      "[CV]  min_samples_split=3, min_samples_leaf=1, max_depth=3, max_features=10, total=   0.4s\n",
      "[CV] min_samples_split=10, min_samples_leaf=1, max_depth=3, max_features=10 \n",
      "[CV]  min_samples_split=3, min_samples_leaf=1, max_depth=3, max_features=10, total=   0.3s\n",
      "[CV] min_samples_split=10, min_samples_leaf=1, max_depth=3, max_features=10 \n",
      "[CV]  min_samples_split=3, min_samples_leaf=1, max_depth=3, max_features=10, total=   0.3s\n",
      "[CV] min_samples_split=10, min_samples_leaf=1, max_depth=3, max_features=10 \n",
      "[CV]  min_samples_split=10, min_samples_leaf=1, max_depth=3, max_features=10, total=   0.4s\n",
      "[CV] min_samples_split=2, min_samples_leaf=3, max_depth=3, max_features=10 \n",
      "[CV]  min_samples_split=10, min_samples_leaf=1, max_depth=3, max_features=10, total=   0.4s\n",
      "[CV] min_samples_split=2, min_samples_leaf=3, max_depth=3, max_features=10 \n",
      "[CV]  min_samples_split=10, min_samples_leaf=1, max_depth=3, max_features=10, total=   0.4s\n",
      "[CV] min_samples_split=2, min_samples_leaf=3, max_depth=3, max_features=10 \n",
      "[CV]  min_samples_split=2, min_samples_leaf=3, max_depth=3, max_features=10, total=   0.4s\n",
      "[CV] min_samples_split=3, min_samples_leaf=3, max_depth=3, max_features=10 \n",
      "[CV]  min_samples_split=2, min_samples_leaf=3, max_depth=3, max_features=10, total=   0.4s\n",
      "[CV] min_samples_split=3, min_samples_leaf=3, max_depth=3, max_features=10 \n",
      "[CV]  min_samples_split=2, min_samples_leaf=3, max_depth=3, max_features=10, total=   0.4s\n",
      "[CV] min_samples_split=3, min_samples_leaf=3, max_depth=3, max_features=10 \n",
      "[CV]  min_samples_split=3, min_samples_leaf=3, max_depth=3, max_features=10, total=   0.4s\n",
      "[CV] min_samples_split=10, min_samples_leaf=3, max_depth=3, max_features=10 \n",
      "[CV]  min_samples_split=3, min_samples_leaf=3, max_depth=3, max_features=10, total=   0.5s\n",
      "[CV] min_samples_split=10, min_samples_leaf=3, max_depth=3, max_features=10 \n",
      "[CV]  min_samples_split=3, min_samples_leaf=3, max_depth=3, max_features=10, total=   0.5s\n",
      "[CV] min_samples_split=10, min_samples_leaf=3, max_depth=3, max_features=10 \n",
      "[CV]  min_samples_split=10, min_samples_leaf=3, max_depth=3, max_features=10, total=   0.4s\n",
      "[CV] min_samples_split=2, min_samples_leaf=10, max_depth=3, max_features=10 \n",
      "[CV]  min_samples_split=10, min_samples_leaf=3, max_depth=3, max_features=10, total=   0.4s\n",
      "[CV] min_samples_split=2, min_samples_leaf=10, max_depth=3, max_features=10 \n",
      "[CV]  min_samples_split=10, min_samples_leaf=3, max_depth=3, max_features=10, total=   0.4s\n",
      "[CV] min_samples_split=2, min_samples_leaf=10, max_depth=3, max_features=10 \n",
      "[CV]  min_samples_split=2, min_samples_leaf=10, max_depth=3, max_features=10, total=   0.4s\n",
      "[CV] min_samples_split=3, min_samples_leaf=10, max_depth=3, max_features=10 \n",
      "[CV]  min_samples_split=2, min_samples_leaf=10, max_depth=3, max_features=10, total=   0.4s\n",
      "[CV] min_samples_split=3, min_samples_leaf=10, max_depth=3, max_features=10 \n",
      "[CV]  min_samples_split=2, min_samples_leaf=10, max_depth=3, max_features=10, total=   0.4s\n",
      "[CV] min_samples_split=3, min_samples_leaf=10, max_depth=3, max_features=10 \n",
      "[CV]  min_samples_split=3, min_samples_leaf=10, max_depth=3, max_features=10, total=   0.4s\n",
      "[CV] min_samples_split=10, min_samples_leaf=10, max_depth=3, max_features=10 \n",
      "[CV]  min_samples_split=3, min_samples_leaf=10, max_depth=3, max_features=10, total=   0.4s\n",
      "[CV] min_samples_split=10, min_samples_leaf=10, max_depth=3, max_features=10 \n",
      "[CV]  min_samples_split=3, min_samples_leaf=10, max_depth=3, max_features=10, total=   0.4s\n",
      "[CV] min_samples_split=10, min_samples_leaf=10, max_depth=3, max_features=10 \n",
      "[CV]  min_samples_split=10, min_samples_leaf=10, max_depth=3, max_features=10, total=   0.4s\n",
      "[CV] min_samples_split=2, min_samples_leaf=1, max_depth=5, max_features=1 \n",
      "[CV]  min_samples_split=10, min_samples_leaf=10, max_depth=3, max_features=10, total=   0.4s\n",
      "[CV] min_samples_split=2, min_samples_leaf=1, max_depth=5, max_features=1 \n",
      "[CV]  min_samples_split=10, min_samples_leaf=10, max_depth=3, max_features=10, total=   0.3s\n",
      "[CV] min_samples_split=2, min_samples_leaf=1, max_depth=5, max_features=1 \n",
      "[CV]  min_samples_split=2, min_samples_leaf=1, max_depth=5, max_features=1, total=   0.3s\n",
      "[CV] min_samples_split=3, min_samples_leaf=1, max_depth=5, max_features=1 \n",
      "[CV]  min_samples_split=2, min_samples_leaf=1, max_depth=5, max_features=1, total=   0.3s\n",
      "[CV] min_samples_split=3, min_samples_leaf=1, max_depth=5, max_features=1 \n",
      "[CV]  min_samples_split=2, min_samples_leaf=1, max_depth=5, max_features=1, total=   0.3s\n",
      "[CV] min_samples_split=3, min_samples_leaf=1, max_depth=5, max_features=1 \n",
      "[CV]  min_samples_split=3, min_samples_leaf=1, max_depth=5, max_features=1, total=   0.3s\n",
      "[CV] min_samples_split=10, min_samples_leaf=1, max_depth=5, max_features=1 \n",
      "[CV]  min_samples_split=3, min_samples_leaf=1, max_depth=5, max_features=1, total=   0.3s\n",
      "[CV] min_samples_split=10, min_samples_leaf=1, max_depth=5, max_features=1 \n",
      "[CV]  min_samples_split=3, min_samples_leaf=1, max_depth=5, max_features=1, total=   0.3s\n",
      "[CV] min_samples_split=10, min_samples_leaf=1, max_depth=5, max_features=1 \n",
      "[CV]  min_samples_split=10, min_samples_leaf=1, max_depth=5, max_features=1, total=   0.3s\n",
      "[CV] min_samples_split=2, min_samples_leaf=3, max_depth=5, max_features=1 \n",
      "[CV]  min_samples_split=10, min_samples_leaf=1, max_depth=5, max_features=1, total=   0.3s\n",
      "[CV]  min_samples_split=10, min_samples_leaf=1, max_depth=5, max_features=1, total=   0.3s\n",
      "[CV] min_samples_split=2, min_samples_leaf=3, max_depth=5, max_features=1 \n",
      "[CV] min_samples_split=2, min_samples_leaf=3, max_depth=5, max_features=1 \n",
      "[CV]  min_samples_split=2, min_samples_leaf=3, max_depth=5, max_features=1, total=   0.3s\n",
      "[CV] min_samples_split=3, min_samples_leaf=3, max_depth=5, max_features=1 \n",
      "[CV]  min_samples_split=2, min_samples_leaf=3, max_depth=5, max_features=1, total=   0.3s\n",
      "[CV] min_samples_split=3, min_samples_leaf=3, max_depth=5, max_features=1 \n",
      "[CV]  min_samples_split=2, min_samples_leaf=3, max_depth=5, max_features=1, total=   0.3s\n",
      "[CV] min_samples_split=3, min_samples_leaf=3, max_depth=5, max_features=1 \n",
      "[CV]  min_samples_split=3, min_samples_leaf=3, max_depth=5, max_features=1, total=   0.3s\n",
      "[CV] min_samples_split=10, min_samples_leaf=3, max_depth=5, max_features=1 \n",
      "[CV]  min_samples_split=3, min_samples_leaf=3, max_depth=5, max_features=1, total=   0.3s\n",
      "[CV] min_samples_split=10, min_samples_leaf=3, max_depth=5, max_features=1 \n",
      "[CV]  min_samples_split=3, min_samples_leaf=3, max_depth=5, max_features=1, total=   0.3s\n",
      "[CV] min_samples_split=10, min_samples_leaf=3, max_depth=5, max_features=1 \n",
      "[CV]  min_samples_split=10, min_samples_leaf=3, max_depth=5, max_features=1, total=   0.3s\n",
      "[CV] min_samples_split=2, min_samples_leaf=10, max_depth=5, max_features=1 \n",
      "[CV]  min_samples_split=10, min_samples_leaf=3, max_depth=5, max_features=1, total=   0.3s\n",
      "[CV] min_samples_split=2, min_samples_leaf=10, max_depth=5, max_features=1 \n",
      "[CV]  min_samples_split=10, min_samples_leaf=3, max_depth=5, max_features=1, total=   0.3s\n",
      "[CV] min_samples_split=2, min_samples_leaf=10, max_depth=5, max_features=1 \n",
      "[CV]  min_samples_split=2, min_samples_leaf=10, max_depth=5, max_features=1, total=   0.3s\n",
      "[CV] min_samples_split=3, min_samples_leaf=10, max_depth=5, max_features=1 \n",
      "[CV]  min_samples_split=2, min_samples_leaf=10, max_depth=5, max_features=1, total=   0.3s\n",
      "[CV] min_samples_split=3, min_samples_leaf=10, max_depth=5, max_features=1 \n",
      "[CV]  min_samples_split=2, min_samples_leaf=10, max_depth=5, max_features=1, total=   0.3s\n",
      "[CV] min_samples_split=3, min_samples_leaf=10, max_depth=5, max_features=1 \n",
      "[CV]  min_samples_split=3, min_samples_leaf=10, max_depth=5, max_features=1, total=   0.3s\n",
      "[CV] min_samples_split=10, min_samples_leaf=10, max_depth=5, max_features=1 \n",
      "[CV]  min_samples_split=3, min_samples_leaf=10, max_depth=5, max_features=1, total=   0.3s\n",
      "[CV] min_samples_split=10, min_samples_leaf=10, max_depth=5, max_features=1 \n",
      "[CV]  min_samples_split=3, min_samples_leaf=10, max_depth=5, max_features=1, total=   0.3s\n",
      "[CV] min_samples_split=10, min_samples_leaf=10, max_depth=5, max_features=1 \n",
      "[CV]  min_samples_split=10, min_samples_leaf=10, max_depth=5, max_features=1, total=   0.3s\n",
      "[CV] min_samples_split=2, min_samples_leaf=1, max_depth=5, max_features=3 \n",
      "[CV]  min_samples_split=10, min_samples_leaf=10, max_depth=5, max_features=1, total=   0.3s\n",
      "[CV] min_samples_split=2, min_samples_leaf=1, max_depth=5, max_features=3 \n",
      "[CV]  min_samples_split=10, min_samples_leaf=10, max_depth=5, max_features=1, total=   0.3s\n",
      "[CV] min_samples_split=2, min_samples_leaf=1, max_depth=5, max_features=3 \n",
      "[CV]  min_samples_split=2, min_samples_leaf=1, max_depth=5, max_features=3, total=   0.3s\n",
      "[CV] min_samples_split=3, min_samples_leaf=1, max_depth=5, max_features=3 \n",
      "[CV]  min_samples_split=2, min_samples_leaf=1, max_depth=5, max_features=3, total=   0.3s\n",
      "[CV] min_samples_split=3, min_samples_leaf=1, max_depth=5, max_features=3 \n",
      "[CV]  min_samples_split=2, min_samples_leaf=1, max_depth=5, max_features=3, total=   0.3s\n",
      "[CV] min_samples_split=3, min_samples_leaf=1, max_depth=5, max_features=3 \n",
      "[CV]  min_samples_split=3, min_samples_leaf=1, max_depth=5, max_features=3, total=   0.3s\n",
      "[CV] min_samples_split=10, min_samples_leaf=1, max_depth=5, max_features=3 \n",
      "[CV]  min_samples_split=3, min_samples_leaf=1, max_depth=5, max_features=3, total=   0.3s\n",
      "[CV] min_samples_split=10, min_samples_leaf=1, max_depth=5, max_features=3 \n",
      "[CV]  min_samples_split=3, min_samples_leaf=1, max_depth=5, max_features=3, total=   0.3s\n",
      "[CV] min_samples_split=10, min_samples_leaf=1, max_depth=5, max_features=3 \n",
      "[CV]  min_samples_split=10, min_samples_leaf=1, max_depth=5, max_features=3, total=   0.4s\n",
      "[CV] min_samples_split=2, min_samples_leaf=3, max_depth=5, max_features=3 \n",
      "[CV]  min_samples_split=10, min_samples_leaf=1, max_depth=5, max_features=3, total=   0.3s\n",
      "[CV] min_samples_split=2, min_samples_leaf=3, max_depth=5, max_features=3 \n",
      "[CV]  min_samples_split=10, min_samples_leaf=1, max_depth=5, max_features=3, total=   0.3s\n",
      "[CV] min_samples_split=2, min_samples_leaf=3, max_depth=5, max_features=3 \n",
      "[CV]  min_samples_split=2, min_samples_leaf=3, max_depth=5, max_features=3, total=   0.4s\n",
      "[CV] min_samples_split=3, min_samples_leaf=3, max_depth=5, max_features=3 \n",
      "[CV]  min_samples_split=2, min_samples_leaf=3, max_depth=5, max_features=3, total=   0.3s\n",
      "[CV] min_samples_split=3, min_samples_leaf=3, max_depth=5, max_features=3 \n",
      "[CV]  min_samples_split=2, min_samples_leaf=3, max_depth=5, max_features=3, total=   0.3s\n",
      "[CV] min_samples_split=3, min_samples_leaf=3, max_depth=5, max_features=3 \n",
      "[CV]  min_samples_split=3, min_samples_leaf=3, max_depth=5, max_features=3, total=   0.3s\n",
      "[CV] min_samples_split=10, min_samples_leaf=3, max_depth=5, max_features=3 \n",
      "[CV]  min_samples_split=3, min_samples_leaf=3, max_depth=5, max_features=3, total=   0.3s\n",
      "[CV] min_samples_split=10, min_samples_leaf=3, max_depth=5, max_features=3 \n",
      "[CV]  min_samples_split=3, min_samples_leaf=3, max_depth=5, max_features=3, total=   0.3s\n",
      "[CV] min_samples_split=10, min_samples_leaf=3, max_depth=5, max_features=3 \n",
      "[CV]  min_samples_split=10, min_samples_leaf=3, max_depth=5, max_features=3, total=   0.4s\n",
      "[CV] min_samples_split=2, min_samples_leaf=10, max_depth=5, max_features=3 \n",
      "[CV]  min_samples_split=10, min_samples_leaf=3, max_depth=5, max_features=3, total=   0.4s\n",
      "[CV] min_samples_split=2, min_samples_leaf=10, max_depth=5, max_features=3 \n",
      "[CV]  min_samples_split=10, min_samples_leaf=3, max_depth=5, max_features=3, total=   0.3s\n",
      "[CV] min_samples_split=2, min_samples_leaf=10, max_depth=5, max_features=3 \n",
      "[CV]  min_samples_split=2, min_samples_leaf=10, max_depth=5, max_features=3, total=   0.3s\n",
      "[CV] min_samples_split=3, min_samples_leaf=10, max_depth=5, max_features=3 \n",
      "[CV]  min_samples_split=2, min_samples_leaf=10, max_depth=5, max_features=3, total=   0.3s\n",
      "[CV] min_samples_split=3, min_samples_leaf=10, max_depth=5, max_features=3 \n",
      "[CV]  min_samples_split=2, min_samples_leaf=10, max_depth=5, max_features=3, total=   0.3s\n",
      "[CV] min_samples_split=3, min_samples_leaf=10, max_depth=5, max_features=3 \n",
      "[CV]  min_samples_split=3, min_samples_leaf=10, max_depth=5, max_features=3, total=   0.3s\n",
      "[CV] min_samples_split=10, min_samples_leaf=10, max_depth=5, max_features=3 \n",
      "[CV]  min_samples_split=3, min_samples_leaf=10, max_depth=5, max_features=3, total=   0.3s\n",
      "[CV] min_samples_split=10, min_samples_leaf=10, max_depth=5, max_features=3 \n",
      "[CV]  min_samples_split=3, min_samples_leaf=10, max_depth=5, max_features=3, total=   0.3s\n",
      "[CV] min_samples_split=10, min_samples_leaf=10, max_depth=5, max_features=3 \n",
      "[CV]  min_samples_split=10, min_samples_leaf=10, max_depth=5, max_features=3, total=   0.3s\n",
      "[CV] min_samples_split=2, min_samples_leaf=1, max_depth=5, max_features=10 \n",
      "[CV]  min_samples_split=10, min_samples_leaf=10, max_depth=5, max_features=3, total=   0.3s\n",
      "[CV] min_samples_split=2, min_samples_leaf=1, max_depth=5, max_features=10 \n",
      "[CV]  min_samples_split=10, min_samples_leaf=10, max_depth=5, max_features=3, total=   0.3s\n",
      "[CV] min_samples_split=2, min_samples_leaf=1, max_depth=5, max_features=10 \n",
      "[CV]  min_samples_split=2, min_samples_leaf=1, max_depth=5, max_features=10, total=   0.4s\n",
      "[CV] min_samples_split=3, min_samples_leaf=1, max_depth=5, max_features=10 \n",
      "[CV]  min_samples_split=2, min_samples_leaf=1, max_depth=5, max_features=10, total=   0.4s\n",
      "[CV] min_samples_split=3, min_samples_leaf=1, max_depth=5, max_features=10 \n",
      "[CV]  min_samples_split=2, min_samples_leaf=1, max_depth=5, max_features=10, total=   0.4s\n",
      "[CV] min_samples_split=3, min_samples_leaf=1, max_depth=5, max_features=10 \n",
      "[CV]  min_samples_split=3, min_samples_leaf=1, max_depth=5, max_features=10, total=   0.4s\n",
      "[CV] min_samples_split=10, min_samples_leaf=1, max_depth=5, max_features=10 \n",
      "[CV]  min_samples_split=3, min_samples_leaf=1, max_depth=5, max_features=10, total=   0.4s\n",
      "[CV] min_samples_split=10, min_samples_leaf=1, max_depth=5, max_features=10 \n",
      "[CV]  min_samples_split=3, min_samples_leaf=1, max_depth=5, max_features=10, total=   0.4s\n",
      "[CV] min_samples_split=10, min_samples_leaf=1, max_depth=5, max_features=10 \n",
      "[CV]  min_samples_split=10, min_samples_leaf=1, max_depth=5, max_features=10, total=   0.4s\n",
      "[CV] min_samples_split=2, min_samples_leaf=3, max_depth=5, max_features=10 \n",
      "[CV]  min_samples_split=10, min_samples_leaf=1, max_depth=5, max_features=10, total=   0.4s\n",
      "[CV] min_samples_split=2, min_samples_leaf=3, max_depth=5, max_features=10 \n",
      "[CV]  min_samples_split=10, min_samples_leaf=1, max_depth=5, max_features=10, total=   0.4s\n",
      "[CV] min_samples_split=2, min_samples_leaf=3, max_depth=5, max_features=10 \n",
      "[CV]  min_samples_split=2, min_samples_leaf=3, max_depth=5, max_features=10, total=   0.5s\n",
      "[CV] min_samples_split=3, min_samples_leaf=3, max_depth=5, max_features=10 \n",
      "[CV]  min_samples_split=2, min_samples_leaf=3, max_depth=5, max_features=10, total=   0.4s\n",
      "[CV] min_samples_split=3, min_samples_leaf=3, max_depth=5, max_features=10 \n",
      "[CV]  min_samples_split=2, min_samples_leaf=3, max_depth=5, max_features=10, total=   0.5s\n",
      "[CV] min_samples_split=3, min_samples_leaf=3, max_depth=5, max_features=10 \n",
      "[CV]  min_samples_split=3, min_samples_leaf=3, max_depth=5, max_features=10, total=   0.5s\n",
      "[CV] min_samples_split=10, min_samples_leaf=3, max_depth=5, max_features=10 \n",
      "[CV]  min_samples_split=3, min_samples_leaf=3, max_depth=5, max_features=10, total=   0.4s\n",
      "[CV] min_samples_split=10, min_samples_leaf=3, max_depth=5, max_features=10 \n",
      "[CV]  min_samples_split=3, min_samples_leaf=3, max_depth=5, max_features=10, total=   0.4s\n",
      "[CV] min_samples_split=10, min_samples_leaf=3, max_depth=5, max_features=10 \n",
      "[CV]  min_samples_split=10, min_samples_leaf=3, max_depth=5, max_features=10, total=   0.4s\n",
      "[CV]  min_samples_split=10, min_samples_leaf=3, max_depth=5, max_features=10, total=   0.4s\n",
      "[CV] min_samples_split=2, min_samples_leaf=10, max_depth=5, max_features=10 \n",
      "[CV] min_samples_split=2, min_samples_leaf=10, max_depth=5, max_features=10 \n",
      "[CV]  min_samples_split=10, min_samples_leaf=3, max_depth=5, max_features=10, total=   0.4s\n",
      "[CV] min_samples_split=2, min_samples_leaf=10, max_depth=5, max_features=10 \n",
      "[CV]  min_samples_split=2, min_samples_leaf=10, max_depth=5, max_features=10, total=   0.5s\n",
      "[CV]  min_samples_split=2, min_samples_leaf=10, max_depth=5, max_features=10, total=   0.4s\n",
      "[CV] min_samples_split=3, min_samples_leaf=10, max_depth=5, max_features=10 \n",
      "[CV] min_samples_split=3, min_samples_leaf=10, max_depth=5, max_features=10 \n",
      "[CV]  min_samples_split=2, min_samples_leaf=10, max_depth=5, max_features=10, total=   0.4s\n",
      "[CV] min_samples_split=3, min_samples_leaf=10, max_depth=5, max_features=10 \n"
     ]
    },
    {
     "name": "stderr",
     "output_type": "stream",
     "text": [
      "[Parallel(n_jobs=3)]: Done 156 tasks      | elapsed:   25.5s\n"
     ]
    },
    {
     "name": "stdout",
     "output_type": "stream",
     "text": [
      "[CV]  min_samples_split=3, min_samples_leaf=10, max_depth=5, max_features=10, total=   0.4s\n",
      "[CV] min_samples_split=10, min_samples_leaf=10, max_depth=5, max_features=10 \n",
      "[CV]  min_samples_split=3, min_samples_leaf=10, max_depth=5, max_features=10, total=   0.4s\n",
      "[CV] min_samples_split=10, min_samples_leaf=10, max_depth=5, max_features=10 \n",
      "[CV]  min_samples_split=3, min_samples_leaf=10, max_depth=5, max_features=10, total=   0.4s\n",
      "[CV] min_samples_split=10, min_samples_leaf=10, max_depth=5, max_features=10 \n",
      "[CV]  min_samples_split=10, min_samples_leaf=10, max_depth=5, max_features=10, total=   0.4s\n",
      "[CV] min_samples_split=2, min_samples_leaf=1, max_depth=None, max_features=1 \n",
      "[CV]  min_samples_split=10, min_samples_leaf=10, max_depth=5, max_features=10, total=   0.4s\n",
      "[CV] min_samples_split=2, min_samples_leaf=1, max_depth=None, max_features=1 \n",
      "[CV]  min_samples_split=10, min_samples_leaf=10, max_depth=5, max_features=10, total=   0.4s\n",
      "[CV] min_samples_split=2, min_samples_leaf=1, max_depth=None, max_features=1 \n",
      "[CV]  min_samples_split=2, min_samples_leaf=1, max_depth=None, max_features=1, total=   1.0s\n",
      "[CV]  min_samples_split=2, min_samples_leaf=1, max_depth=None, max_features=1, total=   1.0s\n",
      "[CV] min_samples_split=3, min_samples_leaf=1, max_depth=None, max_features=1 \n",
      "[CV] min_samples_split=3, min_samples_leaf=1, max_depth=None, max_features=1 \n",
      "[CV]  min_samples_split=2, min_samples_leaf=1, max_depth=None, max_features=1, total=   1.0s\n",
      "[CV] min_samples_split=3, min_samples_leaf=1, max_depth=None, max_features=1 \n",
      "[CV]  min_samples_split=3, min_samples_leaf=1, max_depth=None, max_features=1, total=   0.9s\n",
      "[CV]  min_samples_split=3, min_samples_leaf=1, max_depth=None, max_features=1, total=   0.9s\n",
      "[CV] min_samples_split=10, min_samples_leaf=1, max_depth=None, max_features=1 \n",
      "[CV] min_samples_split=10, min_samples_leaf=1, max_depth=None, max_features=1 \n",
      "[CV]  min_samples_split=3, min_samples_leaf=1, max_depth=None, max_features=1, total=   0.9s\n",
      "[CV] min_samples_split=10, min_samples_leaf=1, max_depth=None, max_features=1 \n",
      "[CV]  min_samples_split=10, min_samples_leaf=1, max_depth=None, max_features=1, total=   0.8s\n",
      "[CV] min_samples_split=2, min_samples_leaf=3, max_depth=None, max_features=1 \n",
      "[CV]  min_samples_split=10, min_samples_leaf=1, max_depth=None, max_features=1, total=   0.8s\n",
      "[CV] min_samples_split=2, min_samples_leaf=3, max_depth=None, max_features=1 \n",
      "[CV]  min_samples_split=10, min_samples_leaf=1, max_depth=None, max_features=1, total=   0.8s\n",
      "[CV] min_samples_split=2, min_samples_leaf=3, max_depth=None, max_features=1 \n",
      "[CV]  min_samples_split=2, min_samples_leaf=3, max_depth=None, max_features=1, total=   0.4s\n",
      "[CV] min_samples_split=3, min_samples_leaf=3, max_depth=None, max_features=1 \n",
      "[CV]  min_samples_split=2, min_samples_leaf=3, max_depth=None, max_features=1, total=   0.4s\n",
      "[CV]  min_samples_split=2, min_samples_leaf=3, max_depth=None, max_features=1, total=   0.4s\n",
      "[CV] min_samples_split=3, min_samples_leaf=3, max_depth=None, max_features=1 \n",
      "[CV] min_samples_split=3, min_samples_leaf=3, max_depth=None, max_features=1 \n",
      "[CV]  min_samples_split=3, min_samples_leaf=3, max_depth=None, max_features=1, total=   0.5s\n",
      "[CV] min_samples_split=10, min_samples_leaf=3, max_depth=None, max_features=1 \n",
      "[CV]  min_samples_split=3, min_samples_leaf=3, max_depth=None, max_features=1, total=   0.5s\n",
      "[CV] min_samples_split=10, min_samples_leaf=3, max_depth=None, max_features=1 \n",
      "[CV]  min_samples_split=3, min_samples_leaf=3, max_depth=None, max_features=1, total=   0.5s\n",
      "[CV] min_samples_split=10, min_samples_leaf=3, max_depth=None, max_features=1 \n",
      "[CV]  min_samples_split=10, min_samples_leaf=3, max_depth=None, max_features=1, total=   0.4s\n",
      "[CV] min_samples_split=2, min_samples_leaf=10, max_depth=None, max_features=1 \n",
      "[CV]  min_samples_split=10, min_samples_leaf=3, max_depth=None, max_features=1, total=   0.5s\n",
      "[CV]  min_samples_split=10, min_samples_leaf=3, max_depth=None, max_features=1, total=   0.5s\n",
      "[CV] min_samples_split=2, min_samples_leaf=10, max_depth=None, max_features=1 \n",
      "[CV] min_samples_split=2, min_samples_leaf=10, max_depth=None, max_features=1 \n",
      "[CV]  min_samples_split=2, min_samples_leaf=10, max_depth=None, max_features=1, total=   0.4s\n",
      "[CV] min_samples_split=3, min_samples_leaf=10, max_depth=None, max_features=1 \n",
      "[CV]  min_samples_split=2, min_samples_leaf=10, max_depth=None, max_features=1, total=   0.4s\n",
      "[CV]  min_samples_split=2, min_samples_leaf=10, max_depth=None, max_features=1, total=   0.4s\n",
      "[CV] min_samples_split=3, min_samples_leaf=10, max_depth=None, max_features=1 \n",
      "[CV] min_samples_split=3, min_samples_leaf=10, max_depth=None, max_features=1 \n",
      "[CV]  min_samples_split=3, min_samples_leaf=10, max_depth=None, max_features=1, total=   0.3s\n",
      "[CV] min_samples_split=10, min_samples_leaf=10, max_depth=None, max_features=1 \n",
      "[CV]  min_samples_split=3, min_samples_leaf=10, max_depth=None, max_features=1, total=   0.4s\n",
      "[CV] min_samples_split=10, min_samples_leaf=10, max_depth=None, max_features=1 \n",
      "[CV]  min_samples_split=3, min_samples_leaf=10, max_depth=None, max_features=1, total=   0.4s\n",
      "[CV] min_samples_split=10, min_samples_leaf=10, max_depth=None, max_features=1 \n",
      "[CV]  min_samples_split=10, min_samples_leaf=10, max_depth=None, max_features=1, total=   0.3s\n",
      "[CV] min_samples_split=2, min_samples_leaf=1, max_depth=None, max_features=3 \n",
      "[CV]  min_samples_split=10, min_samples_leaf=10, max_depth=None, max_features=1, total=   0.3s\n",
      "[CV] min_samples_split=2, min_samples_leaf=1, max_depth=None, max_features=3 \n",
      "[CV]  min_samples_split=10, min_samples_leaf=10, max_depth=None, max_features=1, total=   0.4s\n",
      "[CV] min_samples_split=2, min_samples_leaf=1, max_depth=None, max_features=3 \n",
      "[CV]  min_samples_split=2, min_samples_leaf=1, max_depth=None, max_features=3, total=   1.4s\n",
      "[CV] min_samples_split=3, min_samples_leaf=1, max_depth=None, max_features=3 \n",
      "[CV]  min_samples_split=2, min_samples_leaf=1, max_depth=None, max_features=3, total=   1.3s\n",
      "[CV] min_samples_split=3, min_samples_leaf=1, max_depth=None, max_features=3 \n",
      "[CV]  min_samples_split=2, min_samples_leaf=1, max_depth=None, max_features=3, total=   1.3s\n",
      "[CV] min_samples_split=3, min_samples_leaf=1, max_depth=None, max_features=3 \n",
      "[CV]  min_samples_split=3, min_samples_leaf=1, max_depth=None, max_features=3, total=   1.1s\n",
      "[CV] min_samples_split=10, min_samples_leaf=1, max_depth=None, max_features=3 \n",
      "[CV]  min_samples_split=3, min_samples_leaf=1, max_depth=None, max_features=3, total=   1.1s\n",
      "[CV] min_samples_split=10, min_samples_leaf=1, max_depth=None, max_features=3 \n",
      "[CV]  min_samples_split=3, min_samples_leaf=1, max_depth=None, max_features=3, total=   1.1s\n",
      "[CV] min_samples_split=10, min_samples_leaf=1, max_depth=None, max_features=3 \n",
      "[CV]  min_samples_split=10, min_samples_leaf=1, max_depth=None, max_features=3, total=   1.0s\n",
      "[CV] min_samples_split=2, min_samples_leaf=3, max_depth=None, max_features=3 \n",
      "[CV]  min_samples_split=10, min_samples_leaf=1, max_depth=None, max_features=3, total=   1.0s\n",
      "[CV] min_samples_split=2, min_samples_leaf=3, max_depth=None, max_features=3 \n",
      "[CV]  min_samples_split=10, min_samples_leaf=1, max_depth=None, max_features=3, total=   1.0s\n",
      "[CV] min_samples_split=2, min_samples_leaf=3, max_depth=None, max_features=3 \n",
      "[CV]  min_samples_split=2, min_samples_leaf=3, max_depth=None, max_features=3, total=   0.7s\n",
      "[CV] min_samples_split=3, min_samples_leaf=3, max_depth=None, max_features=3 \n",
      "[CV]  min_samples_split=2, min_samples_leaf=3, max_depth=None, max_features=3, total=   0.7s\n",
      "[CV]  min_samples_split=2, min_samples_leaf=3, max_depth=None, max_features=3, total=   0.7s\n",
      "[CV] min_samples_split=3, min_samples_leaf=3, max_depth=None, max_features=3 \n",
      "[CV] min_samples_split=3, min_samples_leaf=3, max_depth=None, max_features=3 \n",
      "[CV]  min_samples_split=3, min_samples_leaf=3, max_depth=None, max_features=3, total=   0.7s\n",
      "[CV] min_samples_split=10, min_samples_leaf=3, max_depth=None, max_features=3 \n",
      "[CV]  min_samples_split=3, min_samples_leaf=3, max_depth=None, max_features=3, total=   0.7s\n",
      "[CV] min_samples_split=10, min_samples_leaf=3, max_depth=None, max_features=3 \n",
      "[CV]  min_samples_split=3, min_samples_leaf=3, max_depth=None, max_features=3, total=   0.7s\n",
      "[CV] min_samples_split=10, min_samples_leaf=3, max_depth=None, max_features=3 \n",
      "[CV]  min_samples_split=10, min_samples_leaf=3, max_depth=None, max_features=3, total=   0.7s\n",
      "[CV] min_samples_split=2, min_samples_leaf=10, max_depth=None, max_features=3 \n",
      "[CV]  min_samples_split=10, min_samples_leaf=3, max_depth=None, max_features=3, total=   0.7s\n",
      "[CV] min_samples_split=2, min_samples_leaf=10, max_depth=None, max_features=3 \n",
      "[CV]  min_samples_split=10, min_samples_leaf=3, max_depth=None, max_features=3, total=   0.7s\n",
      "[CV] min_samples_split=2, min_samples_leaf=10, max_depth=None, max_features=3 \n",
      "[CV]  min_samples_split=2, min_samples_leaf=10, max_depth=None, max_features=3, total=   0.6s\n",
      "[CV] min_samples_split=3, min_samples_leaf=10, max_depth=None, max_features=3 \n",
      "[CV]  min_samples_split=2, min_samples_leaf=10, max_depth=None, max_features=3, total=   0.6s\n",
      "[CV] min_samples_split=3, min_samples_leaf=10, max_depth=None, max_features=3 \n",
      "[CV]  min_samples_split=2, min_samples_leaf=10, max_depth=None, max_features=3, total=   0.6s\n",
      "[CV] min_samples_split=3, min_samples_leaf=10, max_depth=None, max_features=3 \n",
      "[CV]  min_samples_split=3, min_samples_leaf=10, max_depth=None, max_features=3, total=   0.6s\n",
      "[CV] min_samples_split=10, min_samples_leaf=10, max_depth=None, max_features=3 \n",
      "[CV]  min_samples_split=3, min_samples_leaf=10, max_depth=None, max_features=3, total=   0.6s\n",
      "[CV] min_samples_split=10, min_samples_leaf=10, max_depth=None, max_features=3 \n",
      "[CV]  min_samples_split=3, min_samples_leaf=10, max_depth=None, max_features=3, total=   0.6s\n",
      "[CV] min_samples_split=10, min_samples_leaf=10, max_depth=None, max_features=3 \n",
      "[CV]  min_samples_split=10, min_samples_leaf=10, max_depth=None, max_features=3, total=   0.6s\n",
      "[CV] min_samples_split=2, min_samples_leaf=1, max_depth=None, max_features=10 \n",
      "[CV]  min_samples_split=10, min_samples_leaf=10, max_depth=None, max_features=3, total=   0.6s\n",
      "[CV] min_samples_split=2, min_samples_leaf=1, max_depth=None, max_features=10 \n",
      "[CV]  min_samples_split=10, min_samples_leaf=10, max_depth=None, max_features=3, total=   0.6s\n",
      "[CV] min_samples_split=2, min_samples_leaf=1, max_depth=None, max_features=10 \n",
      "[CV]  min_samples_split=2, min_samples_leaf=1, max_depth=None, max_features=10, total=   1.7s\n",
      "[CV] min_samples_split=3, min_samples_leaf=1, max_depth=None, max_features=10 \n",
      "[CV]  min_samples_split=2, min_samples_leaf=1, max_depth=None, max_features=10, total=   1.7s\n",
      "[CV] min_samples_split=3, min_samples_leaf=1, max_depth=None, max_features=10 \n",
      "[CV]  min_samples_split=2, min_samples_leaf=1, max_depth=None, max_features=10, total=   1.7s\n",
      "[CV] min_samples_split=3, min_samples_leaf=1, max_depth=None, max_features=10 \n",
      "[CV]  min_samples_split=3, min_samples_leaf=1, max_depth=None, max_features=10, total=   1.5s\n",
      "[CV] min_samples_split=10, min_samples_leaf=1, max_depth=None, max_features=10 \n",
      "[CV]  min_samples_split=3, min_samples_leaf=1, max_depth=None, max_features=10, total=   1.5s\n",
      "[CV] min_samples_split=10, min_samples_leaf=1, max_depth=None, max_features=10 \n",
      "[CV]  min_samples_split=3, min_samples_leaf=1, max_depth=None, max_features=10, total=   1.5s\n",
      "[CV] min_samples_split=10, min_samples_leaf=1, max_depth=None, max_features=10 \n",
      "[CV]  min_samples_split=10, min_samples_leaf=1, max_depth=None, max_features=10, total=   1.6s\n",
      "[CV] min_samples_split=2, min_samples_leaf=3, max_depth=None, max_features=10 \n",
      "[CV]  min_samples_split=10, min_samples_leaf=1, max_depth=None, max_features=10, total=   1.6s\n",
      "[CV] min_samples_split=2, min_samples_leaf=3, max_depth=None, max_features=10 \n",
      "[CV]  min_samples_split=10, min_samples_leaf=1, max_depth=None, max_features=10, total=   1.6s\n",
      "[CV] min_samples_split=2, min_samples_leaf=3, max_depth=None, max_features=10 \n",
      "[CV]  min_samples_split=2, min_samples_leaf=3, max_depth=None, max_features=10, total=   1.7s\n",
      "[CV] min_samples_split=3, min_samples_leaf=3, max_depth=None, max_features=10 \n",
      "[CV]  min_samples_split=2, min_samples_leaf=3, max_depth=None, max_features=10, total=   1.7s\n",
      "[CV] min_samples_split=3, min_samples_leaf=3, max_depth=None, max_features=10 \n",
      "[CV]  min_samples_split=2, min_samples_leaf=3, max_depth=None, max_features=10, total=   1.7s\n",
      "[CV] min_samples_split=3, min_samples_leaf=3, max_depth=None, max_features=10 \n",
      "[CV]  min_samples_split=3, min_samples_leaf=3, max_depth=None, max_features=10, total=   1.5s\n",
      "[CV] min_samples_split=10, min_samples_leaf=3, max_depth=None, max_features=10 \n",
      "[CV]  min_samples_split=3, min_samples_leaf=3, max_depth=None, max_features=10, total=   1.6s\n",
      "[CV] min_samples_split=10, min_samples_leaf=3, max_depth=None, max_features=10 \n",
      "[CV]  min_samples_split=3, min_samples_leaf=3, max_depth=None, max_features=10, total=   1.6s\n",
      "[CV] min_samples_split=10, min_samples_leaf=3, max_depth=None, max_features=10 \n",
      "[CV]  min_samples_split=10, min_samples_leaf=3, max_depth=None, max_features=10, total=   1.4s\n",
      "[CV] min_samples_split=2, min_samples_leaf=10, max_depth=None, max_features=10 \n",
      "[CV]  min_samples_split=10, min_samples_leaf=3, max_depth=None, max_features=10, total=   1.3s\n",
      "[CV] min_samples_split=2, min_samples_leaf=10, max_depth=None, max_features=10 \n",
      "[CV]  min_samples_split=10, min_samples_leaf=3, max_depth=None, max_features=10, total=   1.3s\n",
      "[CV] min_samples_split=2, min_samples_leaf=10, max_depth=None, max_features=10 \n",
      "[CV]  min_samples_split=2, min_samples_leaf=10, max_depth=None, max_features=10, total=   1.2s\n",
      "[CV] min_samples_split=3, min_samples_leaf=10, max_depth=None, max_features=10 \n",
      "[CV]  min_samples_split=2, min_samples_leaf=10, max_depth=None, max_features=10, total=   1.2s\n",
      "[CV] min_samples_split=3, min_samples_leaf=10, max_depth=None, max_features=10 \n",
      "[CV]  min_samples_split=2, min_samples_leaf=10, max_depth=None, max_features=10, total=   1.2s\n",
      "[CV] min_samples_split=3, min_samples_leaf=10, max_depth=None, max_features=10 \n",
      "[CV]  min_samples_split=3, min_samples_leaf=10, max_depth=None, max_features=10, total=   1.2s\n",
      "[CV] min_samples_split=10, min_samples_leaf=10, max_depth=None, max_features=10 \n",
      "[CV]  min_samples_split=3, min_samples_leaf=10, max_depth=None, max_features=10, total=   1.1s\n",
      "[CV] min_samples_split=10, min_samples_leaf=10, max_depth=None, max_features=10 \n",
      "[CV]  min_samples_split=3, min_samples_leaf=10, max_depth=None, max_features=10, total=   1.1s\n",
      "[CV] min_samples_split=10, min_samples_leaf=10, max_depth=None, max_features=10 \n",
      "[CV]  min_samples_split=10, min_samples_leaf=10, max_depth=None, max_features=10, total=   1.3s\n",
      "[CV]  min_samples_split=10, min_samples_leaf=10, max_depth=None, max_features=10, total=   1.2s\n",
      "[CV]  min_samples_split=10, min_samples_leaf=10, max_depth=None, max_features=10, total=   1.2s\n"
     ]
    },
    {
     "name": "stderr",
     "output_type": "stream",
     "text": [
      "[Parallel(n_jobs=3)]: Done 243 out of 243 | elapsed:   58.8s finished\n"
     ]
    },
    {
     "data": {
      "text/plain": [
       "GridSearchCV(cv=None, error_score='raise',\n",
       "       estimator=RandomForestClassifier(bootstrap=True, class_weight=None, criterion='gini',\n",
       "            max_depth=None, max_features='auto', max_leaf_nodes=None,\n",
       "            min_impurity_decrease=0.0, min_impurity_split=None,\n",
       "            min_samples_leaf=1, min_samples_split=2,\n",
       "            min_weight_fraction_leaf=0.0, n_estimators=10, n_jobs=1,\n",
       "            oob_score=False, random_state=None, verbose=0,\n",
       "            warm_start=False),\n",
       "       fit_params=None, iid=True, n_jobs=3,\n",
       "       param_grid={'min_samples_split': [2, 3, 10], 'min_samples_leaf': [1, 3, 10], 'max_depth': [3, 5, None], 'max_features': [1, 3, 10]},\n",
       "       pre_dispatch='2*n_jobs', refit=True, return_train_score=True,\n",
       "       scoring=None, verbose=2)"
      ]
     },
     "execution_count": 50,
     "metadata": {},
     "output_type": "execute_result"
    }
   ],
   "source": [
    "rf=RandomForestClassifier()\n",
    "\n",
    "param_grid = {\"max_depth\": [3, 5, None],\n",
    "              \"max_features\": [1, 3, 10],\n",
    "              \"min_samples_split\": [2, 3, 10],\n",
    "              \"min_samples_leaf\": [1, 3, 10]}\n",
    "\n",
    "bestRF=GridSearchCV(rf, param_grid, verbose=2, n_jobs=3)\n",
    "\n",
    "bestRF.fit(X_train, y_train)"
   ]
  },
  {
   "cell_type": "code",
   "execution_count": 52,
   "metadata": {
    "collapsed": true
   },
   "outputs": [],
   "source": [
    "y_test_predRF = bestRF.predict(X_test)"
   ]
  },
  {
   "cell_type": "code",
   "execution_count": 53,
   "metadata": {
    "collapsed": false
   },
   "outputs": [
    {
     "data": {
      "text/plain": [
       "array([[   91,  4346],\n",
       "       [   56, 17613]])"
      ]
     },
     "execution_count": 53,
     "metadata": {},
     "output_type": "execute_result"
    }
   ],
   "source": [
    "confusion_matrix(y_test, y_test_predRF, labels=[1,0])"
   ]
  },
  {
   "cell_type": "code",
   "execution_count": 54,
   "metadata": {
    "collapsed": false
   },
   "outputs": [
    {
     "data": {
      "text/plain": [
       "0.80086854247715555"
      ]
     },
     "execution_count": 54,
     "metadata": {},
     "output_type": "execute_result"
    }
   ],
   "source": [
    "accuracy_score(y_test, y_test_predRF)"
   ]
  },
  {
   "cell_type": "code",
   "execution_count": 55,
   "metadata": {
    "collapsed": false
   },
   "outputs": [
    {
     "data": {
      "text/plain": [
       "0.039703315881326348"
      ]
     },
     "execution_count": 55,
     "metadata": {},
     "output_type": "execute_result"
    }
   ],
   "source": [
    "f1_score(y_test, y_test_predRF)"
   ]
  },
  {
   "cell_type": "code",
   "execution_count": null,
   "metadata": {
    "collapsed": true
   },
   "outputs": [],
   "source": []
  },
  {
   "cell_type": "markdown",
   "metadata": {},
   "source": [
    "### Now let's try oversampling"
   ]
  },
  {
   "cell_type": "markdown",
   "metadata": {},
   "source": [
    "##### Linear Regression"
   ]
  },
  {
   "cell_type": "code",
   "execution_count": 57,
   "metadata": {
    "collapsed": true
   },
   "outputs": [],
   "source": [
    "ros = RandomOverSampler(random_state=0)\n",
    "X_resampled, y_resampled = ros.fit_sample(X_train, y_train)"
   ]
  },
  {
   "cell_type": "code",
   "execution_count": 58,
   "metadata": {
    "collapsed": false
   },
   "outputs": [
    {
     "data": {
      "text/plain": [
       "LogisticRegression(C=1.0, class_weight=None, dual=False, fit_intercept=True,\n",
       "          intercept_scaling=1, max_iter=100, multi_class='ovr', n_jobs=1,\n",
       "          penalty='l2', random_state=None, solver='liblinear', tol=0.0001,\n",
       "          verbose=0, warm_start=False)"
      ]
     },
     "execution_count": 58,
     "metadata": {},
     "output_type": "execute_result"
    }
   ],
   "source": [
    "lr = LogisticRegression()\n",
    "lr.fit(X_resampled, y_resampled)"
   ]
  },
  {
   "cell_type": "code",
   "execution_count": 59,
   "metadata": {
    "collapsed": true
   },
   "outputs": [],
   "source": [
    "y_test_pred = lr.predict(X_test)"
   ]
  },
  {
   "cell_type": "code",
   "execution_count": 60,
   "metadata": {
    "collapsed": false
   },
   "outputs": [
    {
     "data": {
      "text/plain": [
       "array([[ 2115,  2322],\n",
       "       [ 4536, 13133]])"
      ]
     },
     "execution_count": 60,
     "metadata": {},
     "output_type": "execute_result"
    }
   ],
   "source": [
    "confusion_matrix(y_test, y_test_pred, labels=[1,0])"
   ]
  },
  {
   "cell_type": "code",
   "execution_count": 61,
   "metadata": {
    "collapsed": false
   },
   "outputs": [
    {
     "data": {
      "text/plain": [
       "0.68976748394101151"
      ]
     },
     "execution_count": 61,
     "metadata": {},
     "output_type": "execute_result"
    }
   ],
   "source": [
    "accuracy_score(y_test, y_test_pred)"
   ]
  },
  {
   "cell_type": "code",
   "execution_count": 62,
   "metadata": {
    "collapsed": false
   },
   "outputs": [
    {
     "data": {
      "text/plain": [
       "0.38149350649350644"
      ]
     },
     "execution_count": 62,
     "metadata": {},
     "output_type": "execute_result"
    }
   ],
   "source": [
    "f1_score(y_test, y_test_pred)"
   ]
  },
  {
   "cell_type": "code",
   "execution_count": null,
   "metadata": {
    "collapsed": true
   },
   "outputs": [],
   "source": []
  },
  {
   "cell_type": "markdown",
   "metadata": {},
   "source": [
    "##### Random Forest"
   ]
  },
  {
   "cell_type": "code",
   "execution_count": 63,
   "metadata": {
    "collapsed": false,
    "scrolled": true
   },
   "outputs": [
    {
     "name": "stdout",
     "output_type": "stream",
     "text": [
      "Fitting 3 folds for each of 81 candidates, totalling 243 fits\n",
      "[CV] min_samples_split=2, min_samples_leaf=1, max_depth=3, max_features=1 \n",
      "[CV] min_samples_split=2, min_samples_leaf=1, max_depth=3, max_features=1 \n",
      "[CV] min_samples_split=2, min_samples_leaf=1, max_depth=3, max_features=1 \n",
      "[CV]  min_samples_split=2, min_samples_leaf=1, max_depth=3, max_features=1, total=   0.9s\n",
      "[CV] min_samples_split=3, min_samples_leaf=1, max_depth=3, max_features=1 \n",
      "[CV]  min_samples_split=2, min_samples_leaf=1, max_depth=3, max_features=1, total=   0.9s\n",
      "[CV] min_samples_split=3, min_samples_leaf=1, max_depth=3, max_features=1 \n",
      "[CV]  min_samples_split=2, min_samples_leaf=1, max_depth=3, max_features=1, total=   0.8s\n",
      "[CV] min_samples_split=3, min_samples_leaf=1, max_depth=3, max_features=1 \n",
      "[CV]  min_samples_split=3, min_samples_leaf=1, max_depth=3, max_features=1, total=   0.7s\n",
      "[CV] min_samples_split=10, min_samples_leaf=1, max_depth=3, max_features=1 \n",
      "[CV]  min_samples_split=3, min_samples_leaf=1, max_depth=3, max_features=1, total=   0.7s\n",
      "[CV] min_samples_split=10, min_samples_leaf=1, max_depth=3, max_features=1 \n",
      "[CV]  min_samples_split=3, min_samples_leaf=1, max_depth=3, max_features=1, total=   0.7s\n",
      "[CV] min_samples_split=10, min_samples_leaf=1, max_depth=3, max_features=1 \n",
      "[CV]  min_samples_split=10, min_samples_leaf=1, max_depth=3, max_features=1, total=   0.8s\n",
      "[CV] min_samples_split=2, min_samples_leaf=3, max_depth=3, max_features=1 \n",
      "[CV]  min_samples_split=10, min_samples_leaf=1, max_depth=3, max_features=1, total=   0.7s\n",
      "[CV] min_samples_split=2, min_samples_leaf=3, max_depth=3, max_features=1 \n",
      "[CV]  min_samples_split=10, min_samples_leaf=1, max_depth=3, max_features=1, total=   0.7s\n",
      "[CV] min_samples_split=2, min_samples_leaf=3, max_depth=3, max_features=1 \n",
      "[CV]  min_samples_split=2, min_samples_leaf=3, max_depth=3, max_features=1, total=   0.6s\n",
      "[CV] min_samples_split=3, min_samples_leaf=3, max_depth=3, max_features=1 \n",
      "[CV]  min_samples_split=2, min_samples_leaf=3, max_depth=3, max_features=1, total=   0.7s\n",
      "[CV] min_samples_split=3, min_samples_leaf=3, max_depth=3, max_features=1 \n",
      "[CV]  min_samples_split=2, min_samples_leaf=3, max_depth=3, max_features=1, total=   0.6s\n",
      "[CV] min_samples_split=3, min_samples_leaf=3, max_depth=3, max_features=1 \n",
      "[CV]  min_samples_split=3, min_samples_leaf=3, max_depth=3, max_features=1, total=   0.6s\n",
      "[CV] min_samples_split=10, min_samples_leaf=3, max_depth=3, max_features=1 \n",
      "[CV]  min_samples_split=3, min_samples_leaf=3, max_depth=3, max_features=1, total=   0.6s\n",
      "[CV] min_samples_split=10, min_samples_leaf=3, max_depth=3, max_features=1 \n",
      "[CV]  min_samples_split=3, min_samples_leaf=3, max_depth=3, max_features=1, total=   0.6s\n",
      "[CV] min_samples_split=10, min_samples_leaf=3, max_depth=3, max_features=1 \n",
      "[CV]  min_samples_split=10, min_samples_leaf=3, max_depth=3, max_features=1, total=   0.7s\n",
      "[CV] min_samples_split=2, min_samples_leaf=10, max_depth=3, max_features=1 \n",
      "[CV]  min_samples_split=10, min_samples_leaf=3, max_depth=3, max_features=1, total=   0.7s\n",
      "[CV] min_samples_split=2, min_samples_leaf=10, max_depth=3, max_features=1 \n",
      "[CV]  min_samples_split=10, min_samples_leaf=3, max_depth=3, max_features=1, total=   0.6s\n",
      "[CV] min_samples_split=2, min_samples_leaf=10, max_depth=3, max_features=1 \n",
      "[CV]  min_samples_split=2, min_samples_leaf=10, max_depth=3, max_features=1, total=   0.6s\n",
      "[CV] min_samples_split=3, min_samples_leaf=10, max_depth=3, max_features=1 \n",
      "[CV]  min_samples_split=2, min_samples_leaf=10, max_depth=3, max_features=1, total=   0.6s\n",
      "[CV] min_samples_split=3, min_samples_leaf=10, max_depth=3, max_features=1 \n",
      "[CV]  min_samples_split=2, min_samples_leaf=10, max_depth=3, max_features=1, total=   0.6s\n",
      "[CV] min_samples_split=3, min_samples_leaf=10, max_depth=3, max_features=1 \n",
      "[CV]  min_samples_split=3, min_samples_leaf=10, max_depth=3, max_features=1, total=   0.8s\n",
      "[CV] min_samples_split=10, min_samples_leaf=10, max_depth=3, max_features=1 \n",
      "[CV]  min_samples_split=3, min_samples_leaf=10, max_depth=3, max_features=1, total=   0.7s\n",
      "[CV] min_samples_split=10, min_samples_leaf=10, max_depth=3, max_features=1 \n",
      "[CV]  min_samples_split=3, min_samples_leaf=10, max_depth=3, max_features=1, total=   0.7s\n",
      "[CV] min_samples_split=10, min_samples_leaf=10, max_depth=3, max_features=1 \n",
      "[CV]  min_samples_split=10, min_samples_leaf=10, max_depth=3, max_features=1, total=   0.7s\n",
      "[CV] min_samples_split=2, min_samples_leaf=1, max_depth=3, max_features=3 \n",
      "[CV]  min_samples_split=10, min_samples_leaf=10, max_depth=3, max_features=1, total=   0.7s\n",
      "[CV] min_samples_split=2, min_samples_leaf=1, max_depth=3, max_features=3 \n",
      "[CV]  min_samples_split=10, min_samples_leaf=10, max_depth=3, max_features=1, total=   0.6s\n",
      "[CV] min_samples_split=2, min_samples_leaf=1, max_depth=3, max_features=3 \n",
      "[CV]  min_samples_split=2, min_samples_leaf=1, max_depth=3, max_features=3, total=   0.8s\n",
      "[CV] min_samples_split=3, min_samples_leaf=1, max_depth=3, max_features=3 \n",
      "[CV]  min_samples_split=2, min_samples_leaf=1, max_depth=3, max_features=3, total=   0.7s\n",
      "[CV] min_samples_split=3, min_samples_leaf=1, max_depth=3, max_features=3 \n",
      "[CV]  min_samples_split=2, min_samples_leaf=1, max_depth=3, max_features=3, total=   0.7s\n",
      "[CV] min_samples_split=3, min_samples_leaf=1, max_depth=3, max_features=3 \n",
      "[CV]  min_samples_split=3, min_samples_leaf=1, max_depth=3, max_features=3, total=   0.7s\n",
      "[CV] min_samples_split=10, min_samples_leaf=1, max_depth=3, max_features=3 \n",
      "[CV]  min_samples_split=3, min_samples_leaf=1, max_depth=3, max_features=3, total=   0.7s\n",
      "[CV] min_samples_split=10, min_samples_leaf=1, max_depth=3, max_features=3 \n",
      "[CV]  min_samples_split=3, min_samples_leaf=1, max_depth=3, max_features=3, total=   0.7s\n",
      "[CV] min_samples_split=10, min_samples_leaf=1, max_depth=3, max_features=3 \n",
      "[CV]  min_samples_split=10, min_samples_leaf=1, max_depth=3, max_features=3, total=   0.7s\n",
      "[CV] min_samples_split=2, min_samples_leaf=3, max_depth=3, max_features=3 \n",
      "[CV]  min_samples_split=10, min_samples_leaf=1, max_depth=3, max_features=3, total=   0.7s\n",
      "[CV] min_samples_split=2, min_samples_leaf=3, max_depth=3, max_features=3 \n"
     ]
    },
    {
     "name": "stderr",
     "output_type": "stream",
     "text": [
      "[Parallel(n_jobs=3)]: Done  35 tasks      | elapsed:   11.8s\n"
     ]
    },
    {
     "name": "stdout",
     "output_type": "stream",
     "text": [
      "[CV]  min_samples_split=10, min_samples_leaf=1, max_depth=3, max_features=3, total=   0.7s\n",
      "[CV] min_samples_split=2, min_samples_leaf=3, max_depth=3, max_features=3 \n",
      "[CV]  min_samples_split=2, min_samples_leaf=3, max_depth=3, max_features=3, total=   0.7s\n",
      "[CV] min_samples_split=3, min_samples_leaf=3, max_depth=3, max_features=3 \n",
      "[CV]  min_samples_split=2, min_samples_leaf=3, max_depth=3, max_features=3, total=   0.8s\n",
      "[CV] min_samples_split=3, min_samples_leaf=3, max_depth=3, max_features=3 \n",
      "[CV]  min_samples_split=2, min_samples_leaf=3, max_depth=3, max_features=3, total=   0.7s\n",
      "[CV] min_samples_split=3, min_samples_leaf=3, max_depth=3, max_features=3 \n",
      "[CV]  min_samples_split=3, min_samples_leaf=3, max_depth=3, max_features=3, total=   0.7s\n",
      "[CV] min_samples_split=10, min_samples_leaf=3, max_depth=3, max_features=3 \n",
      "[CV]  min_samples_split=3, min_samples_leaf=3, max_depth=3, max_features=3, total=   0.7s\n",
      "[CV] min_samples_split=10, min_samples_leaf=3, max_depth=3, max_features=3 \n",
      "[CV]  min_samples_split=3, min_samples_leaf=3, max_depth=3, max_features=3, total=   0.7s\n",
      "[CV] min_samples_split=10, min_samples_leaf=3, max_depth=3, max_features=3 \n",
      "[CV]  min_samples_split=10, min_samples_leaf=3, max_depth=3, max_features=3, total=   0.7s\n",
      "[CV] min_samples_split=2, min_samples_leaf=10, max_depth=3, max_features=3 \n",
      "[CV]  min_samples_split=10, min_samples_leaf=3, max_depth=3, max_features=3, total=   0.7s\n",
      "[CV] min_samples_split=2, min_samples_leaf=10, max_depth=3, max_features=3 \n",
      "[CV]  min_samples_split=10, min_samples_leaf=3, max_depth=3, max_features=3, total=   0.8s\n",
      "[CV] min_samples_split=2, min_samples_leaf=10, max_depth=3, max_features=3 \n",
      "[CV]  min_samples_split=2, min_samples_leaf=10, max_depth=3, max_features=3, total=   0.7s\n",
      "[CV] min_samples_split=3, min_samples_leaf=10, max_depth=3, max_features=3 \n",
      "[CV]  min_samples_split=2, min_samples_leaf=10, max_depth=3, max_features=3, total=   0.7s\n",
      "[CV] min_samples_split=3, min_samples_leaf=10, max_depth=3, max_features=3 \n",
      "[CV]  min_samples_split=2, min_samples_leaf=10, max_depth=3, max_features=3, total=   0.8s\n",
      "[CV] min_samples_split=3, min_samples_leaf=10, max_depth=3, max_features=3 \n",
      "[CV]  min_samples_split=3, min_samples_leaf=10, max_depth=3, max_features=3, total=   0.9s\n",
      "[CV] min_samples_split=10, min_samples_leaf=10, max_depth=3, max_features=3 \n",
      "[CV]  min_samples_split=3, min_samples_leaf=10, max_depth=3, max_features=3, total=   1.0s\n",
      "[CV] min_samples_split=10, min_samples_leaf=10, max_depth=3, max_features=3 \n",
      "[CV]  min_samples_split=3, min_samples_leaf=10, max_depth=3, max_features=3, total=   0.9s\n",
      "[CV] min_samples_split=10, min_samples_leaf=10, max_depth=3, max_features=3 \n",
      "[CV]  min_samples_split=10, min_samples_leaf=10, max_depth=3, max_features=3, total=   0.8s\n",
      "[CV] min_samples_split=2, min_samples_leaf=1, max_depth=3, max_features=10 \n",
      "[CV]  min_samples_split=10, min_samples_leaf=10, max_depth=3, max_features=3, total=   0.8s\n",
      "[CV] min_samples_split=2, min_samples_leaf=1, max_depth=3, max_features=10 \n",
      "[CV]  min_samples_split=10, min_samples_leaf=10, max_depth=3, max_features=3, total=   0.8s\n",
      "[CV] min_samples_split=2, min_samples_leaf=1, max_depth=3, max_features=10 \n",
      "[CV]  min_samples_split=2, min_samples_leaf=1, max_depth=3, max_features=10, total=   0.9s\n",
      "[CV] min_samples_split=3, min_samples_leaf=1, max_depth=3, max_features=10 \n",
      "[CV]  min_samples_split=2, min_samples_leaf=1, max_depth=3, max_features=10, total=   0.9s\n",
      "[CV] min_samples_split=3, min_samples_leaf=1, max_depth=3, max_features=10 \n",
      "[CV]  min_samples_split=2, min_samples_leaf=1, max_depth=3, max_features=10, total=   0.9s\n",
      "[CV] min_samples_split=3, min_samples_leaf=1, max_depth=3, max_features=10 \n",
      "[CV]  min_samples_split=3, min_samples_leaf=1, max_depth=3, max_features=10, total=   0.9s\n",
      "[CV] min_samples_split=10, min_samples_leaf=1, max_depth=3, max_features=10 \n",
      "[CV]  min_samples_split=3, min_samples_leaf=1, max_depth=3, max_features=10, total=   0.9s\n",
      "[CV] min_samples_split=10, min_samples_leaf=1, max_depth=3, max_features=10 \n",
      "[CV]  min_samples_split=3, min_samples_leaf=1, max_depth=3, max_features=10, total=   0.9s\n",
      "[CV] min_samples_split=10, min_samples_leaf=1, max_depth=3, max_features=10 \n",
      "[CV]  min_samples_split=10, min_samples_leaf=1, max_depth=3, max_features=10, total=   0.9s\n",
      "[CV] min_samples_split=2, min_samples_leaf=3, max_depth=3, max_features=10 \n",
      "[CV]  min_samples_split=10, min_samples_leaf=1, max_depth=3, max_features=10, total=   0.9s\n",
      "[CV] min_samples_split=2, min_samples_leaf=3, max_depth=3, max_features=10 \n",
      "[CV]  min_samples_split=10, min_samples_leaf=1, max_depth=3, max_features=10, total=   0.9s\n",
      "[CV] min_samples_split=2, min_samples_leaf=3, max_depth=3, max_features=10 \n",
      "[CV]  min_samples_split=2, min_samples_leaf=3, max_depth=3, max_features=10, total=   0.9s\n",
      "[CV] min_samples_split=3, min_samples_leaf=3, max_depth=3, max_features=10 \n",
      "[CV]  min_samples_split=2, min_samples_leaf=3, max_depth=3, max_features=10, total=   0.9s\n",
      "[CV] min_samples_split=3, min_samples_leaf=3, max_depth=3, max_features=10 \n",
      "[CV]  min_samples_split=2, min_samples_leaf=3, max_depth=3, max_features=10, total=   0.9s\n",
      "[CV] min_samples_split=3, min_samples_leaf=3, max_depth=3, max_features=10 \n",
      "[CV]  min_samples_split=3, min_samples_leaf=3, max_depth=3, max_features=10, total=   1.1s\n",
      "[CV] min_samples_split=10, min_samples_leaf=3, max_depth=3, max_features=10 \n",
      "[CV]  min_samples_split=3, min_samples_leaf=3, max_depth=3, max_features=10, total=   1.0s\n",
      "[CV] min_samples_split=10, min_samples_leaf=3, max_depth=3, max_features=10 \n",
      "[CV]  min_samples_split=3, min_samples_leaf=3, max_depth=3, max_features=10, total=   0.9s\n",
      "[CV] min_samples_split=10, min_samples_leaf=3, max_depth=3, max_features=10 \n",
      "[CV]  min_samples_split=10, min_samples_leaf=3, max_depth=3, max_features=10, total=   0.8s\n",
      "[CV] min_samples_split=2, min_samples_leaf=10, max_depth=3, max_features=10 \n",
      "[CV]  min_samples_split=10, min_samples_leaf=3, max_depth=3, max_features=10, total=   0.9s\n",
      "[CV] min_samples_split=2, min_samples_leaf=10, max_depth=3, max_features=10 \n",
      "[CV]  min_samples_split=10, min_samples_leaf=3, max_depth=3, max_features=10, total=   0.9s\n",
      "[CV] min_samples_split=2, min_samples_leaf=10, max_depth=3, max_features=10 \n",
      "[CV]  min_samples_split=2, min_samples_leaf=10, max_depth=3, max_features=10, total=   1.1s\n",
      "[CV] min_samples_split=3, min_samples_leaf=10, max_depth=3, max_features=10 \n",
      "[CV]  min_samples_split=2, min_samples_leaf=10, max_depth=3, max_features=10, total=   1.2s\n",
      "[CV] min_samples_split=3, min_samples_leaf=10, max_depth=3, max_features=10 \n",
      "[CV]  min_samples_split=2, min_samples_leaf=10, max_depth=3, max_features=10, total=   1.2s\n",
      "[CV] min_samples_split=3, min_samples_leaf=10, max_depth=3, max_features=10 \n",
      "[CV]  min_samples_split=3, min_samples_leaf=10, max_depth=3, max_features=10, total=   0.9s\n",
      "[CV] min_samples_split=10, min_samples_leaf=10, max_depth=3, max_features=10 \n",
      "[CV]  min_samples_split=3, min_samples_leaf=10, max_depth=3, max_features=10, total=   0.8s\n",
      "[CV] min_samples_split=10, min_samples_leaf=10, max_depth=3, max_features=10 \n",
      "[CV]  min_samples_split=3, min_samples_leaf=10, max_depth=3, max_features=10, total=   0.8s\n",
      "[CV] min_samples_split=10, min_samples_leaf=10, max_depth=3, max_features=10 \n",
      "[CV]  min_samples_split=10, min_samples_leaf=10, max_depth=3, max_features=10, total=   0.8s\n",
      "[CV] min_samples_split=2, min_samples_leaf=1, max_depth=5, max_features=1 \n",
      "[CV]  min_samples_split=10, min_samples_leaf=10, max_depth=3, max_features=10, total=   1.0s\n",
      "[CV] min_samples_split=2, min_samples_leaf=1, max_depth=5, max_features=1 \n",
      "[CV]  min_samples_split=10, min_samples_leaf=10, max_depth=3, max_features=10, total=   1.2s\n",
      "[CV] min_samples_split=2, min_samples_leaf=1, max_depth=5, max_features=1 \n",
      "[CV]  min_samples_split=2, min_samples_leaf=1, max_depth=5, max_features=1, total=   0.9s\n",
      "[CV] min_samples_split=3, min_samples_leaf=1, max_depth=5, max_features=1 \n",
      "[CV]  min_samples_split=2, min_samples_leaf=1, max_depth=5, max_features=1, total=   0.7s\n",
      "[CV] min_samples_split=3, min_samples_leaf=1, max_depth=5, max_features=1 \n",
      "[CV]  min_samples_split=2, min_samples_leaf=1, max_depth=5, max_features=1, total=   0.6s\n",
      "[CV] min_samples_split=3, min_samples_leaf=1, max_depth=5, max_features=1 \n",
      "[CV]  min_samples_split=3, min_samples_leaf=1, max_depth=5, max_features=1, total=   0.7s\n",
      "[CV] min_samples_split=10, min_samples_leaf=1, max_depth=5, max_features=1 \n",
      "[CV]  min_samples_split=3, min_samples_leaf=1, max_depth=5, max_features=1, total=   0.8s\n",
      "[CV] min_samples_split=10, min_samples_leaf=1, max_depth=5, max_features=1 \n",
      "[CV]  min_samples_split=3, min_samples_leaf=1, max_depth=5, max_features=1, total=   0.9s\n",
      "[CV] min_samples_split=10, min_samples_leaf=1, max_depth=5, max_features=1 \n",
      "[CV]  min_samples_split=10, min_samples_leaf=1, max_depth=5, max_features=1, total=   0.8s\n",
      "[CV] min_samples_split=2, min_samples_leaf=3, max_depth=5, max_features=1 \n",
      "[CV]  min_samples_split=10, min_samples_leaf=1, max_depth=5, max_features=1, total=   0.8s\n",
      "[CV] min_samples_split=2, min_samples_leaf=3, max_depth=5, max_features=1 \n",
      "[CV]  min_samples_split=10, min_samples_leaf=1, max_depth=5, max_features=1, total=   0.8s\n",
      "[CV] min_samples_split=2, min_samples_leaf=3, max_depth=5, max_features=1 \n",
      "[CV]  min_samples_split=2, min_samples_leaf=3, max_depth=5, max_features=1, total=   0.7s\n",
      "[CV] min_samples_split=3, min_samples_leaf=3, max_depth=5, max_features=1 \n",
      "[CV]  min_samples_split=2, min_samples_leaf=3, max_depth=5, max_features=1, total=   0.8s\n",
      "[CV] min_samples_split=3, min_samples_leaf=3, max_depth=5, max_features=1 \n",
      "[CV]  min_samples_split=2, min_samples_leaf=3, max_depth=5, max_features=1, total=   0.9s\n",
      "[CV] min_samples_split=3, min_samples_leaf=3, max_depth=5, max_features=1 \n",
      "[CV]  min_samples_split=3, min_samples_leaf=3, max_depth=5, max_features=1, total=   0.7s\n",
      "[CV] min_samples_split=10, min_samples_leaf=3, max_depth=5, max_features=1 \n",
      "[CV]  min_samples_split=3, min_samples_leaf=3, max_depth=5, max_features=1, total=   0.7s\n",
      "[CV] min_samples_split=10, min_samples_leaf=3, max_depth=5, max_features=1 \n",
      "[CV]  min_samples_split=3, min_samples_leaf=3, max_depth=5, max_features=1, total=   0.7s\n",
      "[CV] min_samples_split=10, min_samples_leaf=3, max_depth=5, max_features=1 \n",
      "[CV]  min_samples_split=10, min_samples_leaf=3, max_depth=5, max_features=1, total=   0.6s\n",
      "[CV] min_samples_split=2, min_samples_leaf=10, max_depth=5, max_features=1 \n",
      "[CV]  min_samples_split=10, min_samples_leaf=3, max_depth=5, max_features=1, total=   0.6s\n",
      "[CV] min_samples_split=2, min_samples_leaf=10, max_depth=5, max_features=1 \n",
      "[CV]  min_samples_split=10, min_samples_leaf=3, max_depth=5, max_features=1, total=   0.7s\n",
      "[CV] min_samples_split=2, min_samples_leaf=10, max_depth=5, max_features=1 \n",
      "[CV]  min_samples_split=2, min_samples_leaf=10, max_depth=5, max_features=1, total=   0.7s\n",
      "[CV] min_samples_split=3, min_samples_leaf=10, max_depth=5, max_features=1 \n",
      "[CV]  min_samples_split=2, min_samples_leaf=10, max_depth=5, max_features=1, total=   0.8s\n",
      "[CV] min_samples_split=3, min_samples_leaf=10, max_depth=5, max_features=1 \n",
      "[CV]  min_samples_split=2, min_samples_leaf=10, max_depth=5, max_features=1, total=   0.7s\n",
      "[CV] min_samples_split=3, min_samples_leaf=10, max_depth=5, max_features=1 \n",
      "[CV]  min_samples_split=3, min_samples_leaf=10, max_depth=5, max_features=1, total=   0.6s\n",
      "[CV] min_samples_split=10, min_samples_leaf=10, max_depth=5, max_features=1 \n",
      "[CV]  min_samples_split=3, min_samples_leaf=10, max_depth=5, max_features=1, total=   0.7s\n",
      "[CV] min_samples_split=10, min_samples_leaf=10, max_depth=5, max_features=1 \n",
      "[CV]  min_samples_split=3, min_samples_leaf=10, max_depth=5, max_features=1, total=   0.8s\n",
      "[CV] min_samples_split=10, min_samples_leaf=10, max_depth=5, max_features=1 \n",
      "[CV]  min_samples_split=10, min_samples_leaf=10, max_depth=5, max_features=1, total=   0.8s\n",
      "[CV] min_samples_split=2, min_samples_leaf=1, max_depth=5, max_features=3 \n",
      "[CV]  min_samples_split=10, min_samples_leaf=10, max_depth=5, max_features=1, total=   0.6s\n",
      "[CV] min_samples_split=2, min_samples_leaf=1, max_depth=5, max_features=3 \n",
      "[CV]  min_samples_split=10, min_samples_leaf=10, max_depth=5, max_features=1, total=   0.6s\n",
      "[CV] min_samples_split=2, min_samples_leaf=1, max_depth=5, max_features=3 \n",
      "[CV]  min_samples_split=2, min_samples_leaf=1, max_depth=5, max_features=3, total=   0.9s\n",
      "[CV] min_samples_split=3, min_samples_leaf=1, max_depth=5, max_features=3 \n",
      "[CV]  min_samples_split=2, min_samples_leaf=1, max_depth=5, max_features=3, total=   1.1s\n",
      "[CV] min_samples_split=3, min_samples_leaf=1, max_depth=5, max_features=3 \n",
      "[CV]  min_samples_split=2, min_samples_leaf=1, max_depth=5, max_features=3, total=   1.0s\n",
      "[CV] min_samples_split=3, min_samples_leaf=1, max_depth=5, max_features=3 \n",
      "[CV]  min_samples_split=3, min_samples_leaf=1, max_depth=5, max_features=3, total=   0.9s\n",
      "[CV] min_samples_split=10, min_samples_leaf=1, max_depth=5, max_features=3 \n",
      "[CV]  min_samples_split=3, min_samples_leaf=1, max_depth=5, max_features=3, total=   0.8s\n",
      "[CV] min_samples_split=10, min_samples_leaf=1, max_depth=5, max_features=3 \n",
      "[CV]  min_samples_split=3, min_samples_leaf=1, max_depth=5, max_features=3, total=   0.8s\n",
      "[CV] min_samples_split=10, min_samples_leaf=1, max_depth=5, max_features=3 \n",
      "[CV]  min_samples_split=10, min_samples_leaf=1, max_depth=5, max_features=3, total=   0.9s\n",
      "[CV] min_samples_split=2, min_samples_leaf=3, max_depth=5, max_features=3 \n",
      "[CV]  min_samples_split=10, min_samples_leaf=1, max_depth=5, max_features=3, total=   1.0s\n",
      "[CV] min_samples_split=2, min_samples_leaf=3, max_depth=5, max_features=3 \n",
      "[CV]  min_samples_split=10, min_samples_leaf=1, max_depth=5, max_features=3, total=   0.9s\n",
      "[CV] min_samples_split=2, min_samples_leaf=3, max_depth=5, max_features=3 \n",
      "[CV]  min_samples_split=2, min_samples_leaf=3, max_depth=5, max_features=3, total=   0.7s\n",
      "[CV] min_samples_split=3, min_samples_leaf=3, max_depth=5, max_features=3 \n",
      "[CV]  min_samples_split=2, min_samples_leaf=3, max_depth=5, max_features=3, total=   0.7s\n",
      "[CV] min_samples_split=3, min_samples_leaf=3, max_depth=5, max_features=3 \n",
      "[CV]  min_samples_split=2, min_samples_leaf=3, max_depth=5, max_features=3, total=   0.7s\n",
      "[CV] min_samples_split=3, min_samples_leaf=3, max_depth=5, max_features=3 \n",
      "[CV]  min_samples_split=3, min_samples_leaf=3, max_depth=5, max_features=3, total=   0.7s\n",
      "[CV] min_samples_split=10, min_samples_leaf=3, max_depth=5, max_features=3 \n",
      "[CV]  min_samples_split=3, min_samples_leaf=3, max_depth=5, max_features=3, total=   0.7s\n",
      "[CV] min_samples_split=10, min_samples_leaf=3, max_depth=5, max_features=3 \n",
      "[CV]  min_samples_split=3, min_samples_leaf=3, max_depth=5, max_features=3, total=   0.7s\n",
      "[CV] min_samples_split=10, min_samples_leaf=3, max_depth=5, max_features=3 \n",
      "[CV]  min_samples_split=10, min_samples_leaf=3, max_depth=5, max_features=3, total=   0.6s\n",
      "[CV] min_samples_split=2, min_samples_leaf=10, max_depth=5, max_features=3 \n",
      "[CV]  min_samples_split=10, min_samples_leaf=3, max_depth=5, max_features=3, total=   0.7s\n",
      "[CV] min_samples_split=2, min_samples_leaf=10, max_depth=5, max_features=3 \n",
      "[CV]  min_samples_split=10, min_samples_leaf=3, max_depth=5, max_features=3, total=   0.7s\n",
      "[CV] min_samples_split=2, min_samples_leaf=10, max_depth=5, max_features=3 \n",
      "[CV]  min_samples_split=2, min_samples_leaf=10, max_depth=5, max_features=3, total=   0.6s\n",
      "[CV] min_samples_split=3, min_samples_leaf=10, max_depth=5, max_features=3 \n",
      "[CV]  min_samples_split=2, min_samples_leaf=10, max_depth=5, max_features=3, total=   0.7s\n",
      "[CV] min_samples_split=3, min_samples_leaf=10, max_depth=5, max_features=3 \n",
      "[CV]  min_samples_split=2, min_samples_leaf=10, max_depth=5, max_features=3, total=   0.7s\n",
      "[CV] min_samples_split=3, min_samples_leaf=10, max_depth=5, max_features=3 \n",
      "[CV]  min_samples_split=3, min_samples_leaf=10, max_depth=5, max_features=3, total=   0.6s\n",
      "[CV] min_samples_split=10, min_samples_leaf=10, max_depth=5, max_features=3 \n",
      "[CV]  min_samples_split=3, min_samples_leaf=10, max_depth=5, max_features=3, total=   0.7s\n",
      "[CV] min_samples_split=10, min_samples_leaf=10, max_depth=5, max_features=3 \n",
      "[CV]  min_samples_split=3, min_samples_leaf=10, max_depth=5, max_features=3, total=   0.6s\n",
      "[CV] min_samples_split=10, min_samples_leaf=10, max_depth=5, max_features=3 \n",
      "[CV]  min_samples_split=10, min_samples_leaf=10, max_depth=5, max_features=3, total=   0.7s\n",
      "[CV] min_samples_split=2, min_samples_leaf=1, max_depth=5, max_features=10 \n",
      "[CV]  min_samples_split=10, min_samples_leaf=10, max_depth=5, max_features=3, total=   0.7s\n",
      "[CV] min_samples_split=2, min_samples_leaf=1, max_depth=5, max_features=10 \n",
      "[CV]  min_samples_split=10, min_samples_leaf=10, max_depth=5, max_features=3, total=   0.7s\n",
      "[CV] min_samples_split=2, min_samples_leaf=1, max_depth=5, max_features=10 \n",
      "[CV]  min_samples_split=2, min_samples_leaf=1, max_depth=5, max_features=10, total=   1.1s\n",
      "[CV] min_samples_split=3, min_samples_leaf=1, max_depth=5, max_features=10 \n",
      "[CV]  min_samples_split=2, min_samples_leaf=1, max_depth=5, max_features=10, total=   1.1s\n",
      "[CV] min_samples_split=3, min_samples_leaf=1, max_depth=5, max_features=10 \n",
      "[CV]  min_samples_split=2, min_samples_leaf=1, max_depth=5, max_features=10, total=   1.1s\n",
      "[CV] min_samples_split=3, min_samples_leaf=1, max_depth=5, max_features=10 \n",
      "[CV]  min_samples_split=3, min_samples_leaf=1, max_depth=5, max_features=10, total=   1.1s\n",
      "[CV] min_samples_split=10, min_samples_leaf=1, max_depth=5, max_features=10 \n",
      "[CV]  min_samples_split=3, min_samples_leaf=1, max_depth=5, max_features=10, total=   1.1s\n",
      "[CV] min_samples_split=10, min_samples_leaf=1, max_depth=5, max_features=10 \n",
      "[CV]  min_samples_split=3, min_samples_leaf=1, max_depth=5, max_features=10, total=   1.1s\n",
      "[CV] min_samples_split=10, min_samples_leaf=1, max_depth=5, max_features=10 \n",
      "[CV]  min_samples_split=10, min_samples_leaf=1, max_depth=5, max_features=10, total=   1.1s\n",
      "[CV] min_samples_split=2, min_samples_leaf=3, max_depth=5, max_features=10 \n",
      "[CV]  min_samples_split=10, min_samples_leaf=1, max_depth=5, max_features=10, total=   1.1s\n",
      "[CV] min_samples_split=2, min_samples_leaf=3, max_depth=5, max_features=10 \n",
      "[CV]  min_samples_split=10, min_samples_leaf=1, max_depth=5, max_features=10, total=   1.1s\n",
      "[CV] min_samples_split=2, min_samples_leaf=3, max_depth=5, max_features=10 \n",
      "[CV]  min_samples_split=2, min_samples_leaf=3, max_depth=5, max_features=10, total=   1.0s\n",
      "[CV] min_samples_split=3, min_samples_leaf=3, max_depth=5, max_features=10 \n",
      "[CV]  min_samples_split=2, min_samples_leaf=3, max_depth=5, max_features=10, total=   1.0s\n",
      "[CV] min_samples_split=3, min_samples_leaf=3, max_depth=5, max_features=10 \n",
      "[CV]  min_samples_split=2, min_samples_leaf=3, max_depth=5, max_features=10, total=   1.0s\n",
      "[CV] min_samples_split=3, min_samples_leaf=3, max_depth=5, max_features=10 \n",
      "[CV]  min_samples_split=3, min_samples_leaf=3, max_depth=5, max_features=10, total=   1.0s\n",
      "[CV] min_samples_split=10, min_samples_leaf=3, max_depth=5, max_features=10 \n",
      "[CV]  min_samples_split=3, min_samples_leaf=3, max_depth=5, max_features=10, total=   1.0s\n",
      "[CV] min_samples_split=10, min_samples_leaf=3, max_depth=5, max_features=10 \n",
      "[CV]  min_samples_split=3, min_samples_leaf=3, max_depth=5, max_features=10, total=   1.1s\n",
      "[CV] min_samples_split=10, min_samples_leaf=3, max_depth=5, max_features=10 \n",
      "[CV]  min_samples_split=10, min_samples_leaf=3, max_depth=5, max_features=10, total=   1.0s\n",
      "[CV] min_samples_split=2, min_samples_leaf=10, max_depth=5, max_features=10 \n",
      "[CV]  min_samples_split=10, min_samples_leaf=3, max_depth=5, max_features=10, total=   1.1s\n",
      "[CV] min_samples_split=2, min_samples_leaf=10, max_depth=5, max_features=10 \n",
      "[CV]  min_samples_split=10, min_samples_leaf=3, max_depth=5, max_features=10, total=   1.1s\n",
      "[CV] min_samples_split=2, min_samples_leaf=10, max_depth=5, max_features=10 \n",
      "[CV]  min_samples_split=2, min_samples_leaf=10, max_depth=5, max_features=10, total=   1.1s\n",
      "[CV] min_samples_split=3, min_samples_leaf=10, max_depth=5, max_features=10 \n",
      "[CV]  min_samples_split=2, min_samples_leaf=10, max_depth=5, max_features=10, total=   1.1s\n",
      "[CV] min_samples_split=3, min_samples_leaf=10, max_depth=5, max_features=10 \n",
      "[CV]  min_samples_split=2, min_samples_leaf=10, max_depth=5, max_features=10, total=   1.1s\n",
      "[CV] min_samples_split=3, min_samples_leaf=10, max_depth=5, max_features=10 \n"
     ]
    },
    {
     "name": "stderr",
     "output_type": "stream",
     "text": [
      "[Parallel(n_jobs=3)]: Done 156 tasks      | elapsed:   53.7s\n"
     ]
    },
    {
     "name": "stdout",
     "output_type": "stream",
     "text": [
      "[CV]  min_samples_split=3, min_samples_leaf=10, max_depth=5, max_features=10, total=   1.0s\n",
      "[CV] min_samples_split=10, min_samples_leaf=10, max_depth=5, max_features=10 \n",
      "[CV]  min_samples_split=3, min_samples_leaf=10, max_depth=5, max_features=10, total=   1.1s\n",
      "[CV] min_samples_split=10, min_samples_leaf=10, max_depth=5, max_features=10 \n",
      "[CV]  min_samples_split=3, min_samples_leaf=10, max_depth=5, max_features=10, total=   1.0s\n",
      "[CV] min_samples_split=10, min_samples_leaf=10, max_depth=5, max_features=10 \n",
      "[CV]  min_samples_split=10, min_samples_leaf=10, max_depth=5, max_features=10, total=   1.1s\n",
      "[CV] min_samples_split=2, min_samples_leaf=1, max_depth=None, max_features=1 \n",
      "[CV]  min_samples_split=10, min_samples_leaf=10, max_depth=5, max_features=10, total=   1.1s\n",
      "[CV] min_samples_split=2, min_samples_leaf=1, max_depth=None, max_features=1 \n",
      "[CV]  min_samples_split=10, min_samples_leaf=10, max_depth=5, max_features=10, total=   1.1s\n",
      "[CV] min_samples_split=2, min_samples_leaf=1, max_depth=None, max_features=1 \n",
      "[CV]  min_samples_split=2, min_samples_leaf=1, max_depth=None, max_features=1, total=   1.8s\n",
      "[CV] min_samples_split=3, min_samples_leaf=1, max_depth=None, max_features=1 \n",
      "[CV]  min_samples_split=2, min_samples_leaf=1, max_depth=None, max_features=1, total=   1.8s\n",
      "[CV] min_samples_split=3, min_samples_leaf=1, max_depth=None, max_features=1 \n",
      "[CV]  min_samples_split=2, min_samples_leaf=1, max_depth=None, max_features=1, total=   1.7s\n",
      "[CV] min_samples_split=3, min_samples_leaf=1, max_depth=None, max_features=1 \n",
      "[CV]  min_samples_split=3, min_samples_leaf=1, max_depth=None, max_features=1, total=   1.8s\n",
      "[CV] min_samples_split=10, min_samples_leaf=1, max_depth=None, max_features=1 \n",
      "[CV]  min_samples_split=3, min_samples_leaf=1, max_depth=None, max_features=1, total=   1.8s\n",
      "[CV] min_samples_split=10, min_samples_leaf=1, max_depth=None, max_features=1 \n",
      "[CV]  min_samples_split=3, min_samples_leaf=1, max_depth=None, max_features=1, total=   1.8s\n",
      "[CV] min_samples_split=10, min_samples_leaf=1, max_depth=None, max_features=1 \n",
      "[CV]  min_samples_split=10, min_samples_leaf=1, max_depth=None, max_features=1, total=   1.6s\n",
      "[CV] min_samples_split=2, min_samples_leaf=3, max_depth=None, max_features=1 \n",
      "[CV]  min_samples_split=10, min_samples_leaf=1, max_depth=None, max_features=1, total=   1.6s\n",
      "[CV] min_samples_split=2, min_samples_leaf=3, max_depth=None, max_features=1 \n",
      "[CV]  min_samples_split=10, min_samples_leaf=1, max_depth=None, max_features=1, total=   1.6s\n",
      "[CV] min_samples_split=2, min_samples_leaf=3, max_depth=None, max_features=1 \n",
      "[CV]  min_samples_split=2, min_samples_leaf=3, max_depth=None, max_features=1, total=   1.0s\n",
      "[CV] min_samples_split=3, min_samples_leaf=3, max_depth=None, max_features=1 \n",
      "[CV]  min_samples_split=2, min_samples_leaf=3, max_depth=None, max_features=1, total=   1.2s\n",
      "[CV] min_samples_split=3, min_samples_leaf=3, max_depth=None, max_features=1 \n",
      "[CV]  min_samples_split=2, min_samples_leaf=3, max_depth=None, max_features=1, total=   1.1s\n",
      "[CV] min_samples_split=3, min_samples_leaf=3, max_depth=None, max_features=1 \n",
      "[CV]  min_samples_split=3, min_samples_leaf=3, max_depth=None, max_features=1, total=   1.0s\n",
      "[CV] min_samples_split=10, min_samples_leaf=3, max_depth=None, max_features=1 \n",
      "[CV]  min_samples_split=3, min_samples_leaf=3, max_depth=None, max_features=1, total=   1.0s\n",
      "[CV] min_samples_split=10, min_samples_leaf=3, max_depth=None, max_features=1 \n",
      "[CV]  min_samples_split=3, min_samples_leaf=3, max_depth=None, max_features=1, total=   1.1s\n",
      "[CV] min_samples_split=10, min_samples_leaf=3, max_depth=None, max_features=1 \n",
      "[CV]  min_samples_split=10, min_samples_leaf=3, max_depth=None, max_features=1, total=   1.1s\n",
      "[CV] min_samples_split=2, min_samples_leaf=10, max_depth=None, max_features=1 \n",
      "[CV]  min_samples_split=10, min_samples_leaf=3, max_depth=None, max_features=1, total=   1.0s\n",
      "[CV] min_samples_split=2, min_samples_leaf=10, max_depth=None, max_features=1 \n",
      "[CV]  min_samples_split=2, min_samples_leaf=10, max_depth=None, max_features=1, total=   0.8s\n",
      "[CV] min_samples_split=2, min_samples_leaf=10, max_depth=None, max_features=1 \n",
      "[CV]  min_samples_split=10, min_samples_leaf=3, max_depth=None, max_features=1, total=   1.1s\n",
      "[CV] min_samples_split=3, min_samples_leaf=10, max_depth=None, max_features=1 \n",
      "[CV]  min_samples_split=2, min_samples_leaf=10, max_depth=None, max_features=1, total=   0.8s\n",
      "[CV] min_samples_split=3, min_samples_leaf=10, max_depth=None, max_features=1 \n",
      "[CV]  min_samples_split=2, min_samples_leaf=10, max_depth=None, max_features=1, total=   0.7s\n",
      "[CV] min_samples_split=3, min_samples_leaf=10, max_depth=None, max_features=1 \n",
      "[CV]  min_samples_split=3, min_samples_leaf=10, max_depth=None, max_features=1, total=   0.8s\n",
      "[CV] min_samples_split=10, min_samples_leaf=10, max_depth=None, max_features=1 \n",
      "[CV]  min_samples_split=3, min_samples_leaf=10, max_depth=None, max_features=1, total=   0.7s\n",
      "[CV] min_samples_split=10, min_samples_leaf=10, max_depth=None, max_features=1 \n",
      "[CV]  min_samples_split=3, min_samples_leaf=10, max_depth=None, max_features=1, total=   0.8s\n",
      "[CV] min_samples_split=10, min_samples_leaf=10, max_depth=None, max_features=1 \n",
      "[CV]  min_samples_split=10, min_samples_leaf=10, max_depth=None, max_features=1, total=   0.7s\n",
      "[CV] min_samples_split=2, min_samples_leaf=1, max_depth=None, max_features=3 \n",
      "[CV]  min_samples_split=10, min_samples_leaf=10, max_depth=None, max_features=1, total=   0.8s\n",
      "[CV] min_samples_split=2, min_samples_leaf=1, max_depth=None, max_features=3 \n",
      "[CV]  min_samples_split=10, min_samples_leaf=10, max_depth=None, max_features=1, total=   0.8s\n",
      "[CV] min_samples_split=2, min_samples_leaf=1, max_depth=None, max_features=3 \n",
      "[CV]  min_samples_split=2, min_samples_leaf=1, max_depth=None, max_features=3, total=   2.1s\n",
      "[CV] min_samples_split=3, min_samples_leaf=1, max_depth=None, max_features=3 \n",
      "[CV]  min_samples_split=2, min_samples_leaf=1, max_depth=None, max_features=3, total=   2.1s\n",
      "[CV] min_samples_split=3, min_samples_leaf=1, max_depth=None, max_features=3 \n",
      "[CV]  min_samples_split=2, min_samples_leaf=1, max_depth=None, max_features=3, total=   2.1s\n",
      "[CV] min_samples_split=3, min_samples_leaf=1, max_depth=None, max_features=3 \n",
      "[CV]  min_samples_split=3, min_samples_leaf=1, max_depth=None, max_features=3, total=   2.1s\n",
      "[CV] min_samples_split=10, min_samples_leaf=1, max_depth=None, max_features=3 \n",
      "[CV]  min_samples_split=3, min_samples_leaf=1, max_depth=None, max_features=3, total=   2.1s\n",
      "[CV] min_samples_split=10, min_samples_leaf=1, max_depth=None, max_features=3 \n",
      "[CV]  min_samples_split=3, min_samples_leaf=1, max_depth=None, max_features=3, total=   2.1s\n",
      "[CV] min_samples_split=10, min_samples_leaf=1, max_depth=None, max_features=3 \n",
      "[CV]  min_samples_split=10, min_samples_leaf=1, max_depth=None, max_features=3, total=   2.0s\n",
      "[CV] min_samples_split=2, min_samples_leaf=3, max_depth=None, max_features=3 \n",
      "[CV]  min_samples_split=10, min_samples_leaf=1, max_depth=None, max_features=3, total=   1.9s\n",
      "[CV] min_samples_split=2, min_samples_leaf=3, max_depth=None, max_features=3 \n",
      "[CV]  min_samples_split=10, min_samples_leaf=1, max_depth=None, max_features=3, total=   1.9s\n",
      "[CV] min_samples_split=2, min_samples_leaf=3, max_depth=None, max_features=3 \n",
      "[CV]  min_samples_split=2, min_samples_leaf=3, max_depth=None, max_features=3, total=   1.6s\n",
      "[CV] min_samples_split=3, min_samples_leaf=3, max_depth=None, max_features=3 \n",
      "[CV]  min_samples_split=2, min_samples_leaf=3, max_depth=None, max_features=3, total=   1.6s\n",
      "[CV] min_samples_split=3, min_samples_leaf=3, max_depth=None, max_features=3 \n",
      "[CV]  min_samples_split=2, min_samples_leaf=3, max_depth=None, max_features=3, total=   1.6s\n",
      "[CV] min_samples_split=3, min_samples_leaf=3, max_depth=None, max_features=3 \n",
      "[CV]  min_samples_split=3, min_samples_leaf=3, max_depth=None, max_features=3, total=   1.6s\n",
      "[CV] min_samples_split=10, min_samples_leaf=3, max_depth=None, max_features=3 \n",
      "[CV]  min_samples_split=3, min_samples_leaf=3, max_depth=None, max_features=3, total=   1.6s\n",
      "[CV] min_samples_split=10, min_samples_leaf=3, max_depth=None, max_features=3 \n",
      "[CV]  min_samples_split=3, min_samples_leaf=3, max_depth=None, max_features=3, total=   1.6s\n",
      "[CV] min_samples_split=10, min_samples_leaf=3, max_depth=None, max_features=3 \n",
      "[CV]  min_samples_split=10, min_samples_leaf=3, max_depth=None, max_features=3, total=   1.5s\n",
      "[CV] min_samples_split=2, min_samples_leaf=10, max_depth=None, max_features=3 \n",
      "[CV]  min_samples_split=10, min_samples_leaf=3, max_depth=None, max_features=3, total=   1.6s\n",
      "[CV] min_samples_split=2, min_samples_leaf=10, max_depth=None, max_features=3 \n",
      "[CV]  min_samples_split=10, min_samples_leaf=3, max_depth=None, max_features=3, total=   1.6s\n",
      "[CV] min_samples_split=2, min_samples_leaf=10, max_depth=None, max_features=3 \n",
      "[CV]  min_samples_split=2, min_samples_leaf=10, max_depth=None, max_features=3, total=   1.3s\n",
      "[CV] min_samples_split=3, min_samples_leaf=10, max_depth=None, max_features=3 \n",
      "[CV]  min_samples_split=2, min_samples_leaf=10, max_depth=None, max_features=3, total=   1.3s\n",
      "[CV] min_samples_split=3, min_samples_leaf=10, max_depth=None, max_features=3 \n",
      "[CV]  min_samples_split=2, min_samples_leaf=10, max_depth=None, max_features=3, total=   1.4s\n",
      "[CV] min_samples_split=3, min_samples_leaf=10, max_depth=None, max_features=3 \n",
      "[CV]  min_samples_split=3, min_samples_leaf=10, max_depth=None, max_features=3, total=   1.3s\n",
      "[CV] min_samples_split=10, min_samples_leaf=10, max_depth=None, max_features=3 \n",
      "[CV]  min_samples_split=3, min_samples_leaf=10, max_depth=None, max_features=3, total=   1.3s\n",
      "[CV] min_samples_split=10, min_samples_leaf=10, max_depth=None, max_features=3 \n",
      "[CV]  min_samples_split=3, min_samples_leaf=10, max_depth=None, max_features=3, total=   1.3s\n",
      "[CV] min_samples_split=10, min_samples_leaf=10, max_depth=None, max_features=3 \n",
      "[CV]  min_samples_split=10, min_samples_leaf=10, max_depth=None, max_features=3, total=   1.3s\n",
      "[CV] min_samples_split=2, min_samples_leaf=1, max_depth=None, max_features=10 \n",
      "[CV]  min_samples_split=10, min_samples_leaf=10, max_depth=None, max_features=3, total=   1.4s\n",
      "[CV] min_samples_split=2, min_samples_leaf=1, max_depth=None, max_features=10 \n",
      "[CV]  min_samples_split=10, min_samples_leaf=10, max_depth=None, max_features=3, total=   1.3s\n",
      "[CV] min_samples_split=2, min_samples_leaf=1, max_depth=None, max_features=10 \n",
      "[CV]  min_samples_split=2, min_samples_leaf=1, max_depth=None, max_features=10, total=   3.2s\n",
      "[CV] min_samples_split=3, min_samples_leaf=1, max_depth=None, max_features=10 \n",
      "[CV]  min_samples_split=2, min_samples_leaf=1, max_depth=None, max_features=10, total=   3.1s\n",
      "[CV] min_samples_split=3, min_samples_leaf=1, max_depth=None, max_features=10 \n",
      "[CV]  min_samples_split=2, min_samples_leaf=1, max_depth=None, max_features=10, total=   3.3s\n",
      "[CV] min_samples_split=3, min_samples_leaf=1, max_depth=None, max_features=10 \n",
      "[CV]  min_samples_split=3, min_samples_leaf=1, max_depth=None, max_features=10, total=   3.1s\n",
      "[CV] min_samples_split=10, min_samples_leaf=1, max_depth=None, max_features=10 \n",
      "[CV]  min_samples_split=3, min_samples_leaf=1, max_depth=None, max_features=10, total=   3.3s\n",
      "[CV] min_samples_split=10, min_samples_leaf=1, max_depth=None, max_features=10 \n",
      "[CV]  min_samples_split=3, min_samples_leaf=1, max_depth=None, max_features=10, total=   3.3s\n",
      "[CV] min_samples_split=10, min_samples_leaf=1, max_depth=None, max_features=10 \n",
      "[CV]  min_samples_split=10, min_samples_leaf=1, max_depth=None, max_features=10, total=   3.0s\n",
      "[CV] min_samples_split=2, min_samples_leaf=3, max_depth=None, max_features=10 \n",
      "[CV]  min_samples_split=10, min_samples_leaf=1, max_depth=None, max_features=10, total=   3.1s\n",
      "[CV] min_samples_split=2, min_samples_leaf=3, max_depth=None, max_features=10 \n",
      "[CV]  min_samples_split=10, min_samples_leaf=1, max_depth=None, max_features=10, total=   3.1s\n",
      "[CV] min_samples_split=2, min_samples_leaf=3, max_depth=None, max_features=10 \n",
      "[CV]  min_samples_split=2, min_samples_leaf=3, max_depth=None, max_features=10, total=   2.9s\n",
      "[CV] min_samples_split=3, min_samples_leaf=3, max_depth=None, max_features=10 \n",
      "[CV]  min_samples_split=2, min_samples_leaf=3, max_depth=None, max_features=10, total=   2.9s\n",
      "[CV] min_samples_split=3, min_samples_leaf=3, max_depth=None, max_features=10 \n",
      "[CV]  min_samples_split=2, min_samples_leaf=3, max_depth=None, max_features=10, total=   2.9s\n",
      "[CV] min_samples_split=3, min_samples_leaf=3, max_depth=None, max_features=10 \n",
      "[CV]  min_samples_split=3, min_samples_leaf=3, max_depth=None, max_features=10, total=   2.9s\n",
      "[CV] min_samples_split=10, min_samples_leaf=3, max_depth=None, max_features=10 \n",
      "[CV]  min_samples_split=3, min_samples_leaf=3, max_depth=None, max_features=10, total=   2.9s\n",
      "[CV] min_samples_split=10, min_samples_leaf=3, max_depth=None, max_features=10 \n",
      "[CV]  min_samples_split=3, min_samples_leaf=3, max_depth=None, max_features=10, total=   2.9s\n",
      "[CV] min_samples_split=10, min_samples_leaf=3, max_depth=None, max_features=10 \n",
      "[CV]  min_samples_split=10, min_samples_leaf=3, max_depth=None, max_features=10, total=   2.9s\n",
      "[CV] min_samples_split=2, min_samples_leaf=10, max_depth=None, max_features=10 \n",
      "[CV]  min_samples_split=10, min_samples_leaf=3, max_depth=None, max_features=10, total=   2.8s\n",
      "[CV] min_samples_split=2, min_samples_leaf=10, max_depth=None, max_features=10 \n",
      "[CV]  min_samples_split=10, min_samples_leaf=3, max_depth=None, max_features=10, total=   2.9s\n",
      "[CV] min_samples_split=2, min_samples_leaf=10, max_depth=None, max_features=10 \n",
      "[CV]  min_samples_split=2, min_samples_leaf=10, max_depth=None, max_features=10, total=   2.5s\n",
      "[CV] min_samples_split=3, min_samples_leaf=10, max_depth=None, max_features=10 \n",
      "[CV]  min_samples_split=2, min_samples_leaf=10, max_depth=None, max_features=10, total=   2.6s\n",
      "[CV] min_samples_split=3, min_samples_leaf=10, max_depth=None, max_features=10 \n",
      "[CV]  min_samples_split=2, min_samples_leaf=10, max_depth=None, max_features=10, total=   2.5s\n",
      "[CV] min_samples_split=3, min_samples_leaf=10, max_depth=None, max_features=10 \n",
      "[CV]  min_samples_split=3, min_samples_leaf=10, max_depth=None, max_features=10, total=   2.6s\n",
      "[CV] min_samples_split=10, min_samples_leaf=10, max_depth=None, max_features=10 \n",
      "[CV]  min_samples_split=3, min_samples_leaf=10, max_depth=None, max_features=10, total=   2.5s\n",
      "[CV] min_samples_split=10, min_samples_leaf=10, max_depth=None, max_features=10 \n",
      "[CV]  min_samples_split=3, min_samples_leaf=10, max_depth=None, max_features=10, total=   2.6s\n",
      "[CV] min_samples_split=10, min_samples_leaf=10, max_depth=None, max_features=10 \n",
      "[CV]  min_samples_split=10, min_samples_leaf=10, max_depth=None, max_features=10, total=   2.6s\n",
      "[CV]  min_samples_split=10, min_samples_leaf=10, max_depth=None, max_features=10, total=   2.6s\n",
      "[CV]  min_samples_split=10, min_samples_leaf=10, max_depth=None, max_features=10, total=   2.5s\n"
     ]
    },
    {
     "name": "stderr",
     "output_type": "stream",
     "text": [
      "[Parallel(n_jobs=3)]: Done 243 out of 243 | elapsed:  1.9min finished\n"
     ]
    },
    {
     "data": {
      "text/plain": [
       "GridSearchCV(cv=None, error_score='raise',\n",
       "       estimator=RandomForestClassifier(bootstrap=True, class_weight=None, criterion='gini',\n",
       "            max_depth=None, max_features='auto', max_leaf_nodes=None,\n",
       "            min_impurity_decrease=0.0, min_impurity_split=None,\n",
       "            min_samples_leaf=1, min_samples_split=2,\n",
       "            min_weight_fraction_leaf=0.0, n_estimators=10, n_jobs=1,\n",
       "            oob_score=False, random_state=None, verbose=0,\n",
       "            warm_start=False),\n",
       "       fit_params=None, iid=True, n_jobs=3,\n",
       "       param_grid={'min_samples_split': [2, 3, 10], 'min_samples_leaf': [1, 3, 10], 'max_depth': [3, 5, None], 'max_features': [1, 3, 10]},\n",
       "       pre_dispatch='2*n_jobs', refit=True, return_train_score=True,\n",
       "       scoring=None, verbose=2)"
      ]
     },
     "execution_count": 63,
     "metadata": {},
     "output_type": "execute_result"
    }
   ],
   "source": [
    "rf=RandomForestClassifier()\n",
    "\n",
    "param_grid = {\"max_depth\": [3, 5, None],\n",
    "              \"max_features\": [1, 3, 10],\n",
    "              \"min_samples_split\": [2, 3, 10],\n",
    "              \"min_samples_leaf\": [1, 3, 10]}\n",
    "\n",
    "bestRF=GridSearchCV(rf, param_grid, verbose=2, n_jobs=3)\n",
    "\n",
    "bestRF.fit(X_resampled, y_resampled)"
   ]
  },
  {
   "cell_type": "code",
   "execution_count": 69,
   "metadata": {
    "collapsed": true
   },
   "outputs": [],
   "source": [
    "y_test_predRF = bestRF.predict(X_test)\n",
    "\n"
   ]
  },
  {
   "cell_type": "code",
   "execution_count": 65,
   "metadata": {
    "collapsed": true
   },
   "outputs": [
    {
     "data": {
      "text/plain": [
       "array([[ 1384,  3053],\n",
       "       [ 1820, 15849]])"
      ]
     },
     "execution_count": 65,
     "metadata": {},
     "output_type": "execute_result"
    }
   ],
   "source": [
    "confusion_matrix(y_test, y_test_predRF, labels=[1,0])\n",
    "\n"
   ]
  },
  {
   "cell_type": "code",
   "execution_count": 66,
   "metadata": {
    "collapsed": false,
    "scrolled": true
   },
   "outputs": [
    {
     "data": {
      "text/plain": [
       "0.77956210983443408"
      ]
     },
     "execution_count": 66,
     "metadata": {},
     "output_type": "execute_result"
    }
   ],
   "source": [
    "accuracy_score(y_test, y_test_predRF)\n",
    "\n"
   ]
  },
  {
   "cell_type": "code",
   "execution_count": 67,
   "metadata": {
    "collapsed": false
   },
   "outputs": [
    {
     "data": {
      "text/plain": [
       "0.36225624918204424"
      ]
     },
     "execution_count": 67,
     "metadata": {},
     "output_type": "execute_result"
    }
   ],
   "source": [
    "f1_score(y_test, y_test_predRF)\n",
    "\n"
   ]
  },
  {
   "cell_type": "code",
   "execution_count": null,
   "metadata": {
    "collapsed": true
   },
   "outputs": [],
   "source": [
    "\n",
    "\n"
   ]
  },
  {
   "cell_type": "markdown",
   "metadata": {},
   "source": [
    "### Now undersampling"
   ]
  },
  {
   "cell_type": "markdown",
   "metadata": {},
   "source": [
    "\n",
    "\n",
    "##### Linear Regression\n",
    "\n"
   ]
  },
  {
   "cell_type": "code",
   "execution_count": 73,
   "metadata": {
    "collapsed": false
   },
   "outputs": [],
   "source": [
    "rus = RandomUnderSampler(random_state=42)\n",
    "X_under, y_under = rus.fit_sample(X_train, y_train)"
   ]
  },
  {
   "cell_type": "code",
   "execution_count": 74,
   "metadata": {
    "collapsed": false
   },
   "outputs": [
    {
     "data": {
      "text/plain": [
       "LogisticRegression(C=1.0, class_weight=None, dual=False, fit_intercept=True,\n",
       "          intercept_scaling=1, max_iter=100, multi_class='ovr', n_jobs=1,\n",
       "          penalty='l2', random_state=None, solver='liblinear', tol=0.0001,\n",
       "          verbose=0, warm_start=False)"
      ]
     },
     "execution_count": 74,
     "metadata": {},
     "output_type": "execute_result"
    }
   ],
   "source": [
    "lr = LogisticRegression()\n",
    "lr.fit(X_under, y_under)"
   ]
  },
  {
   "cell_type": "code",
   "execution_count": 75,
   "metadata": {
    "collapsed": true
   },
   "outputs": [],
   "source": [
    "y_test_pred = lr.predict(X_test)"
   ]
  },
  {
   "cell_type": "code",
   "execution_count": 76,
   "metadata": {
    "collapsed": false
   },
   "outputs": [
    {
     "data": {
      "text/plain": [
       "array([[ 2114,  2323],\n",
       "       [ 4533, 13136]])"
      ]
     },
     "execution_count": 76,
     "metadata": {},
     "output_type": "execute_result"
    }
   ],
   "source": [
    "confusion_matrix(y_test, y_test_pred, labels=[1,0])"
   ]
  },
  {
   "cell_type": "code",
   "execution_count": 77,
   "metadata": {
    "collapsed": false
   },
   "outputs": [
    {
     "data": {
      "text/plain": [
       "0.68985795711571518"
      ]
     },
     "execution_count": 77,
     "metadata": {},
     "output_type": "execute_result"
    }
   ],
   "source": [
    "accuracy_score(y_test, y_test_pred)"
   ]
  },
  {
   "cell_type": "code",
   "execution_count": 78,
   "metadata": {
    "collapsed": false
   },
   "outputs": [
    {
     "data": {
      "text/plain": [
       "0.38145073980512456"
      ]
     },
     "execution_count": 78,
     "metadata": {},
     "output_type": "execute_result"
    }
   ],
   "source": [
    "f1_score(y_test, y_test_pred)"
   ]
  },
  {
   "cell_type": "markdown",
   "metadata": {},
   "source": [
    "##### Random Forest"
   ]
  },
  {
   "cell_type": "code",
   "execution_count": 79,
   "metadata": {
    "collapsed": false
   },
   "outputs": [
    {
     "name": "stdout",
     "output_type": "stream",
     "text": [
      "Fitting 3 folds for each of 81 candidates, totalling 243 fits\n",
      "[CV] min_samples_split=2, min_samples_leaf=1, max_depth=3, max_features=1 \n",
      "[CV] min_samples_split=2, min_samples_leaf=1, max_depth=3, max_features=1 \n",
      "[CV] min_samples_split=2, min_samples_leaf=1, max_depth=3, max_features=1 \n",
      "[CV]  min_samples_split=2, min_samples_leaf=1, max_depth=3, max_features=1, total=   0.2s\n",
      "[CV] min_samples_split=3, min_samples_leaf=1, max_depth=3, max_features=1 \n",
      "[CV]  min_samples_split=2, min_samples_leaf=1, max_depth=3, max_features=1, total=   0.3s\n",
      "[CV] min_samples_split=3, min_samples_leaf=1, max_depth=3, max_features=1 \n",
      "[CV]  min_samples_split=2, min_samples_leaf=1, max_depth=3, max_features=1, total=   0.4s\n",
      "[CV] min_samples_split=3, min_samples_leaf=1, max_depth=3, max_features=1 \n",
      "[CV]  min_samples_split=3, min_samples_leaf=1, max_depth=3, max_features=1, total=   0.3s\n",
      "[CV] min_samples_split=10, min_samples_leaf=1, max_depth=3, max_features=1 \n",
      "[CV]  min_samples_split=3, min_samples_leaf=1, max_depth=3, max_features=1, total=   0.2s\n",
      "[CV] min_samples_split=10, min_samples_leaf=1, max_depth=3, max_features=1 \n",
      "[CV]  min_samples_split=3, min_samples_leaf=1, max_depth=3, max_features=1, total=   0.3s\n",
      "[CV] min_samples_split=10, min_samples_leaf=1, max_depth=3, max_features=1 \n",
      "[CV]  min_samples_split=10, min_samples_leaf=1, max_depth=3, max_features=1, total=   0.3s\n",
      "[CV] min_samples_split=2, min_samples_leaf=3, max_depth=3, max_features=1 \n",
      "[CV]  min_samples_split=10, min_samples_leaf=1, max_depth=3, max_features=1, total=   0.2s\n",
      "[CV] min_samples_split=2, min_samples_leaf=3, max_depth=3, max_features=1 \n",
      "[CV]  min_samples_split=10, min_samples_leaf=1, max_depth=3, max_features=1, total=   0.2s\n",
      "[CV] min_samples_split=2, min_samples_leaf=3, max_depth=3, max_features=1 \n",
      "[CV]  min_samples_split=2, min_samples_leaf=3, max_depth=3, max_features=1, total=   0.2s\n",
      "[CV] min_samples_split=3, min_samples_leaf=3, max_depth=3, max_features=1 \n",
      "[CV]  min_samples_split=2, min_samples_leaf=3, max_depth=3, max_features=1, total=   0.2s\n",
      "[CV] min_samples_split=3, min_samples_leaf=3, max_depth=3, max_features=1 \n",
      "[CV]  min_samples_split=2, min_samples_leaf=3, max_depth=3, max_features=1, total=   0.2s\n",
      "[CV] min_samples_split=3, min_samples_leaf=3, max_depth=3, max_features=1 \n",
      "[CV]  min_samples_split=3, min_samples_leaf=3, max_depth=3, max_features=1, total=   0.2s\n",
      "[CV] min_samples_split=10, min_samples_leaf=3, max_depth=3, max_features=1 \n",
      "[CV]  min_samples_split=3, min_samples_leaf=3, max_depth=3, max_features=1, total=   0.2s\n",
      "[CV] min_samples_split=10, min_samples_leaf=3, max_depth=3, max_features=1 \n",
      "[CV]  min_samples_split=3, min_samples_leaf=3, max_depth=3, max_features=1, total=   0.2s\n",
      "[CV] min_samples_split=10, min_samples_leaf=3, max_depth=3, max_features=1 \n",
      "[CV]  min_samples_split=10, min_samples_leaf=3, max_depth=3, max_features=1, total=   0.2s\n",
      "[CV] min_samples_split=2, min_samples_leaf=10, max_depth=3, max_features=1 \n",
      "[CV]  min_samples_split=10, min_samples_leaf=3, max_depth=3, max_features=1, total=   0.2s\n",
      "[CV] min_samples_split=2, min_samples_leaf=10, max_depth=3, max_features=1 \n",
      "[CV]  min_samples_split=10, min_samples_leaf=3, max_depth=3, max_features=1, total=   0.2s\n",
      "[CV] min_samples_split=2, min_samples_leaf=10, max_depth=3, max_features=1 \n",
      "[CV]  min_samples_split=2, min_samples_leaf=10, max_depth=3, max_features=1, total=   0.2s\n",
      "[CV] min_samples_split=3, min_samples_leaf=10, max_depth=3, max_features=1 \n",
      "[CV]  min_samples_split=2, min_samples_leaf=10, max_depth=3, max_features=1, total=   0.2s\n",
      "[CV] min_samples_split=3, min_samples_leaf=10, max_depth=3, max_features=1 \n",
      "[CV]  min_samples_split=2, min_samples_leaf=10, max_depth=3, max_features=1, total=   0.2s\n",
      "[CV] min_samples_split=3, min_samples_leaf=10, max_depth=3, max_features=1 \n",
      "[CV]  min_samples_split=3, min_samples_leaf=10, max_depth=3, max_features=1, total=   0.2s\n",
      "[CV] min_samples_split=10, min_samples_leaf=10, max_depth=3, max_features=1 \n",
      "[CV]  min_samples_split=3, min_samples_leaf=10, max_depth=3, max_features=1, total=   0.2s\n",
      "[CV] min_samples_split=10, min_samples_leaf=10, max_depth=3, max_features=1 \n",
      "[CV]  min_samples_split=3, min_samples_leaf=10, max_depth=3, max_features=1, total=   0.2s\n",
      "[CV] min_samples_split=10, min_samples_leaf=10, max_depth=3, max_features=1 \n",
      "[CV]  min_samples_split=10, min_samples_leaf=10, max_depth=3, max_features=1, total=   0.2s\n",
      "[CV] min_samples_split=2, min_samples_leaf=1, max_depth=3, max_features=3 \n",
      "[CV]  min_samples_split=10, min_samples_leaf=10, max_depth=3, max_features=1, total=   0.2s\n",
      "[CV] min_samples_split=2, min_samples_leaf=1, max_depth=3, max_features=3 \n",
      "[CV]  min_samples_split=10, min_samples_leaf=10, max_depth=3, max_features=1, total=   0.2s\n",
      "[CV] min_samples_split=2, min_samples_leaf=1, max_depth=3, max_features=3 \n",
      "[CV]  min_samples_split=2, min_samples_leaf=1, max_depth=3, max_features=3, total=   0.2s\n",
      "[CV] min_samples_split=3, min_samples_leaf=1, max_depth=3, max_features=3 \n",
      "[CV]  min_samples_split=2, min_samples_leaf=1, max_depth=3, max_features=3, total=   0.2s\n",
      "[CV] min_samples_split=3, min_samples_leaf=1, max_depth=3, max_features=3 \n",
      "[CV]  min_samples_split=2, min_samples_leaf=1, max_depth=3, max_features=3, total=   0.2s\n",
      "[CV] min_samples_split=3, min_samples_leaf=1, max_depth=3, max_features=3 \n",
      "[CV]  min_samples_split=3, min_samples_leaf=1, max_depth=3, max_features=3, total=   0.2s\n",
      "[CV] min_samples_split=10, min_samples_leaf=1, max_depth=3, max_features=3 \n",
      "[CV]  min_samples_split=3, min_samples_leaf=1, max_depth=3, max_features=3, total=   0.2s\n",
      "[CV] min_samples_split=10, min_samples_leaf=1, max_depth=3, max_features=3 \n",
      "[CV]  min_samples_split=3, min_samples_leaf=1, max_depth=3, max_features=3, total=   0.2s\n",
      "[CV] min_samples_split=10, min_samples_leaf=1, max_depth=3, max_features=3 \n",
      "[CV]  min_samples_split=10, min_samples_leaf=1, max_depth=3, max_features=3, total=   0.2s\n",
      "[CV] min_samples_split=2, min_samples_leaf=3, max_depth=3, max_features=3 \n",
      "[CV]  min_samples_split=10, min_samples_leaf=1, max_depth=3, max_features=3, total=   0.2s\n",
      "[CV] min_samples_split=2, min_samples_leaf=3, max_depth=3, max_features=3 \n",
      "[CV]  min_samples_split=10, min_samples_leaf=1, max_depth=3, max_features=3, total=   0.2s\n",
      "[CV] min_samples_split=2, min_samples_leaf=3, max_depth=3, max_features=3 \n",
      "[CV]  min_samples_split=2, min_samples_leaf=3, max_depth=3, max_features=3, total=   0.2s\n",
      "[CV] min_samples_split=3, min_samples_leaf=3, max_depth=3, max_features=3 \n"
     ]
    },
    {
     "name": "stderr",
     "output_type": "stream",
     "text": [
      "[Parallel(n_jobs=3)]: Done  35 tasks      | elapsed:    3.8s\n"
     ]
    },
    {
     "name": "stdout",
     "output_type": "stream",
     "text": [
      "[CV]  min_samples_split=2, min_samples_leaf=3, max_depth=3, max_features=3, total=   0.2s\n",
      "[CV] min_samples_split=3, min_samples_leaf=3, max_depth=3, max_features=3 \n",
      "[CV]  min_samples_split=2, min_samples_leaf=3, max_depth=3, max_features=3, total=   0.2s\n",
      "[CV] min_samples_split=3, min_samples_leaf=3, max_depth=3, max_features=3 \n",
      "[CV]  min_samples_split=3, min_samples_leaf=3, max_depth=3, max_features=3, total=   0.2s\n",
      "[CV] min_samples_split=10, min_samples_leaf=3, max_depth=3, max_features=3 \n",
      "[CV]  min_samples_split=3, min_samples_leaf=3, max_depth=3, max_features=3, total=   0.2s\n",
      "[CV] min_samples_split=10, min_samples_leaf=3, max_depth=3, max_features=3 \n",
      "[CV]  min_samples_split=3, min_samples_leaf=3, max_depth=3, max_features=3, total=   0.2s\n",
      "[CV] min_samples_split=10, min_samples_leaf=3, max_depth=3, max_features=3 \n",
      "[CV]  min_samples_split=10, min_samples_leaf=3, max_depth=3, max_features=3, total=   0.3s\n",
      "[CV] min_samples_split=2, min_samples_leaf=10, max_depth=3, max_features=3 \n",
      "[CV]  min_samples_split=10, min_samples_leaf=3, max_depth=3, max_features=3, total=   0.3s\n",
      "[CV] min_samples_split=2, min_samples_leaf=10, max_depth=3, max_features=3 \n",
      "[CV]  min_samples_split=10, min_samples_leaf=3, max_depth=3, max_features=3, total=   0.3s\n",
      "[CV] min_samples_split=2, min_samples_leaf=10, max_depth=3, max_features=3 \n",
      "[CV]  min_samples_split=2, min_samples_leaf=10, max_depth=3, max_features=3, total=   0.3s\n",
      "[CV] min_samples_split=3, min_samples_leaf=10, max_depth=3, max_features=3 \n",
      "[CV]  min_samples_split=2, min_samples_leaf=10, max_depth=3, max_features=3, total=   0.3s\n",
      "[CV] min_samples_split=3, min_samples_leaf=10, max_depth=3, max_features=3 \n",
      "[CV]  min_samples_split=2, min_samples_leaf=10, max_depth=3, max_features=3, total=   0.2s\n",
      "[CV] min_samples_split=3, min_samples_leaf=10, max_depth=3, max_features=3 \n",
      "[CV]  min_samples_split=3, min_samples_leaf=10, max_depth=3, max_features=3, total=   0.3s\n",
      "[CV] min_samples_split=10, min_samples_leaf=10, max_depth=3, max_features=3 \n",
      "[CV]  min_samples_split=3, min_samples_leaf=10, max_depth=3, max_features=3, total=   0.3s\n",
      "[CV] min_samples_split=10, min_samples_leaf=10, max_depth=3, max_features=3 \n",
      "[CV]  min_samples_split=3, min_samples_leaf=10, max_depth=3, max_features=3, total=   0.3s\n",
      "[CV] min_samples_split=10, min_samples_leaf=10, max_depth=3, max_features=3 \n",
      "[CV]  min_samples_split=10, min_samples_leaf=10, max_depth=3, max_features=3, total=   0.2s\n",
      "[CV] min_samples_split=2, min_samples_leaf=1, max_depth=3, max_features=10 \n",
      "[CV]  min_samples_split=10, min_samples_leaf=10, max_depth=3, max_features=3, total=   0.2s\n",
      "[CV] min_samples_split=2, min_samples_leaf=1, max_depth=3, max_features=10 \n",
      "[CV]  min_samples_split=10, min_samples_leaf=10, max_depth=3, max_features=3, total=   0.2s\n",
      "[CV] min_samples_split=2, min_samples_leaf=1, max_depth=3, max_features=10 \n",
      "[CV]  min_samples_split=2, min_samples_leaf=1, max_depth=3, max_features=10, total=   0.3s\n",
      "[CV] min_samples_split=3, min_samples_leaf=1, max_depth=3, max_features=10 \n",
      "[CV]  min_samples_split=2, min_samples_leaf=1, max_depth=3, max_features=10, total=   0.2s\n",
      "[CV] min_samples_split=3, min_samples_leaf=1, max_depth=3, max_features=10 \n",
      "[CV]  min_samples_split=2, min_samples_leaf=1, max_depth=3, max_features=10, total=   0.2s\n",
      "[CV] min_samples_split=3, min_samples_leaf=1, max_depth=3, max_features=10 \n",
      "[CV]  min_samples_split=3, min_samples_leaf=1, max_depth=3, max_features=10, total=   0.2s\n",
      "[CV] min_samples_split=10, min_samples_leaf=1, max_depth=3, max_features=10 \n",
      "[CV]  min_samples_split=3, min_samples_leaf=1, max_depth=3, max_features=10, total=   0.2s\n",
      "[CV] min_samples_split=10, min_samples_leaf=1, max_depth=3, max_features=10 \n",
      "[CV]  min_samples_split=3, min_samples_leaf=1, max_depth=3, max_features=10, total=   0.2s\n",
      "[CV] min_samples_split=10, min_samples_leaf=1, max_depth=3, max_features=10 \n",
      "[CV]  min_samples_split=10, min_samples_leaf=1, max_depth=3, max_features=10, total=   0.2s\n",
      "[CV] min_samples_split=2, min_samples_leaf=3, max_depth=3, max_features=10 \n",
      "[CV]  min_samples_split=10, min_samples_leaf=1, max_depth=3, max_features=10, total=   0.2s\n",
      "[CV] min_samples_split=2, min_samples_leaf=3, max_depth=3, max_features=10 \n",
      "[CV]  min_samples_split=10, min_samples_leaf=1, max_depth=3, max_features=10, total=   0.2s\n",
      "[CV] min_samples_split=2, min_samples_leaf=3, max_depth=3, max_features=10 \n",
      "[CV]  min_samples_split=2, min_samples_leaf=3, max_depth=3, max_features=10, total=   0.2s\n",
      "[CV] min_samples_split=3, min_samples_leaf=3, max_depth=3, max_features=10 \n",
      "[CV]  min_samples_split=2, min_samples_leaf=3, max_depth=3, max_features=10, total=   0.2s\n",
      "[CV] min_samples_split=3, min_samples_leaf=3, max_depth=3, max_features=10 \n",
      "[CV]  min_samples_split=2, min_samples_leaf=3, max_depth=3, max_features=10, total=   0.3s\n",
      "[CV] min_samples_split=3, min_samples_leaf=3, max_depth=3, max_features=10 \n",
      "[CV]  min_samples_split=3, min_samples_leaf=3, max_depth=3, max_features=10, total=   0.2s\n",
      "[CV] min_samples_split=10, min_samples_leaf=3, max_depth=3, max_features=10 \n",
      "[CV]  min_samples_split=3, min_samples_leaf=3, max_depth=3, max_features=10, total=   0.2s\n",
      "[CV] min_samples_split=10, min_samples_leaf=3, max_depth=3, max_features=10 \n",
      "[CV]  min_samples_split=3, min_samples_leaf=3, max_depth=3, max_features=10, total=   0.2s\n",
      "[CV] min_samples_split=10, min_samples_leaf=3, max_depth=3, max_features=10 \n",
      "[CV]  min_samples_split=10, min_samples_leaf=3, max_depth=3, max_features=10, total=   0.2s\n",
      "[CV] min_samples_split=2, min_samples_leaf=10, max_depth=3, max_features=10 \n",
      "[CV]  min_samples_split=10, min_samples_leaf=3, max_depth=3, max_features=10, total=   0.2s\n",
      "[CV] min_samples_split=2, min_samples_leaf=10, max_depth=3, max_features=10 \n",
      "[CV]  min_samples_split=10, min_samples_leaf=3, max_depth=3, max_features=10, total=   0.2s\n",
      "[CV] min_samples_split=2, min_samples_leaf=10, max_depth=3, max_features=10 \n",
      "[CV]  min_samples_split=2, min_samples_leaf=10, max_depth=3, max_features=10, total=   0.2s\n",
      "[CV] min_samples_split=3, min_samples_leaf=10, max_depth=3, max_features=10 \n",
      "[CV]  min_samples_split=2, min_samples_leaf=10, max_depth=3, max_features=10, total=   0.2s\n",
      "[CV] min_samples_split=3, min_samples_leaf=10, max_depth=3, max_features=10 \n",
      "[CV]  min_samples_split=2, min_samples_leaf=10, max_depth=3, max_features=10, total=   0.2s\n",
      "[CV] min_samples_split=3, min_samples_leaf=10, max_depth=3, max_features=10 \n",
      "[CV]  min_samples_split=3, min_samples_leaf=10, max_depth=3, max_features=10, total=   0.2s\n",
      "[CV] min_samples_split=10, min_samples_leaf=10, max_depth=3, max_features=10 \n",
      "[CV]  min_samples_split=3, min_samples_leaf=10, max_depth=3, max_features=10, total=   0.2s\n",
      "[CV] min_samples_split=10, min_samples_leaf=10, max_depth=3, max_features=10 \n",
      "[CV]  min_samples_split=3, min_samples_leaf=10, max_depth=3, max_features=10, total=   0.2s\n",
      "[CV] min_samples_split=10, min_samples_leaf=10, max_depth=3, max_features=10 \n",
      "[CV]  min_samples_split=10, min_samples_leaf=10, max_depth=3, max_features=10, total=   0.2s\n",
      "[CV] min_samples_split=2, min_samples_leaf=1, max_depth=5, max_features=1 \n",
      "[CV]  min_samples_split=10, min_samples_leaf=10, max_depth=3, max_features=10, total=   0.2s\n",
      "[CV] min_samples_split=2, min_samples_leaf=1, max_depth=5, max_features=1 \n",
      "[CV]  min_samples_split=10, min_samples_leaf=10, max_depth=3, max_features=10, total=   0.2s\n",
      "[CV]  min_samples_split=2, min_samples_leaf=1, max_depth=5, max_features=1, total=   0.2s\n",
      "[CV] min_samples_split=2, min_samples_leaf=1, max_depth=5, max_features=1 \n",
      "[CV] min_samples_split=3, min_samples_leaf=1, max_depth=5, max_features=1 \n",
      "[CV]  min_samples_split=2, min_samples_leaf=1, max_depth=5, max_features=1, total=   0.2s\n",
      "[CV] min_samples_split=3, min_samples_leaf=1, max_depth=5, max_features=1 \n",
      "[CV]  min_samples_split=2, min_samples_leaf=1, max_depth=5, max_features=1, total=   0.2s\n",
      "[CV] min_samples_split=3, min_samples_leaf=1, max_depth=5, max_features=1 \n",
      "[CV]  min_samples_split=3, min_samples_leaf=1, max_depth=5, max_features=1, total=   0.2s\n",
      "[CV] min_samples_split=10, min_samples_leaf=1, max_depth=5, max_features=1 \n",
      "[CV]  min_samples_split=3, min_samples_leaf=1, max_depth=5, max_features=1, total=   0.2s\n",
      "[CV] min_samples_split=10, min_samples_leaf=1, max_depth=5, max_features=1 \n",
      "[CV]  min_samples_split=3, min_samples_leaf=1, max_depth=5, max_features=1, total=   0.2s\n",
      "[CV] min_samples_split=10, min_samples_leaf=1, max_depth=5, max_features=1 \n",
      "[CV]  min_samples_split=10, min_samples_leaf=1, max_depth=5, max_features=1, total=   0.3s\n",
      "[CV] min_samples_split=2, min_samples_leaf=3, max_depth=5, max_features=1 \n",
      "[CV]  min_samples_split=10, min_samples_leaf=1, max_depth=5, max_features=1, total=   0.3s\n",
      "[CV] min_samples_split=2, min_samples_leaf=3, max_depth=5, max_features=1 \n",
      "[CV]  min_samples_split=10, min_samples_leaf=1, max_depth=5, max_features=1, total=   0.3s\n",
      "[CV] min_samples_split=2, min_samples_leaf=3, max_depth=5, max_features=1 \n",
      "[CV]  min_samples_split=2, min_samples_leaf=3, max_depth=5, max_features=1, total=   0.3s\n",
      "[CV] min_samples_split=3, min_samples_leaf=3, max_depth=5, max_features=1 \n",
      "[CV]  min_samples_split=2, min_samples_leaf=3, max_depth=5, max_features=1, total=   0.2s\n",
      "[CV] min_samples_split=3, min_samples_leaf=3, max_depth=5, max_features=1 \n",
      "[CV]  min_samples_split=2, min_samples_leaf=3, max_depth=5, max_features=1, total=   0.2s\n",
      "[CV] min_samples_split=3, min_samples_leaf=3, max_depth=5, max_features=1 \n",
      "[CV]  min_samples_split=3, min_samples_leaf=3, max_depth=5, max_features=1, total=   0.2s\n",
      "[CV] min_samples_split=10, min_samples_leaf=3, max_depth=5, max_features=1 \n",
      "[CV]  min_samples_split=3, min_samples_leaf=3, max_depth=5, max_features=1, total=   0.2s\n",
      "[CV] min_samples_split=10, min_samples_leaf=3, max_depth=5, max_features=1 \n",
      "[CV]  min_samples_split=3, min_samples_leaf=3, max_depth=5, max_features=1, total=   0.2s\n",
      "[CV] min_samples_split=10, min_samples_leaf=3, max_depth=5, max_features=1 \n",
      "[CV]  min_samples_split=10, min_samples_leaf=3, max_depth=5, max_features=1, total=   0.2s\n",
      "[CV] min_samples_split=2, min_samples_leaf=10, max_depth=5, max_features=1 \n",
      "[CV]  min_samples_split=10, min_samples_leaf=3, max_depth=5, max_features=1, total=   0.2s\n",
      "[CV] min_samples_split=2, min_samples_leaf=10, max_depth=5, max_features=1 \n",
      "[CV]  min_samples_split=10, min_samples_leaf=3, max_depth=5, max_features=1, total=   0.2s\n",
      "[CV] min_samples_split=2, min_samples_leaf=10, max_depth=5, max_features=1 \n",
      "[CV]  min_samples_split=2, min_samples_leaf=10, max_depth=5, max_features=1, total=   0.2s\n",
      "[CV] min_samples_split=3, min_samples_leaf=10, max_depth=5, max_features=1 \n",
      "[CV]  min_samples_split=2, min_samples_leaf=10, max_depth=5, max_features=1, total=   0.2s\n",
      "[CV] min_samples_split=3, min_samples_leaf=10, max_depth=5, max_features=1 \n",
      "[CV]  min_samples_split=2, min_samples_leaf=10, max_depth=5, max_features=1, total=   0.2s\n",
      "[CV] min_samples_split=3, min_samples_leaf=10, max_depth=5, max_features=1 \n",
      "[CV]  min_samples_split=3, min_samples_leaf=10, max_depth=5, max_features=1, total=   0.2s\n",
      "[CV] min_samples_split=10, min_samples_leaf=10, max_depth=5, max_features=1 \n",
      "[CV]  min_samples_split=3, min_samples_leaf=10, max_depth=5, max_features=1, total=   0.2s\n",
      "[CV] min_samples_split=10, min_samples_leaf=10, max_depth=5, max_features=1 \n",
      "[CV]  min_samples_split=3, min_samples_leaf=10, max_depth=5, max_features=1, total=   0.2s\n",
      "[CV] min_samples_split=10, min_samples_leaf=10, max_depth=5, max_features=1 \n",
      "[CV]  min_samples_split=10, min_samples_leaf=10, max_depth=5, max_features=1, total=   0.2s\n",
      "[CV] min_samples_split=2, min_samples_leaf=1, max_depth=5, max_features=3 \n",
      "[CV]  min_samples_split=10, min_samples_leaf=10, max_depth=5, max_features=1, total=   0.2s\n",
      "[CV] min_samples_split=2, min_samples_leaf=1, max_depth=5, max_features=3 \n",
      "[CV]  min_samples_split=10, min_samples_leaf=10, max_depth=5, max_features=1, total=   0.2s\n",
      "[CV] min_samples_split=2, min_samples_leaf=1, max_depth=5, max_features=3 \n",
      "[CV]  min_samples_split=2, min_samples_leaf=1, max_depth=5, max_features=3, total=   0.2s\n",
      "[CV] min_samples_split=3, min_samples_leaf=1, max_depth=5, max_features=3 \n",
      "[CV]  min_samples_split=2, min_samples_leaf=1, max_depth=5, max_features=3, total=   0.2s\n",
      "[CV] min_samples_split=3, min_samples_leaf=1, max_depth=5, max_features=3 \n",
      "[CV]  min_samples_split=2, min_samples_leaf=1, max_depth=5, max_features=3, total=   0.2s\n",
      "[CV] min_samples_split=3, min_samples_leaf=1, max_depth=5, max_features=3 \n",
      "[CV]  min_samples_split=3, min_samples_leaf=1, max_depth=5, max_features=3, total=   0.2s\n",
      "[CV] min_samples_split=10, min_samples_leaf=1, max_depth=5, max_features=3 \n",
      "[CV]  min_samples_split=3, min_samples_leaf=1, max_depth=5, max_features=3, total=   0.2s\n",
      "[CV] min_samples_split=10, min_samples_leaf=1, max_depth=5, max_features=3 \n",
      "[CV]  min_samples_split=3, min_samples_leaf=1, max_depth=5, max_features=3, total=   0.2s\n",
      "[CV] min_samples_split=10, min_samples_leaf=1, max_depth=5, max_features=3 \n",
      "[CV]  min_samples_split=10, min_samples_leaf=1, max_depth=5, max_features=3, total=   0.2s\n",
      "[CV] min_samples_split=2, min_samples_leaf=3, max_depth=5, max_features=3 \n",
      "[CV]  min_samples_split=10, min_samples_leaf=1, max_depth=5, max_features=3, total=   0.2s\n",
      "[CV] min_samples_split=2, min_samples_leaf=3, max_depth=5, max_features=3 \n",
      "[CV]  min_samples_split=10, min_samples_leaf=1, max_depth=5, max_features=3, total=   0.2s\n",
      "[CV] min_samples_split=2, min_samples_leaf=3, max_depth=5, max_features=3 \n",
      "[CV]  min_samples_split=2, min_samples_leaf=3, max_depth=5, max_features=3, total=   0.2s\n",
      "[CV] min_samples_split=3, min_samples_leaf=3, max_depth=5, max_features=3 \n",
      "[CV]  min_samples_split=2, min_samples_leaf=3, max_depth=5, max_features=3, total=   0.2s\n",
      "[CV] min_samples_split=3, min_samples_leaf=3, max_depth=5, max_features=3 \n",
      "[CV]  min_samples_split=2, min_samples_leaf=3, max_depth=5, max_features=3, total=   0.2s\n",
      "[CV] min_samples_split=3, min_samples_leaf=3, max_depth=5, max_features=3 \n",
      "[CV]  min_samples_split=3, min_samples_leaf=3, max_depth=5, max_features=3, total=   0.2s\n",
      "[CV] min_samples_split=10, min_samples_leaf=3, max_depth=5, max_features=3 \n",
      "[CV]  min_samples_split=3, min_samples_leaf=3, max_depth=5, max_features=3, total=   0.2s\n",
      "[CV] min_samples_split=10, min_samples_leaf=3, max_depth=5, max_features=3 \n",
      "[CV]  min_samples_split=3, min_samples_leaf=3, max_depth=5, max_features=3, total=   0.2s\n",
      "[CV] min_samples_split=10, min_samples_leaf=3, max_depth=5, max_features=3 \n",
      "[CV]  min_samples_split=10, min_samples_leaf=3, max_depth=5, max_features=3, total=   0.2s\n",
      "[CV] min_samples_split=2, min_samples_leaf=10, max_depth=5, max_features=3 \n",
      "[CV]  min_samples_split=10, min_samples_leaf=3, max_depth=5, max_features=3, total=   0.2s\n",
      "[CV] min_samples_split=2, min_samples_leaf=10, max_depth=5, max_features=3 \n",
      "[CV]  min_samples_split=10, min_samples_leaf=3, max_depth=5, max_features=3, total=   0.2s\n",
      "[CV] min_samples_split=2, min_samples_leaf=10, max_depth=5, max_features=3 \n",
      "[CV]  min_samples_split=2, min_samples_leaf=10, max_depth=5, max_features=3, total=   0.2s\n",
      "[CV] min_samples_split=3, min_samples_leaf=10, max_depth=5, max_features=3 \n",
      "[CV]  min_samples_split=2, min_samples_leaf=10, max_depth=5, max_features=3, total=   0.2s\n",
      "[CV] min_samples_split=3, min_samples_leaf=10, max_depth=5, max_features=3 \n",
      "[CV]  min_samples_split=2, min_samples_leaf=10, max_depth=5, max_features=3, total=   0.2s\n",
      "[CV] min_samples_split=3, min_samples_leaf=10, max_depth=5, max_features=3 \n",
      "[CV]  min_samples_split=3, min_samples_leaf=10, max_depth=5, max_features=3, total=   0.2s\n",
      "[CV] min_samples_split=10, min_samples_leaf=10, max_depth=5, max_features=3 \n",
      "[CV]  min_samples_split=3, min_samples_leaf=10, max_depth=5, max_features=3, total=   0.2s\n",
      "[CV] min_samples_split=10, min_samples_leaf=10, max_depth=5, max_features=3 \n",
      "[CV]  min_samples_split=3, min_samples_leaf=10, max_depth=5, max_features=3, total=   0.2s\n",
      "[CV] min_samples_split=10, min_samples_leaf=10, max_depth=5, max_features=3 \n",
      "[CV]  min_samples_split=10, min_samples_leaf=10, max_depth=5, max_features=3, total=   0.2s\n",
      "[CV] min_samples_split=2, min_samples_leaf=1, max_depth=5, max_features=10 \n",
      "[CV]  min_samples_split=10, min_samples_leaf=10, max_depth=5, max_features=3, total=   0.2s\n",
      "[CV] min_samples_split=2, min_samples_leaf=1, max_depth=5, max_features=10 \n",
      "[CV]  min_samples_split=10, min_samples_leaf=10, max_depth=5, max_features=3, total=   0.2s\n",
      "[CV] min_samples_split=2, min_samples_leaf=1, max_depth=5, max_features=10 \n",
      "[CV]  min_samples_split=2, min_samples_leaf=1, max_depth=5, max_features=10, total=   0.3s\n",
      "[CV] min_samples_split=3, min_samples_leaf=1, max_depth=5, max_features=10 \n",
      "[CV]  min_samples_split=2, min_samples_leaf=1, max_depth=5, max_features=10, total=   0.3s\n",
      "[CV] min_samples_split=3, min_samples_leaf=1, max_depth=5, max_features=10 \n",
      "[CV]  min_samples_split=2, min_samples_leaf=1, max_depth=5, max_features=10, total=   0.3s\n",
      "[CV] min_samples_split=3, min_samples_leaf=1, max_depth=5, max_features=10 \n",
      "[CV]  min_samples_split=3, min_samples_leaf=1, max_depth=5, max_features=10, total=   0.3s\n",
      "[CV] min_samples_split=10, min_samples_leaf=1, max_depth=5, max_features=10 \n",
      "[CV]  min_samples_split=3, min_samples_leaf=1, max_depth=5, max_features=10, total=   0.3s\n",
      "[CV] min_samples_split=10, min_samples_leaf=1, max_depth=5, max_features=10 \n",
      "[CV]  min_samples_split=3, min_samples_leaf=1, max_depth=5, max_features=10, total=   0.3s\n",
      "[CV] min_samples_split=10, min_samples_leaf=1, max_depth=5, max_features=10 \n",
      "[CV]  min_samples_split=10, min_samples_leaf=1, max_depth=5, max_features=10, total=   0.3s\n",
      "[CV] min_samples_split=2, min_samples_leaf=3, max_depth=5, max_features=10 \n",
      "[CV]  min_samples_split=10, min_samples_leaf=1, max_depth=5, max_features=10, total=   0.3s\n",
      "[CV] min_samples_split=2, min_samples_leaf=3, max_depth=5, max_features=10 \n",
      "[CV]  min_samples_split=10, min_samples_leaf=1, max_depth=5, max_features=10, total=   0.3s\n",
      "[CV] min_samples_split=2, min_samples_leaf=3, max_depth=5, max_features=10 \n",
      "[CV]  min_samples_split=2, min_samples_leaf=3, max_depth=5, max_features=10, total=   0.3s\n",
      "[CV] min_samples_split=3, min_samples_leaf=3, max_depth=5, max_features=10 \n",
      "[CV]  min_samples_split=2, min_samples_leaf=3, max_depth=5, max_features=10, total=   0.3s\n",
      "[CV] min_samples_split=3, min_samples_leaf=3, max_depth=5, max_features=10 \n",
      "[CV]  min_samples_split=2, min_samples_leaf=3, max_depth=5, max_features=10, total=   0.3s\n",
      "[CV] min_samples_split=3, min_samples_leaf=3, max_depth=5, max_features=10 \n",
      "[CV]  min_samples_split=3, min_samples_leaf=3, max_depth=5, max_features=10, total=   0.3s\n",
      "[CV] min_samples_split=10, min_samples_leaf=3, max_depth=5, max_features=10 \n",
      "[CV]  min_samples_split=3, min_samples_leaf=3, max_depth=5, max_features=10, total=   0.3s\n",
      "[CV] min_samples_split=10, min_samples_leaf=3, max_depth=5, max_features=10 \n",
      "[CV]  min_samples_split=3, min_samples_leaf=3, max_depth=5, max_features=10, total=   0.3s\n",
      "[CV] min_samples_split=10, min_samples_leaf=3, max_depth=5, max_features=10 \n",
      "[CV]  min_samples_split=10, min_samples_leaf=3, max_depth=5, max_features=10, total=   0.3s\n",
      "[CV] min_samples_split=2, min_samples_leaf=10, max_depth=5, max_features=10 \n",
      "[CV]  min_samples_split=10, min_samples_leaf=3, max_depth=5, max_features=10, total=   0.3s\n",
      "[CV] min_samples_split=2, min_samples_leaf=10, max_depth=5, max_features=10 \n",
      "[CV]  min_samples_split=10, min_samples_leaf=3, max_depth=5, max_features=10, total=   0.3s\n",
      "[CV] min_samples_split=2, min_samples_leaf=10, max_depth=5, max_features=10 \n",
      "[CV]  min_samples_split=2, min_samples_leaf=10, max_depth=5, max_features=10, total=   0.3s\n",
      "[CV] min_samples_split=3, min_samples_leaf=10, max_depth=5, max_features=10 \n",
      "[CV]  min_samples_split=2, min_samples_leaf=10, max_depth=5, max_features=10, total=   0.3s\n",
      "[CV] min_samples_split=3, min_samples_leaf=10, max_depth=5, max_features=10 \n",
      "[CV]  min_samples_split=2, min_samples_leaf=10, max_depth=5, max_features=10, total=   0.3s\n",
      "[CV] min_samples_split=3, min_samples_leaf=10, max_depth=5, max_features=10 \n",
      "[CV]  min_samples_split=3, min_samples_leaf=10, max_depth=5, max_features=10, total=   0.3s\n",
      "[CV] min_samples_split=10, min_samples_leaf=10, max_depth=5, max_features=10 \n"
     ]
    },
    {
     "name": "stderr",
     "output_type": "stream",
     "text": [
      "[Parallel(n_jobs=3)]: Done 156 tasks      | elapsed:   15.2s\n"
     ]
    },
    {
     "name": "stdout",
     "output_type": "stream",
     "text": [
      "[CV]  min_samples_split=3, min_samples_leaf=10, max_depth=5, max_features=10, total=   0.3s\n",
      "[CV] min_samples_split=10, min_samples_leaf=10, max_depth=5, max_features=10 \n",
      "[CV]  min_samples_split=3, min_samples_leaf=10, max_depth=5, max_features=10, total=   0.3s\n",
      "[CV] min_samples_split=10, min_samples_leaf=10, max_depth=5, max_features=10 \n",
      "[CV]  min_samples_split=10, min_samples_leaf=10, max_depth=5, max_features=10, total=   0.3s\n",
      "[CV] min_samples_split=2, min_samples_leaf=1, max_depth=None, max_features=1 \n",
      "[CV]  min_samples_split=10, min_samples_leaf=10, max_depth=5, max_features=10, total=   0.3s\n",
      "[CV] min_samples_split=2, min_samples_leaf=1, max_depth=None, max_features=1 \n",
      "[CV]  min_samples_split=10, min_samples_leaf=10, max_depth=5, max_features=10, total=   0.3s\n",
      "[CV] min_samples_split=2, min_samples_leaf=1, max_depth=None, max_features=1 \n",
      "[CV]  min_samples_split=2, min_samples_leaf=1, max_depth=None, max_features=1, total=   0.5s\n",
      "[CV] min_samples_split=3, min_samples_leaf=1, max_depth=None, max_features=1 \n",
      "[CV]  min_samples_split=2, min_samples_leaf=1, max_depth=None, max_features=1, total=   0.5s\n",
      "[CV] min_samples_split=3, min_samples_leaf=1, max_depth=None, max_features=1 \n",
      "[CV]  min_samples_split=2, min_samples_leaf=1, max_depth=None, max_features=1, total=   0.4s\n",
      "[CV] min_samples_split=3, min_samples_leaf=1, max_depth=None, max_features=1 \n",
      "[CV]  min_samples_split=3, min_samples_leaf=1, max_depth=None, max_features=1, total=   0.5s\n",
      "[CV] min_samples_split=10, min_samples_leaf=1, max_depth=None, max_features=1 \n",
      "[CV]  min_samples_split=3, min_samples_leaf=1, max_depth=None, max_features=1, total=   0.4s\n",
      "[CV] min_samples_split=10, min_samples_leaf=1, max_depth=None, max_features=1 \n",
      "[CV]  min_samples_split=3, min_samples_leaf=1, max_depth=None, max_features=1, total=   0.4s\n",
      "[CV] min_samples_split=10, min_samples_leaf=1, max_depth=None, max_features=1 \n",
      "[CV]  min_samples_split=10, min_samples_leaf=1, max_depth=None, max_features=1, total=   0.4s\n",
      "[CV] min_samples_split=2, min_samples_leaf=3, max_depth=None, max_features=1 \n",
      "[CV]  min_samples_split=10, min_samples_leaf=1, max_depth=None, max_features=1, total=   0.4s\n",
      "[CV] min_samples_split=2, min_samples_leaf=3, max_depth=None, max_features=1 \n",
      "[CV]  min_samples_split=10, min_samples_leaf=1, max_depth=None, max_features=1, total=   0.4s\n",
      "[CV] min_samples_split=2, min_samples_leaf=3, max_depth=None, max_features=1 \n",
      "[CV]  min_samples_split=2, min_samples_leaf=3, max_depth=None, max_features=1, total=   0.3s\n",
      "[CV] min_samples_split=3, min_samples_leaf=3, max_depth=None, max_features=1 \n",
      "[CV]  min_samples_split=2, min_samples_leaf=3, max_depth=None, max_features=1, total=   0.3s\n",
      "[CV] min_samples_split=3, min_samples_leaf=3, max_depth=None, max_features=1 \n",
      "[CV]  min_samples_split=2, min_samples_leaf=3, max_depth=None, max_features=1, total=   0.3s\n",
      "[CV] min_samples_split=3, min_samples_leaf=3, max_depth=None, max_features=1 \n",
      "[CV]  min_samples_split=3, min_samples_leaf=3, max_depth=None, max_features=1, total=   0.3s\n",
      "[CV] min_samples_split=10, min_samples_leaf=3, max_depth=None, max_features=1 \n",
      "[CV]  min_samples_split=3, min_samples_leaf=3, max_depth=None, max_features=1, total=   0.3s\n",
      "[CV] min_samples_split=10, min_samples_leaf=3, max_depth=None, max_features=1 \n",
      "[CV]  min_samples_split=3, min_samples_leaf=3, max_depth=None, max_features=1, total=   0.3s\n",
      "[CV] min_samples_split=10, min_samples_leaf=3, max_depth=None, max_features=1 \n",
      "[CV]  min_samples_split=10, min_samples_leaf=3, max_depth=None, max_features=1, total=   0.3s\n",
      "[CV] min_samples_split=2, min_samples_leaf=10, max_depth=None, max_features=1 \n",
      "[CV]  min_samples_split=10, min_samples_leaf=3, max_depth=None, max_features=1, total=   0.2s\n",
      "[CV] min_samples_split=2, min_samples_leaf=10, max_depth=None, max_features=1 \n",
      "[CV]  min_samples_split=10, min_samples_leaf=3, max_depth=None, max_features=1, total=   0.2s\n",
      "[CV] min_samples_split=2, min_samples_leaf=10, max_depth=None, max_features=1 \n",
      "[CV]  min_samples_split=2, min_samples_leaf=10, max_depth=None, max_features=1, total=   0.2s\n",
      "[CV] min_samples_split=3, min_samples_leaf=10, max_depth=None, max_features=1 \n",
      "[CV]  min_samples_split=2, min_samples_leaf=10, max_depth=None, max_features=1, total=   0.2s\n",
      "[CV] min_samples_split=3, min_samples_leaf=10, max_depth=None, max_features=1 \n",
      "[CV]  min_samples_split=2, min_samples_leaf=10, max_depth=None, max_features=1, total=   0.2s\n",
      "[CV] min_samples_split=3, min_samples_leaf=10, max_depth=None, max_features=1 \n",
      "[CV]  min_samples_split=3, min_samples_leaf=10, max_depth=None, max_features=1, total=   0.2s\n",
      "[CV] min_samples_split=10, min_samples_leaf=10, max_depth=None, max_features=1 \n",
      "[CV]  min_samples_split=3, min_samples_leaf=10, max_depth=None, max_features=1, total=   0.2s\n",
      "[CV] min_samples_split=10, min_samples_leaf=10, max_depth=None, max_features=1 \n",
      "[CV]  min_samples_split=3, min_samples_leaf=10, max_depth=None, max_features=1, total=   0.2s\n",
      "[CV] min_samples_split=10, min_samples_leaf=10, max_depth=None, max_features=1 \n",
      "[CV]  min_samples_split=10, min_samples_leaf=10, max_depth=None, max_features=1, total=   0.2s\n",
      "[CV] min_samples_split=2, min_samples_leaf=1, max_depth=None, max_features=3 \n",
      "[CV]  min_samples_split=10, min_samples_leaf=10, max_depth=None, max_features=1, total=   0.2s\n",
      "[CV] min_samples_split=2, min_samples_leaf=1, max_depth=None, max_features=3 \n",
      "[CV]  min_samples_split=10, min_samples_leaf=10, max_depth=None, max_features=1, total=   0.2s\n",
      "[CV] min_samples_split=2, min_samples_leaf=1, max_depth=None, max_features=3 \n",
      "[CV]  min_samples_split=2, min_samples_leaf=1, max_depth=None, max_features=3, total=   0.5s\n",
      "[CV] min_samples_split=3, min_samples_leaf=1, max_depth=None, max_features=3 \n",
      "[CV]  min_samples_split=2, min_samples_leaf=1, max_depth=None, max_features=3, total=   0.5s\n",
      "[CV] min_samples_split=3, min_samples_leaf=1, max_depth=None, max_features=3 \n",
      "[CV]  min_samples_split=2, min_samples_leaf=1, max_depth=None, max_features=3, total=   0.5s\n",
      "[CV] min_samples_split=3, min_samples_leaf=1, max_depth=None, max_features=3 \n",
      "[CV]  min_samples_split=3, min_samples_leaf=1, max_depth=None, max_features=3, total=   0.5s\n",
      "[CV] min_samples_split=10, min_samples_leaf=1, max_depth=None, max_features=3 \n",
      "[CV]  min_samples_split=3, min_samples_leaf=1, max_depth=None, max_features=3, total=   0.5s\n",
      "[CV] min_samples_split=10, min_samples_leaf=1, max_depth=None, max_features=3 \n",
      "[CV]  min_samples_split=3, min_samples_leaf=1, max_depth=None, max_features=3, total=   0.5s\n",
      "[CV] min_samples_split=10, min_samples_leaf=1, max_depth=None, max_features=3 \n",
      "[CV]  min_samples_split=10, min_samples_leaf=1, max_depth=None, max_features=3, total=   0.4s\n",
      "[CV] min_samples_split=2, min_samples_leaf=3, max_depth=None, max_features=3 \n",
      "[CV]  min_samples_split=10, min_samples_leaf=1, max_depth=None, max_features=3, total=   0.4s\n",
      "[CV] min_samples_split=2, min_samples_leaf=3, max_depth=None, max_features=3 \n",
      "[CV]  min_samples_split=10, min_samples_leaf=1, max_depth=None, max_features=3, total=   0.4s\n",
      "[CV] min_samples_split=2, min_samples_leaf=3, max_depth=None, max_features=3 \n",
      "[CV]  min_samples_split=2, min_samples_leaf=3, max_depth=None, max_features=3, total=   0.4s\n",
      "[CV] min_samples_split=3, min_samples_leaf=3, max_depth=None, max_features=3 \n",
      "[CV]  min_samples_split=2, min_samples_leaf=3, max_depth=None, max_features=3, total=   0.4s\n",
      "[CV] min_samples_split=3, min_samples_leaf=3, max_depth=None, max_features=3 \n",
      "[CV]  min_samples_split=2, min_samples_leaf=3, max_depth=None, max_features=3, total=   0.4s\n",
      "[CV] min_samples_split=3, min_samples_leaf=3, max_depth=None, max_features=3 \n",
      "[CV]  min_samples_split=3, min_samples_leaf=3, max_depth=None, max_features=3, total=   0.4s\n",
      "[CV] min_samples_split=10, min_samples_leaf=3, max_depth=None, max_features=3 \n",
      "[CV]  min_samples_split=3, min_samples_leaf=3, max_depth=None, max_features=3, total=   0.4s\n",
      "[CV] min_samples_split=10, min_samples_leaf=3, max_depth=None, max_features=3 \n",
      "[CV]  min_samples_split=3, min_samples_leaf=3, max_depth=None, max_features=3, total=   0.4s\n",
      "[CV] min_samples_split=10, min_samples_leaf=3, max_depth=None, max_features=3 \n",
      "[CV]  min_samples_split=10, min_samples_leaf=3, max_depth=None, max_features=3, total=   0.4s\n",
      "[CV] min_samples_split=2, min_samples_leaf=10, max_depth=None, max_features=3 \n",
      "[CV]  min_samples_split=10, min_samples_leaf=3, max_depth=None, max_features=3, total=   0.3s\n",
      "[CV] min_samples_split=2, min_samples_leaf=10, max_depth=None, max_features=3 \n",
      "[CV]  min_samples_split=10, min_samples_leaf=3, max_depth=None, max_features=3, total=   0.3s\n",
      "[CV] min_samples_split=2, min_samples_leaf=10, max_depth=None, max_features=3 \n",
      "[CV]  min_samples_split=2, min_samples_leaf=10, max_depth=None, max_features=3, total=   0.3s\n",
      "[CV] min_samples_split=3, min_samples_leaf=10, max_depth=None, max_features=3 \n",
      "[CV]  min_samples_split=2, min_samples_leaf=10, max_depth=None, max_features=3, total=   0.3s\n",
      "[CV] min_samples_split=3, min_samples_leaf=10, max_depth=None, max_features=3 \n",
      "[CV]  min_samples_split=2, min_samples_leaf=10, max_depth=None, max_features=3, total=   0.3s\n",
      "[CV] min_samples_split=3, min_samples_leaf=10, max_depth=None, max_features=3 \n",
      "[CV]  min_samples_split=3, min_samples_leaf=10, max_depth=None, max_features=3, total=   0.3s\n",
      "[CV] min_samples_split=10, min_samples_leaf=10, max_depth=None, max_features=3 \n",
      "[CV]  min_samples_split=3, min_samples_leaf=10, max_depth=None, max_features=3, total=   0.3s\n",
      "[CV] min_samples_split=10, min_samples_leaf=10, max_depth=None, max_features=3 \n",
      "[CV]  min_samples_split=3, min_samples_leaf=10, max_depth=None, max_features=3, total=   0.3s\n",
      "[CV] min_samples_split=10, min_samples_leaf=10, max_depth=None, max_features=3 \n",
      "[CV]  min_samples_split=10, min_samples_leaf=10, max_depth=None, max_features=3, total=   0.3s\n",
      "[CV] min_samples_split=2, min_samples_leaf=1, max_depth=None, max_features=10 \n",
      "[CV]  min_samples_split=10, min_samples_leaf=10, max_depth=None, max_features=3, total=   0.3s\n",
      "[CV] min_samples_split=2, min_samples_leaf=1, max_depth=None, max_features=10 \n",
      "[CV]  min_samples_split=10, min_samples_leaf=10, max_depth=None, max_features=3, total=   0.3s\n",
      "[CV] min_samples_split=2, min_samples_leaf=1, max_depth=None, max_features=10 \n",
      "[CV]  min_samples_split=2, min_samples_leaf=1, max_depth=None, max_features=10, total=   0.7s\n",
      "[CV] min_samples_split=3, min_samples_leaf=1, max_depth=None, max_features=10 \n",
      "[CV]  min_samples_split=2, min_samples_leaf=1, max_depth=None, max_features=10, total=   0.7s\n",
      "[CV] min_samples_split=3, min_samples_leaf=1, max_depth=None, max_features=10 \n",
      "[CV]  min_samples_split=2, min_samples_leaf=1, max_depth=None, max_features=10, total=   0.7s\n",
      "[CV] min_samples_split=3, min_samples_leaf=1, max_depth=None, max_features=10 \n",
      "[CV]  min_samples_split=3, min_samples_leaf=1, max_depth=None, max_features=10, total=   0.7s\n",
      "[CV] min_samples_split=10, min_samples_leaf=1, max_depth=None, max_features=10 \n",
      "[CV]  min_samples_split=3, min_samples_leaf=1, max_depth=None, max_features=10, total=   0.7s\n",
      "[CV] min_samples_split=10, min_samples_leaf=1, max_depth=None, max_features=10 \n",
      "[CV]  min_samples_split=3, min_samples_leaf=1, max_depth=None, max_features=10, total=   0.7s\n",
      "[CV] min_samples_split=10, min_samples_leaf=1, max_depth=None, max_features=10 \n",
      "[CV]  min_samples_split=10, min_samples_leaf=1, max_depth=None, max_features=10, total=   0.6s\n",
      "[CV] min_samples_split=2, min_samples_leaf=3, max_depth=None, max_features=10 \n",
      "[CV]  min_samples_split=10, min_samples_leaf=1, max_depth=None, max_features=10, total=   0.6s\n",
      "[CV] min_samples_split=2, min_samples_leaf=3, max_depth=None, max_features=10 \n",
      "[CV]  min_samples_split=10, min_samples_leaf=1, max_depth=None, max_features=10, total=   0.6s\n",
      "[CV] min_samples_split=2, min_samples_leaf=3, max_depth=None, max_features=10 \n",
      "[CV]  min_samples_split=2, min_samples_leaf=3, max_depth=None, max_features=10, total=   0.6s\n",
      "[CV] min_samples_split=3, min_samples_leaf=3, max_depth=None, max_features=10 \n",
      "[CV]  min_samples_split=2, min_samples_leaf=3, max_depth=None, max_features=10, total=   0.6s\n",
      "[CV] min_samples_split=3, min_samples_leaf=3, max_depth=None, max_features=10 \n",
      "[CV]  min_samples_split=2, min_samples_leaf=3, max_depth=None, max_features=10, total=   0.6s\n",
      "[CV] min_samples_split=3, min_samples_leaf=3, max_depth=None, max_features=10 \n",
      "[CV]  min_samples_split=3, min_samples_leaf=3, max_depth=None, max_features=10, total=   0.6s\n",
      "[CV] min_samples_split=10, min_samples_leaf=3, max_depth=None, max_features=10 \n",
      "[CV]  min_samples_split=3, min_samples_leaf=3, max_depth=None, max_features=10, total=   0.6s\n",
      "[CV] min_samples_split=10, min_samples_leaf=3, max_depth=None, max_features=10 \n",
      "[CV]  min_samples_split=3, min_samples_leaf=3, max_depth=None, max_features=10, total=   0.6s\n",
      "[CV] min_samples_split=10, min_samples_leaf=3, max_depth=None, max_features=10 \n",
      "[CV]  min_samples_split=10, min_samples_leaf=3, max_depth=None, max_features=10, total=   0.6s\n",
      "[CV] min_samples_split=2, min_samples_leaf=10, max_depth=None, max_features=10 \n",
      "[CV]  min_samples_split=10, min_samples_leaf=3, max_depth=None, max_features=10, total=   0.6s\n",
      "[CV] min_samples_split=2, min_samples_leaf=10, max_depth=None, max_features=10 \n",
      "[CV]  min_samples_split=10, min_samples_leaf=3, max_depth=None, max_features=10, total=   0.6s\n",
      "[CV] min_samples_split=2, min_samples_leaf=10, max_depth=None, max_features=10 \n",
      "[CV]  min_samples_split=2, min_samples_leaf=10, max_depth=None, max_features=10, total=   0.5s\n",
      "[CV] min_samples_split=3, min_samples_leaf=10, max_depth=None, max_features=10 \n",
      "[CV]  min_samples_split=2, min_samples_leaf=10, max_depth=None, max_features=10, total=   0.5s\n",
      "[CV] min_samples_split=3, min_samples_leaf=10, max_depth=None, max_features=10 \n",
      "[CV]  min_samples_split=2, min_samples_leaf=10, max_depth=None, max_features=10, total=   0.5s\n",
      "[CV] min_samples_split=3, min_samples_leaf=10, max_depth=None, max_features=10 \n",
      "[CV]  min_samples_split=3, min_samples_leaf=10, max_depth=None, max_features=10, total=   0.5s\n",
      "[CV] min_samples_split=10, min_samples_leaf=10, max_depth=None, max_features=10 \n",
      "[CV]  min_samples_split=3, min_samples_leaf=10, max_depth=None, max_features=10, total=   0.5s\n",
      "[CV] min_samples_split=10, min_samples_leaf=10, max_depth=None, max_features=10 \n",
      "[CV]  min_samples_split=3, min_samples_leaf=10, max_depth=None, max_features=10, total=   0.5s\n",
      "[CV] min_samples_split=10, min_samples_leaf=10, max_depth=None, max_features=10 \n",
      "[CV]  min_samples_split=10, min_samples_leaf=10, max_depth=None, max_features=10, total=   0.5s\n",
      "[CV]  min_samples_split=10, min_samples_leaf=10, max_depth=None, max_features=10, total=   0.5s\n",
      "[CV]  min_samples_split=10, min_samples_leaf=10, max_depth=None, max_features=10, total=   0.4s\n"
     ]
    },
    {
     "name": "stderr",
     "output_type": "stream",
     "text": [
      "[Parallel(n_jobs=3)]: Done 243 out of 243 | elapsed:   29.3s finished\n"
     ]
    },
    {
     "data": {
      "text/plain": [
       "GridSearchCV(cv=None, error_score='raise',\n",
       "       estimator=RandomForestClassifier(bootstrap=True, class_weight=None, criterion='gini',\n",
       "            max_depth=None, max_features='auto', max_leaf_nodes=None,\n",
       "            min_impurity_decrease=0.0, min_impurity_split=None,\n",
       "            min_samples_leaf=1, min_samples_split=2,\n",
       "            min_weight_fraction_leaf=0.0, n_estimators=10, n_jobs=1,\n",
       "            oob_score=False, random_state=None, verbose=0,\n",
       "            warm_start=False),\n",
       "       fit_params=None, iid=True, n_jobs=3,\n",
       "       param_grid={'min_samples_split': [2, 3, 10], 'min_samples_leaf': [1, 3, 10], 'max_depth': [3, 5, None], 'max_features': [1, 3, 10]},\n",
       "       pre_dispatch='2*n_jobs', refit=True, return_train_score=True,\n",
       "       scoring=None, verbose=2)"
      ]
     },
     "execution_count": 79,
     "metadata": {},
     "output_type": "execute_result"
    }
   ],
   "source": [
    "rf=RandomForestClassifier()\n",
    "\n",
    "param_grid = {\"max_depth\": [3, 5, None],\n",
    "              \"max_features\": [1, 3, 10],\n",
    "              \"min_samples_split\": [2, 3, 10],\n",
    "              \"min_samples_leaf\": [1, 3, 10]}\n",
    "\n",
    "bestRF=GridSearchCV(rf, param_grid, verbose=2, n_jobs=3)\n",
    "\n",
    "bestRF.fit(X_under, y_under)"
   ]
  },
  {
   "cell_type": "code",
   "execution_count": 80,
   "metadata": {
    "collapsed": true
   },
   "outputs": [],
   "source": [
    "y_test_predRF = bestRF.predict(X_test)\n"
   ]
  },
  {
   "cell_type": "code",
   "execution_count": 81,
   "metadata": {
    "collapsed": false
   },
   "outputs": [
    {
     "data": {
      "text/plain": [
       "array([[3692,  745],\n",
       "       [8667, 9002]])"
      ]
     },
     "execution_count": 81,
     "metadata": {},
     "output_type": "execute_result"
    }
   ],
   "source": [
    "confusion_matrix(y_test, y_test_predRF, labels=[1,0])\n"
   ]
  },
  {
   "cell_type": "code",
   "execution_count": 82,
   "metadata": {
    "collapsed": false
   },
   "outputs": [
    {
     "data": {
      "text/plain": [
       "0.68985795711571518"
      ]
     },
     "execution_count": 82,
     "metadata": {},
     "output_type": "execute_result"
    }
   ],
   "source": [
    "accuracy_score(y_test, y_test_pred)"
   ]
  },
  {
   "cell_type": "code",
   "execution_count": 83,
   "metadata": {
    "collapsed": false
   },
   "outputs": [
    {
     "data": {
      "text/plain": [
       "0.38145073980512456"
      ]
     },
     "execution_count": 83,
     "metadata": {},
     "output_type": "execute_result"
    }
   ],
   "source": [
    "f1_score(y_test, y_test_pred)"
   ]
  },
  {
   "cell_type": "code",
   "execution_count": null,
   "metadata": {
    "collapsed": true
   },
   "outputs": [],
   "source": []
  },
  {
   "cell_type": "markdown",
   "metadata": {},
   "source": [
    "### SMOTE"
   ]
  },
  {
   "cell_type": "code",
   "execution_count": 85,
   "metadata": {
    "collapsed": true
   },
   "outputs": [],
   "source": [
    "X_smote, y_smote = SMOTE().fit_sample(X_train, y_train)"
   ]
  },
  {
   "cell_type": "markdown",
   "metadata": {},
   "source": [
    "##### Linear Regression"
   ]
  },
  {
   "cell_type": "code",
   "execution_count": 87,
   "metadata": {
    "collapsed": false
   },
   "outputs": [
    {
     "data": {
      "text/plain": [
       "LogisticRegression(C=1.0, class_weight=None, dual=False, fit_intercept=True,\n",
       "          intercept_scaling=1, max_iter=100, multi_class='ovr', n_jobs=1,\n",
       "          penalty='l2', random_state=None, solver='liblinear', tol=0.0001,\n",
       "          verbose=0, warm_start=False)"
      ]
     },
     "execution_count": 87,
     "metadata": {},
     "output_type": "execute_result"
    }
   ],
   "source": [
    "lr = LogisticRegression()\n",
    "lr.fit(X_smote, y_smote)"
   ]
  },
  {
   "cell_type": "code",
   "execution_count": 88,
   "metadata": {
    "collapsed": true
   },
   "outputs": [],
   "source": [
    "y_test_pred = lr.predict(X_test)"
   ]
  },
  {
   "cell_type": "code",
   "execution_count": 89,
   "metadata": {
    "collapsed": false
   },
   "outputs": [
    {
     "data": {
      "text/plain": [
       "array([[ 2114,  2323],\n",
       "       [ 4534, 13135]])"
      ]
     },
     "execution_count": 89,
     "metadata": {},
     "output_type": "execute_result"
    }
   ],
   "source": [
    "confusion_matrix(y_test, y_test_pred, labels=[1,0])"
   ]
  },
  {
   "cell_type": "code",
   "execution_count": 90,
   "metadata": {
    "collapsed": false
   },
   "outputs": [
    {
     "data": {
      "text/plain": [
       "0.68981272052836329"
      ]
     },
     "execution_count": 90,
     "metadata": {},
     "output_type": "execute_result"
    }
   ],
   "source": [
    "accuracy_score(y_test, y_test_pred)"
   ]
  },
  {
   "cell_type": "code",
   "execution_count": 91,
   "metadata": {
    "collapsed": false
   },
   "outputs": [
    {
     "data": {
      "text/plain": [
       "0.38141632837167344"
      ]
     },
     "execution_count": 91,
     "metadata": {},
     "output_type": "execute_result"
    }
   ],
   "source": [
    "f1_score(y_test, y_test_pred)"
   ]
  },
  {
   "cell_type": "markdown",
   "metadata": {},
   "source": [
    "##### Random Forest"
   ]
  },
  {
   "cell_type": "code",
   "execution_count": 92,
   "metadata": {
    "collapsed": false
   },
   "outputs": [
    {
     "name": "stdout",
     "output_type": "stream",
     "text": [
      "Fitting 3 folds for each of 81 candidates, totalling 243 fits\n",
      "[CV] min_samples_split=2, min_samples_leaf=1, max_depth=3, max_features=1 \n",
      "[CV] min_samples_split=2, min_samples_leaf=1, max_depth=3, max_features=1 \n",
      "[CV] min_samples_split=2, min_samples_leaf=1, max_depth=3, max_features=1 \n",
      "[CV]  min_samples_split=2, min_samples_leaf=1, max_depth=3, max_features=1, total=   0.9s\n",
      "[CV] min_samples_split=3, min_samples_leaf=1, max_depth=3, max_features=1 \n",
      "[CV]  min_samples_split=2, min_samples_leaf=1, max_depth=3, max_features=1, total=   0.9s\n",
      "[CV] min_samples_split=3, min_samples_leaf=1, max_depth=3, max_features=1 \n",
      "[CV]  min_samples_split=2, min_samples_leaf=1, max_depth=3, max_features=1, total=   0.9s\n",
      "[CV] min_samples_split=3, min_samples_leaf=1, max_depth=3, max_features=1 \n",
      "[CV]  min_samples_split=3, min_samples_leaf=1, max_depth=3, max_features=1, total=   0.7s\n",
      "[CV] min_samples_split=10, min_samples_leaf=1, max_depth=3, max_features=1 \n",
      "[CV]  min_samples_split=3, min_samples_leaf=1, max_depth=3, max_features=1, total=   0.7s\n",
      "[CV] min_samples_split=10, min_samples_leaf=1, max_depth=3, max_features=1 \n",
      "[CV]  min_samples_split=3, min_samples_leaf=1, max_depth=3, max_features=1, total=   0.7s\n",
      "[CV] min_samples_split=10, min_samples_leaf=1, max_depth=3, max_features=1 \n",
      "[CV]  min_samples_split=10, min_samples_leaf=1, max_depth=3, max_features=1, total=   0.6s\n",
      "[CV] min_samples_split=2, min_samples_leaf=3, max_depth=3, max_features=1 \n",
      "[CV]  min_samples_split=10, min_samples_leaf=1, max_depth=3, max_features=1, total=   0.6s\n",
      "[CV] min_samples_split=2, min_samples_leaf=3, max_depth=3, max_features=1 \n",
      "[CV]  min_samples_split=10, min_samples_leaf=1, max_depth=3, max_features=1, total=   0.6s\n",
      "[CV] min_samples_split=2, min_samples_leaf=3, max_depth=3, max_features=1 \n",
      "[CV]  min_samples_split=2, min_samples_leaf=3, max_depth=3, max_features=1, total=   0.7s\n",
      "[CV] min_samples_split=3, min_samples_leaf=3, max_depth=3, max_features=1 \n",
      "[CV]  min_samples_split=2, min_samples_leaf=3, max_depth=3, max_features=1, total=   0.7s\n",
      "[CV] min_samples_split=3, min_samples_leaf=3, max_depth=3, max_features=1 \n",
      "[CV]  min_samples_split=2, min_samples_leaf=3, max_depth=3, max_features=1, total=   0.7s\n",
      "[CV] min_samples_split=3, min_samples_leaf=3, max_depth=3, max_features=1 \n",
      "[CV]  min_samples_split=3, min_samples_leaf=3, max_depth=3, max_features=1, total=   0.7s\n",
      "[CV] min_samples_split=10, min_samples_leaf=3, max_depth=3, max_features=1 \n",
      "[CV]  min_samples_split=3, min_samples_leaf=3, max_depth=3, max_features=1, total=   0.7s\n",
      "[CV] min_samples_split=10, min_samples_leaf=3, max_depth=3, max_features=1 \n",
      "[CV]  min_samples_split=3, min_samples_leaf=3, max_depth=3, max_features=1, total=   0.7s\n",
      "[CV] min_samples_split=10, min_samples_leaf=3, max_depth=3, max_features=1 \n",
      "[CV]  min_samples_split=10, min_samples_leaf=3, max_depth=3, max_features=1, total=   0.7s\n",
      "[CV] min_samples_split=2, min_samples_leaf=10, max_depth=3, max_features=1 \n",
      "[CV]  min_samples_split=10, min_samples_leaf=3, max_depth=3, max_features=1, total=   0.7s\n",
      "[CV] min_samples_split=2, min_samples_leaf=10, max_depth=3, max_features=1 \n",
      "[CV]  min_samples_split=10, min_samples_leaf=3, max_depth=3, max_features=1, total=   0.7s\n",
      "[CV] min_samples_split=2, min_samples_leaf=10, max_depth=3, max_features=1 \n",
      "[CV]  min_samples_split=2, min_samples_leaf=10, max_depth=3, max_features=1, total=   0.7s\n",
      "[CV] min_samples_split=3, min_samples_leaf=10, max_depth=3, max_features=1 \n",
      "[CV]  min_samples_split=2, min_samples_leaf=10, max_depth=3, max_features=1, total=   0.7s\n",
      "[CV] min_samples_split=3, min_samples_leaf=10, max_depth=3, max_features=1 \n",
      "[CV]  min_samples_split=2, min_samples_leaf=10, max_depth=3, max_features=1, total=   0.7s\n",
      "[CV] min_samples_split=3, min_samples_leaf=10, max_depth=3, max_features=1 \n",
      "[CV]  min_samples_split=3, min_samples_leaf=10, max_depth=3, max_features=1, total=   0.7s\n",
      "[CV] min_samples_split=10, min_samples_leaf=10, max_depth=3, max_features=1 \n",
      "[CV]  min_samples_split=3, min_samples_leaf=10, max_depth=3, max_features=1, total=   0.7s\n",
      "[CV] min_samples_split=10, min_samples_leaf=10, max_depth=3, max_features=1 \n",
      "[CV]  min_samples_split=3, min_samples_leaf=10, max_depth=3, max_features=1, total=   0.6s\n",
      "[CV] min_samples_split=10, min_samples_leaf=10, max_depth=3, max_features=1 \n",
      "[CV]  min_samples_split=10, min_samples_leaf=10, max_depth=3, max_features=1, total=   0.6s\n",
      "[CV] min_samples_split=2, min_samples_leaf=1, max_depth=3, max_features=3 \n",
      "[CV]  min_samples_split=10, min_samples_leaf=10, max_depth=3, max_features=1, total=   0.6s\n",
      "[CV] min_samples_split=2, min_samples_leaf=1, max_depth=3, max_features=3 \n",
      "[CV]  min_samples_split=10, min_samples_leaf=10, max_depth=3, max_features=1, total=   0.6s\n",
      "[CV] min_samples_split=2, min_samples_leaf=1, max_depth=3, max_features=3 \n",
      "[CV]  min_samples_split=2, min_samples_leaf=1, max_depth=3, max_features=3, total=   0.7s\n",
      "[CV] min_samples_split=3, min_samples_leaf=1, max_depth=3, max_features=3 \n",
      "[CV]  min_samples_split=2, min_samples_leaf=1, max_depth=3, max_features=3, total=   0.7s\n",
      "[CV] min_samples_split=3, min_samples_leaf=1, max_depth=3, max_features=3 \n",
      "[CV]  min_samples_split=2, min_samples_leaf=1, max_depth=3, max_features=3, total=   0.7s\n",
      "[CV] min_samples_split=3, min_samples_leaf=1, max_depth=3, max_features=3 \n",
      "[CV]  min_samples_split=3, min_samples_leaf=1, max_depth=3, max_features=3, total=   0.7s\n",
      "[CV] min_samples_split=10, min_samples_leaf=1, max_depth=3, max_features=3 \n",
      "[CV]  min_samples_split=3, min_samples_leaf=1, max_depth=3, max_features=3, total=   0.7s\n",
      "[CV] min_samples_split=10, min_samples_leaf=1, max_depth=3, max_features=3 \n",
      "[CV]  min_samples_split=3, min_samples_leaf=1, max_depth=3, max_features=3, total=   0.7s\n",
      "[CV] min_samples_split=10, min_samples_leaf=1, max_depth=3, max_features=3 \n",
      "[CV]  min_samples_split=10, min_samples_leaf=1, max_depth=3, max_features=3, total=   0.8s\n",
      "[CV] min_samples_split=2, min_samples_leaf=3, max_depth=3, max_features=3 \n",
      "[CV]  min_samples_split=10, min_samples_leaf=1, max_depth=3, max_features=3, total=   0.8s\n",
      "[CV] min_samples_split=2, min_samples_leaf=3, max_depth=3, max_features=3 \n"
     ]
    },
    {
     "name": "stderr",
     "output_type": "stream",
     "text": [
      "[Parallel(n_jobs=3)]: Done  35 tasks      | elapsed:   11.4s\n"
     ]
    },
    {
     "name": "stdout",
     "output_type": "stream",
     "text": [
      "[CV]  min_samples_split=10, min_samples_leaf=1, max_depth=3, max_features=3, total=   0.8s\n",
      "[CV] min_samples_split=2, min_samples_leaf=3, max_depth=3, max_features=3 \n",
      "[CV]  min_samples_split=2, min_samples_leaf=3, max_depth=3, max_features=3, total=   0.9s\n",
      "[CV] min_samples_split=3, min_samples_leaf=3, max_depth=3, max_features=3 \n",
      "[CV]  min_samples_split=2, min_samples_leaf=3, max_depth=3, max_features=3, total=   0.9s\n",
      "[CV] min_samples_split=3, min_samples_leaf=3, max_depth=3, max_features=3 \n",
      "[CV]  min_samples_split=2, min_samples_leaf=3, max_depth=3, max_features=3, total=   0.9s\n",
      "[CV] min_samples_split=3, min_samples_leaf=3, max_depth=3, max_features=3 \n",
      "[CV]  min_samples_split=3, min_samples_leaf=3, max_depth=3, max_features=3, total=   0.8s\n",
      "[CV] min_samples_split=10, min_samples_leaf=3, max_depth=3, max_features=3 \n",
      "[CV]  min_samples_split=3, min_samples_leaf=3, max_depth=3, max_features=3, total=   0.8s\n",
      "[CV] min_samples_split=10, min_samples_leaf=3, max_depth=3, max_features=3 \n",
      "[CV]  min_samples_split=3, min_samples_leaf=3, max_depth=3, max_features=3, total=   0.9s\n",
      "[CV] min_samples_split=10, min_samples_leaf=3, max_depth=3, max_features=3 \n",
      "[CV]  min_samples_split=10, min_samples_leaf=3, max_depth=3, max_features=3, total=   0.8s\n",
      "[CV] min_samples_split=2, min_samples_leaf=10, max_depth=3, max_features=3 \n",
      "[CV]  min_samples_split=10, min_samples_leaf=3, max_depth=3, max_features=3, total=   0.8s\n",
      "[CV] min_samples_split=2, min_samples_leaf=10, max_depth=3, max_features=3 \n",
      "[CV]  min_samples_split=10, min_samples_leaf=3, max_depth=3, max_features=3, total=   0.8s\n",
      "[CV] min_samples_split=2, min_samples_leaf=10, max_depth=3, max_features=3 \n",
      "[CV]  min_samples_split=2, min_samples_leaf=10, max_depth=3, max_features=3, total=   0.8s\n",
      "[CV] min_samples_split=3, min_samples_leaf=10, max_depth=3, max_features=3 \n",
      "[CV]  min_samples_split=2, min_samples_leaf=10, max_depth=3, max_features=3, total=   0.9s\n",
      "[CV] min_samples_split=3, min_samples_leaf=10, max_depth=3, max_features=3 \n",
      "[CV]  min_samples_split=2, min_samples_leaf=10, max_depth=3, max_features=3, total=   0.9s\n",
      "[CV] min_samples_split=3, min_samples_leaf=10, max_depth=3, max_features=3 \n",
      "[CV]  min_samples_split=3, min_samples_leaf=10, max_depth=3, max_features=3, total=   0.8s\n",
      "[CV] min_samples_split=10, min_samples_leaf=10, max_depth=3, max_features=3 \n",
      "[CV]  min_samples_split=3, min_samples_leaf=10, max_depth=3, max_features=3, total=   0.8s\n",
      "[CV] min_samples_split=10, min_samples_leaf=10, max_depth=3, max_features=3 \n",
      "[CV]  min_samples_split=3, min_samples_leaf=10, max_depth=3, max_features=3, total=   0.7s\n",
      "[CV] min_samples_split=10, min_samples_leaf=10, max_depth=3, max_features=3 \n",
      "[CV]  min_samples_split=10, min_samples_leaf=10, max_depth=3, max_features=3, total=   0.7s\n",
      "[CV] min_samples_split=2, min_samples_leaf=1, max_depth=3, max_features=10 \n",
      "[CV]  min_samples_split=10, min_samples_leaf=10, max_depth=3, max_features=3, total=   0.7s\n",
      "[CV] min_samples_split=2, min_samples_leaf=1, max_depth=3, max_features=10 \n",
      "[CV]  min_samples_split=10, min_samples_leaf=10, max_depth=3, max_features=3, total=   0.7s\n",
      "[CV] min_samples_split=2, min_samples_leaf=1, max_depth=3, max_features=10 \n",
      "[CV]  min_samples_split=2, min_samples_leaf=1, max_depth=3, max_features=10, total=   0.9s\n",
      "[CV] min_samples_split=3, min_samples_leaf=1, max_depth=3, max_features=10 \n",
      "[CV]  min_samples_split=2, min_samples_leaf=1, max_depth=3, max_features=10, total=   0.9s\n",
      "[CV] min_samples_split=3, min_samples_leaf=1, max_depth=3, max_features=10 \n",
      "[CV]  min_samples_split=2, min_samples_leaf=1, max_depth=3, max_features=10, total=   0.9s\n",
      "[CV] min_samples_split=3, min_samples_leaf=1, max_depth=3, max_features=10 \n",
      "[CV]  min_samples_split=3, min_samples_leaf=1, max_depth=3, max_features=10, total=   0.9s\n",
      "[CV] min_samples_split=10, min_samples_leaf=1, max_depth=3, max_features=10 \n",
      "[CV]  min_samples_split=3, min_samples_leaf=1, max_depth=3, max_features=10, total=   0.9s\n",
      "[CV] min_samples_split=10, min_samples_leaf=1, max_depth=3, max_features=10 \n",
      "[CV]  min_samples_split=3, min_samples_leaf=1, max_depth=3, max_features=10, total=   0.9s\n",
      "[CV] min_samples_split=10, min_samples_leaf=1, max_depth=3, max_features=10 \n",
      "[CV]  min_samples_split=10, min_samples_leaf=1, max_depth=3, max_features=10, total=   0.9s\n",
      "[CV] min_samples_split=2, min_samples_leaf=3, max_depth=3, max_features=10 \n",
      "[CV]  min_samples_split=10, min_samples_leaf=1, max_depth=3, max_features=10, total=   0.9s\n",
      "[CV] min_samples_split=2, min_samples_leaf=3, max_depth=3, max_features=10 \n",
      "[CV]  min_samples_split=10, min_samples_leaf=1, max_depth=3, max_features=10, total=   0.9s\n",
      "[CV] min_samples_split=2, min_samples_leaf=3, max_depth=3, max_features=10 \n",
      "[CV]  min_samples_split=2, min_samples_leaf=3, max_depth=3, max_features=10, total=   0.9s\n",
      "[CV] min_samples_split=3, min_samples_leaf=3, max_depth=3, max_features=10 \n",
      "[CV]  min_samples_split=2, min_samples_leaf=3, max_depth=3, max_features=10, total=   0.9s\n",
      "[CV] min_samples_split=3, min_samples_leaf=3, max_depth=3, max_features=10 \n",
      "[CV]  min_samples_split=2, min_samples_leaf=3, max_depth=3, max_features=10, total=   0.9s\n",
      "[CV] min_samples_split=3, min_samples_leaf=3, max_depth=3, max_features=10 \n",
      "[CV]  min_samples_split=3, min_samples_leaf=3, max_depth=3, max_features=10, total=   0.9s\n",
      "[CV] min_samples_split=10, min_samples_leaf=3, max_depth=3, max_features=10 \n",
      "[CV]  min_samples_split=3, min_samples_leaf=3, max_depth=3, max_features=10, total=   0.9s\n",
      "[CV] min_samples_split=10, min_samples_leaf=3, max_depth=3, max_features=10 \n",
      "[CV]  min_samples_split=3, min_samples_leaf=3, max_depth=3, max_features=10, total=   0.9s\n",
      "[CV] min_samples_split=10, min_samples_leaf=3, max_depth=3, max_features=10 \n",
      "[CV]  min_samples_split=10, min_samples_leaf=3, max_depth=3, max_features=10, total=   0.9s\n",
      "[CV] min_samples_split=2, min_samples_leaf=10, max_depth=3, max_features=10 \n",
      "[CV]  min_samples_split=10, min_samples_leaf=3, max_depth=3, max_features=10, total=   0.8s\n",
      "[CV] min_samples_split=2, min_samples_leaf=10, max_depth=3, max_features=10 \n",
      "[CV]  min_samples_split=10, min_samples_leaf=3, max_depth=3, max_features=10, total=   0.9s\n",
      "[CV] min_samples_split=2, min_samples_leaf=10, max_depth=3, max_features=10 \n",
      "[CV]  min_samples_split=2, min_samples_leaf=10, max_depth=3, max_features=10, total=   0.9s\n",
      "[CV] min_samples_split=3, min_samples_leaf=10, max_depth=3, max_features=10 \n",
      "[CV]  min_samples_split=2, min_samples_leaf=10, max_depth=3, max_features=10, total=   0.9s\n",
      "[CV] min_samples_split=3, min_samples_leaf=10, max_depth=3, max_features=10 \n",
      "[CV]  min_samples_split=2, min_samples_leaf=10, max_depth=3, max_features=10, total=   0.9s\n",
      "[CV] min_samples_split=3, min_samples_leaf=10, max_depth=3, max_features=10 \n",
      "[CV]  min_samples_split=3, min_samples_leaf=10, max_depth=3, max_features=10, total=   0.9s\n",
      "[CV] min_samples_split=10, min_samples_leaf=10, max_depth=3, max_features=10 \n",
      "[CV]  min_samples_split=3, min_samples_leaf=10, max_depth=3, max_features=10, total=   0.9s\n",
      "[CV] min_samples_split=10, min_samples_leaf=10, max_depth=3, max_features=10 \n",
      "[CV]  min_samples_split=3, min_samples_leaf=10, max_depth=3, max_features=10, total=   0.9s\n",
      "[CV] min_samples_split=10, min_samples_leaf=10, max_depth=3, max_features=10 \n",
      "[CV]  min_samples_split=10, min_samples_leaf=10, max_depth=3, max_features=10, total=   0.9s\n",
      "[CV] min_samples_split=2, min_samples_leaf=1, max_depth=5, max_features=1 \n",
      "[CV]  min_samples_split=10, min_samples_leaf=10, max_depth=3, max_features=10, total=   0.9s\n",
      "[CV] min_samples_split=2, min_samples_leaf=1, max_depth=5, max_features=1 \n",
      "[CV]  min_samples_split=10, min_samples_leaf=10, max_depth=3, max_features=10, total=   0.9s\n",
      "[CV] min_samples_split=2, min_samples_leaf=1, max_depth=5, max_features=1 \n",
      "[CV]  min_samples_split=2, min_samples_leaf=1, max_depth=5, max_features=1, total=   0.6s\n",
      "[CV] min_samples_split=3, min_samples_leaf=1, max_depth=5, max_features=1 \n",
      "[CV]  min_samples_split=2, min_samples_leaf=1, max_depth=5, max_features=1, total=   0.6s\n",
      "[CV] min_samples_split=3, min_samples_leaf=1, max_depth=5, max_features=1 \n",
      "[CV]  min_samples_split=2, min_samples_leaf=1, max_depth=5, max_features=1, total=   0.6s\n",
      "[CV] min_samples_split=3, min_samples_leaf=1, max_depth=5, max_features=1 \n",
      "[CV]  min_samples_split=3, min_samples_leaf=1, max_depth=5, max_features=1, total=   0.6s\n",
      "[CV] min_samples_split=10, min_samples_leaf=1, max_depth=5, max_features=1 \n",
      "[CV]  min_samples_split=3, min_samples_leaf=1, max_depth=5, max_features=1, total=   0.6s\n",
      "[CV] min_samples_split=10, min_samples_leaf=1, max_depth=5, max_features=1 \n",
      "[CV]  min_samples_split=3, min_samples_leaf=1, max_depth=5, max_features=1, total=   0.7s\n",
      "[CV] min_samples_split=10, min_samples_leaf=1, max_depth=5, max_features=1 \n",
      "[CV]  min_samples_split=10, min_samples_leaf=1, max_depth=5, max_features=1, total=   0.6s\n",
      "[CV] min_samples_split=2, min_samples_leaf=3, max_depth=5, max_features=1 \n",
      "[CV]  min_samples_split=10, min_samples_leaf=1, max_depth=5, max_features=1, total=   0.7s\n",
      "[CV] min_samples_split=2, min_samples_leaf=3, max_depth=5, max_features=1 \n",
      "[CV]  min_samples_split=10, min_samples_leaf=1, max_depth=5, max_features=1, total=   0.7s\n",
      "[CV] min_samples_split=2, min_samples_leaf=3, max_depth=5, max_features=1 \n",
      "[CV]  min_samples_split=2, min_samples_leaf=3, max_depth=5, max_features=1, total=   0.6s\n",
      "[CV] min_samples_split=3, min_samples_leaf=3, max_depth=5, max_features=1 \n",
      "[CV]  min_samples_split=2, min_samples_leaf=3, max_depth=5, max_features=1, total=   0.7s\n",
      "[CV] min_samples_split=3, min_samples_leaf=3, max_depth=5, max_features=1 \n",
      "[CV]  min_samples_split=2, min_samples_leaf=3, max_depth=5, max_features=1, total=   0.8s\n",
      "[CV] min_samples_split=3, min_samples_leaf=3, max_depth=5, max_features=1 \n",
      "[CV]  min_samples_split=3, min_samples_leaf=3, max_depth=5, max_features=1, total=   0.8s\n",
      "[CV] min_samples_split=10, min_samples_leaf=3, max_depth=5, max_features=1 \n",
      "[CV]  min_samples_split=3, min_samples_leaf=3, max_depth=5, max_features=1, total=   0.7s\n",
      "[CV] min_samples_split=10, min_samples_leaf=3, max_depth=5, max_features=1 \n",
      "[CV]  min_samples_split=3, min_samples_leaf=3, max_depth=5, max_features=1, total=   0.7s\n",
      "[CV] min_samples_split=10, min_samples_leaf=3, max_depth=5, max_features=1 \n",
      "[CV]  min_samples_split=10, min_samples_leaf=3, max_depth=5, max_features=1, total=   0.7s\n",
      "[CV] min_samples_split=2, min_samples_leaf=10, max_depth=5, max_features=1 \n",
      "[CV]  min_samples_split=10, min_samples_leaf=3, max_depth=5, max_features=1, total=   0.8s\n",
      "[CV] min_samples_split=2, min_samples_leaf=10, max_depth=5, max_features=1 \n",
      "[CV]  min_samples_split=10, min_samples_leaf=3, max_depth=5, max_features=1, total=   0.7s\n",
      "[CV] min_samples_split=2, min_samples_leaf=10, max_depth=5, max_features=1 \n",
      "[CV]  min_samples_split=2, min_samples_leaf=10, max_depth=5, max_features=1, total=   0.7s\n",
      "[CV] min_samples_split=3, min_samples_leaf=10, max_depth=5, max_features=1 \n",
      "[CV]  min_samples_split=2, min_samples_leaf=10, max_depth=5, max_features=1, total=   0.7s\n",
      "[CV] min_samples_split=3, min_samples_leaf=10, max_depth=5, max_features=1 \n",
      "[CV]  min_samples_split=2, min_samples_leaf=10, max_depth=5, max_features=1, total=   0.6s\n",
      "[CV] min_samples_split=3, min_samples_leaf=10, max_depth=5, max_features=1 \n",
      "[CV]  min_samples_split=3, min_samples_leaf=10, max_depth=5, max_features=1, total=   0.6s\n",
      "[CV] min_samples_split=10, min_samples_leaf=10, max_depth=5, max_features=1 \n",
      "[CV]  min_samples_split=3, min_samples_leaf=10, max_depth=5, max_features=1, total=   0.6s\n",
      "[CV] min_samples_split=10, min_samples_leaf=10, max_depth=5, max_features=1 \n",
      "[CV]  min_samples_split=3, min_samples_leaf=10, max_depth=5, max_features=1, total=   0.6s\n",
      "[CV] min_samples_split=10, min_samples_leaf=10, max_depth=5, max_features=1 \n",
      "[CV]  min_samples_split=10, min_samples_leaf=10, max_depth=5, max_features=1, total=   0.6s\n",
      "[CV] min_samples_split=2, min_samples_leaf=1, max_depth=5, max_features=3 \n",
      "[CV]  min_samples_split=10, min_samples_leaf=10, max_depth=5, max_features=1, total=   0.6s\n",
      "[CV] min_samples_split=2, min_samples_leaf=1, max_depth=5, max_features=3 \n",
      "[CV]  min_samples_split=10, min_samples_leaf=10, max_depth=5, max_features=1, total=   0.6s\n",
      "[CV] min_samples_split=2, min_samples_leaf=1, max_depth=5, max_features=3 \n",
      "[CV]  min_samples_split=2, min_samples_leaf=1, max_depth=5, max_features=3, total=   0.8s\n",
      "[CV] min_samples_split=3, min_samples_leaf=1, max_depth=5, max_features=3 \n",
      "[CV]  min_samples_split=2, min_samples_leaf=1, max_depth=5, max_features=3, total=   0.8s\n",
      "[CV] min_samples_split=3, min_samples_leaf=1, max_depth=5, max_features=3 \n",
      "[CV]  min_samples_split=2, min_samples_leaf=1, max_depth=5, max_features=3, total=   0.8s\n",
      "[CV] min_samples_split=3, min_samples_leaf=1, max_depth=5, max_features=3 \n",
      "[CV]  min_samples_split=3, min_samples_leaf=1, max_depth=5, max_features=3, total=   0.7s\n",
      "[CV] min_samples_split=10, min_samples_leaf=1, max_depth=5, max_features=3 \n",
      "[CV]  min_samples_split=3, min_samples_leaf=1, max_depth=5, max_features=3, total=   0.7s\n",
      "[CV] min_samples_split=10, min_samples_leaf=1, max_depth=5, max_features=3 \n",
      "[CV]  min_samples_split=3, min_samples_leaf=1, max_depth=5, max_features=3, total=   0.8s\n",
      "[CV] min_samples_split=10, min_samples_leaf=1, max_depth=5, max_features=3 \n",
      "[CV]  min_samples_split=10, min_samples_leaf=1, max_depth=5, max_features=3, total=   0.8s\n",
      "[CV] min_samples_split=2, min_samples_leaf=3, max_depth=5, max_features=3 \n",
      "[CV]  min_samples_split=10, min_samples_leaf=1, max_depth=5, max_features=3, total=   0.8s\n",
      "[CV] min_samples_split=2, min_samples_leaf=3, max_depth=5, max_features=3 \n",
      "[CV]  min_samples_split=10, min_samples_leaf=1, max_depth=5, max_features=3, total=   0.8s\n",
      "[CV] min_samples_split=2, min_samples_leaf=3, max_depth=5, max_features=3 \n",
      "[CV]  min_samples_split=2, min_samples_leaf=3, max_depth=5, max_features=3, total=   0.8s\n",
      "[CV] min_samples_split=3, min_samples_leaf=3, max_depth=5, max_features=3 \n",
      "[CV]  min_samples_split=2, min_samples_leaf=3, max_depth=5, max_features=3, total=   0.8s\n",
      "[CV] min_samples_split=3, min_samples_leaf=3, max_depth=5, max_features=3 \n",
      "[CV]  min_samples_split=2, min_samples_leaf=3, max_depth=5, max_features=3, total=   0.8s\n",
      "[CV] min_samples_split=3, min_samples_leaf=3, max_depth=5, max_features=3 \n",
      "[CV]  min_samples_split=3, min_samples_leaf=3, max_depth=5, max_features=3, total=   0.8s\n",
      "[CV] min_samples_split=10, min_samples_leaf=3, max_depth=5, max_features=3 \n",
      "[CV]  min_samples_split=3, min_samples_leaf=3, max_depth=5, max_features=3, total=   0.8s\n",
      "[CV] min_samples_split=10, min_samples_leaf=3, max_depth=5, max_features=3 \n",
      "[CV]  min_samples_split=3, min_samples_leaf=3, max_depth=5, max_features=3, total=   0.8s\n",
      "[CV] min_samples_split=10, min_samples_leaf=3, max_depth=5, max_features=3 \n",
      "[CV]  min_samples_split=10, min_samples_leaf=3, max_depth=5, max_features=3, total=   0.7s\n",
      "[CV] min_samples_split=2, min_samples_leaf=10, max_depth=5, max_features=3 \n",
      "[CV]  min_samples_split=10, min_samples_leaf=3, max_depth=5, max_features=3, total=   0.8s\n",
      "[CV] min_samples_split=2, min_samples_leaf=10, max_depth=5, max_features=3 \n",
      "[CV]  min_samples_split=10, min_samples_leaf=3, max_depth=5, max_features=3, total=   0.8s\n",
      "[CV] min_samples_split=2, min_samples_leaf=10, max_depth=5, max_features=3 \n",
      "[CV]  min_samples_split=2, min_samples_leaf=10, max_depth=5, max_features=3, total=   0.8s\n",
      "[CV] min_samples_split=3, min_samples_leaf=10, max_depth=5, max_features=3 \n",
      "[CV]  min_samples_split=2, min_samples_leaf=10, max_depth=5, max_features=3, total=   0.8s\n",
      "[CV] min_samples_split=3, min_samples_leaf=10, max_depth=5, max_features=3 \n",
      "[CV]  min_samples_split=2, min_samples_leaf=10, max_depth=5, max_features=3, total=   0.8s\n",
      "[CV] min_samples_split=3, min_samples_leaf=10, max_depth=5, max_features=3 \n",
      "[CV]  min_samples_split=3, min_samples_leaf=10, max_depth=5, max_features=3, total=   0.8s\n",
      "[CV] min_samples_split=10, min_samples_leaf=10, max_depth=5, max_features=3 \n",
      "[CV]  min_samples_split=3, min_samples_leaf=10, max_depth=5, max_features=3, total=   0.8s\n",
      "[CV] min_samples_split=10, min_samples_leaf=10, max_depth=5, max_features=3 \n",
      "[CV]  min_samples_split=3, min_samples_leaf=10, max_depth=5, max_features=3, total=   0.8s\n",
      "[CV] min_samples_split=10, min_samples_leaf=10, max_depth=5, max_features=3 \n",
      "[CV]  min_samples_split=10, min_samples_leaf=10, max_depth=5, max_features=3, total=   0.8s\n",
      "[CV] min_samples_split=2, min_samples_leaf=1, max_depth=5, max_features=10 \n",
      "[CV]  min_samples_split=10, min_samples_leaf=10, max_depth=5, max_features=3, total=   0.8s\n",
      "[CV] min_samples_split=2, min_samples_leaf=1, max_depth=5, max_features=10 \n",
      "[CV]  min_samples_split=10, min_samples_leaf=10, max_depth=5, max_features=3, total=   0.8s\n",
      "[CV] min_samples_split=2, min_samples_leaf=1, max_depth=5, max_features=10 \n",
      "[CV]  min_samples_split=2, min_samples_leaf=1, max_depth=5, max_features=10, total=   1.2s\n",
      "[CV] min_samples_split=3, min_samples_leaf=1, max_depth=5, max_features=10 \n",
      "[CV]  min_samples_split=2, min_samples_leaf=1, max_depth=5, max_features=10, total=   1.2s\n",
      "[CV] min_samples_split=3, min_samples_leaf=1, max_depth=5, max_features=10 \n",
      "[CV]  min_samples_split=2, min_samples_leaf=1, max_depth=5, max_features=10, total=   1.2s\n",
      "[CV] min_samples_split=3, min_samples_leaf=1, max_depth=5, max_features=10 \n",
      "[CV]  min_samples_split=3, min_samples_leaf=1, max_depth=5, max_features=10, total=   1.2s\n",
      "[CV] min_samples_split=10, min_samples_leaf=1, max_depth=5, max_features=10 \n",
      "[CV]  min_samples_split=3, min_samples_leaf=1, max_depth=5, max_features=10, total=   1.2s\n",
      "[CV] min_samples_split=10, min_samples_leaf=1, max_depth=5, max_features=10 \n",
      "[CV]  min_samples_split=3, min_samples_leaf=1, max_depth=5, max_features=10, total=   1.2s\n",
      "[CV] min_samples_split=10, min_samples_leaf=1, max_depth=5, max_features=10 \n",
      "[CV]  min_samples_split=10, min_samples_leaf=1, max_depth=5, max_features=10, total=   1.2s\n",
      "[CV] min_samples_split=2, min_samples_leaf=3, max_depth=5, max_features=10 \n",
      "[CV]  min_samples_split=10, min_samples_leaf=1, max_depth=5, max_features=10, total=   1.2s\n",
      "[CV] min_samples_split=2, min_samples_leaf=3, max_depth=5, max_features=10 \n",
      "[CV]  min_samples_split=10, min_samples_leaf=1, max_depth=5, max_features=10, total=   1.2s\n",
      "[CV] min_samples_split=2, min_samples_leaf=3, max_depth=5, max_features=10 \n",
      "[CV]  min_samples_split=2, min_samples_leaf=3, max_depth=5, max_features=10, total=   1.2s\n",
      "[CV] min_samples_split=3, min_samples_leaf=3, max_depth=5, max_features=10 \n",
      "[CV]  min_samples_split=2, min_samples_leaf=3, max_depth=5, max_features=10, total=   1.2s\n",
      "[CV] min_samples_split=3, min_samples_leaf=3, max_depth=5, max_features=10 \n",
      "[CV]  min_samples_split=2, min_samples_leaf=3, max_depth=5, max_features=10, total=   1.2s\n",
      "[CV] min_samples_split=3, min_samples_leaf=3, max_depth=5, max_features=10 \n",
      "[CV]  min_samples_split=3, min_samples_leaf=3, max_depth=5, max_features=10, total=   1.2s\n",
      "[CV] min_samples_split=10, min_samples_leaf=3, max_depth=5, max_features=10 \n",
      "[CV]  min_samples_split=3, min_samples_leaf=3, max_depth=5, max_features=10, total=   1.2s\n",
      "[CV] min_samples_split=10, min_samples_leaf=3, max_depth=5, max_features=10 \n",
      "[CV]  min_samples_split=3, min_samples_leaf=3, max_depth=5, max_features=10, total=   1.2s\n",
      "[CV] min_samples_split=10, min_samples_leaf=3, max_depth=5, max_features=10 \n",
      "[CV]  min_samples_split=10, min_samples_leaf=3, max_depth=5, max_features=10, total=   1.2s\n",
      "[CV] min_samples_split=2, min_samples_leaf=10, max_depth=5, max_features=10 \n",
      "[CV]  min_samples_split=10, min_samples_leaf=3, max_depth=5, max_features=10, total=   1.2s\n",
      "[CV] min_samples_split=2, min_samples_leaf=10, max_depth=5, max_features=10 \n",
      "[CV]  min_samples_split=10, min_samples_leaf=3, max_depth=5, max_features=10, total=   1.2s\n",
      "[CV] min_samples_split=2, min_samples_leaf=10, max_depth=5, max_features=10 \n",
      "[CV]  min_samples_split=2, min_samples_leaf=10, max_depth=5, max_features=10, total=   1.3s\n",
      "[CV] min_samples_split=3, min_samples_leaf=10, max_depth=5, max_features=10 \n",
      "[CV]  min_samples_split=2, min_samples_leaf=10, max_depth=5, max_features=10, total=   1.3s\n",
      "[CV] min_samples_split=3, min_samples_leaf=10, max_depth=5, max_features=10 \n",
      "[CV]  min_samples_split=2, min_samples_leaf=10, max_depth=5, max_features=10, total=   1.3s\n",
      "[CV] min_samples_split=3, min_samples_leaf=10, max_depth=5, max_features=10 \n"
     ]
    },
    {
     "name": "stderr",
     "output_type": "stream",
     "text": [
      "[Parallel(n_jobs=3)]: Done 156 tasks      | elapsed:   53.2s\n"
     ]
    },
    {
     "name": "stdout",
     "output_type": "stream",
     "text": [
      "[CV]  min_samples_split=3, min_samples_leaf=10, max_depth=5, max_features=10, total=   1.2s\n",
      "[CV] min_samples_split=10, min_samples_leaf=10, max_depth=5, max_features=10 \n",
      "[CV]  min_samples_split=3, min_samples_leaf=10, max_depth=5, max_features=10, total=   1.2s\n",
      "[CV] min_samples_split=10, min_samples_leaf=10, max_depth=5, max_features=10 \n",
      "[CV]  min_samples_split=3, min_samples_leaf=10, max_depth=5, max_features=10, total=   1.2s\n",
      "[CV] min_samples_split=10, min_samples_leaf=10, max_depth=5, max_features=10 \n",
      "[CV]  min_samples_split=10, min_samples_leaf=10, max_depth=5, max_features=10, total=   1.2s\n",
      "[CV] min_samples_split=2, min_samples_leaf=1, max_depth=None, max_features=1 \n",
      "[CV]  min_samples_split=10, min_samples_leaf=10, max_depth=5, max_features=10, total=   1.2s\n",
      "[CV] min_samples_split=2, min_samples_leaf=1, max_depth=None, max_features=1 \n",
      "[CV]  min_samples_split=10, min_samples_leaf=10, max_depth=5, max_features=10, total=   1.2s\n",
      "[CV] min_samples_split=2, min_samples_leaf=1, max_depth=None, max_features=1 \n",
      "[CV]  min_samples_split=2, min_samples_leaf=1, max_depth=None, max_features=1, total=   1.9s\n",
      "[CV] min_samples_split=3, min_samples_leaf=1, max_depth=None, max_features=1 \n",
      "[CV]  min_samples_split=2, min_samples_leaf=1, max_depth=None, max_features=1, total=   1.9s\n",
      "[CV] min_samples_split=3, min_samples_leaf=1, max_depth=None, max_features=1 \n",
      "[CV]  min_samples_split=2, min_samples_leaf=1, max_depth=None, max_features=1, total=   1.9s\n",
      "[CV] min_samples_split=3, min_samples_leaf=1, max_depth=None, max_features=1 \n",
      "[CV]  min_samples_split=3, min_samples_leaf=1, max_depth=None, max_features=1, total=   1.8s\n",
      "[CV] min_samples_split=10, min_samples_leaf=1, max_depth=None, max_features=1 \n",
      "[CV]  min_samples_split=3, min_samples_leaf=1, max_depth=None, max_features=1, total=   1.9s\n",
      "[CV] min_samples_split=10, min_samples_leaf=1, max_depth=None, max_features=1 \n",
      "[CV]  min_samples_split=3, min_samples_leaf=1, max_depth=None, max_features=1, total=   1.9s\n",
      "[CV] min_samples_split=10, min_samples_leaf=1, max_depth=None, max_features=1 \n",
      "[CV]  min_samples_split=10, min_samples_leaf=1, max_depth=None, max_features=1, total=   1.8s\n",
      "[CV] min_samples_split=2, min_samples_leaf=3, max_depth=None, max_features=1 \n",
      "[CV]  min_samples_split=10, min_samples_leaf=1, max_depth=None, max_features=1, total=   1.8s\n",
      "[CV] min_samples_split=2, min_samples_leaf=3, max_depth=None, max_features=1 \n",
      "[CV]  min_samples_split=10, min_samples_leaf=1, max_depth=None, max_features=1, total=   1.7s\n",
      "[CV] min_samples_split=2, min_samples_leaf=3, max_depth=None, max_features=1 \n",
      "[CV]  min_samples_split=2, min_samples_leaf=3, max_depth=None, max_features=1, total=   1.0s\n",
      "[CV] min_samples_split=3, min_samples_leaf=3, max_depth=None, max_features=1 \n",
      "[CV]  min_samples_split=2, min_samples_leaf=3, max_depth=None, max_features=1, total=   1.1s\n",
      "[CV] min_samples_split=3, min_samples_leaf=3, max_depth=None, max_features=1 \n",
      "[CV]  min_samples_split=2, min_samples_leaf=3, max_depth=None, max_features=1, total=   1.4s\n",
      "[CV] min_samples_split=3, min_samples_leaf=3, max_depth=None, max_features=1 \n",
      "[CV]  min_samples_split=3, min_samples_leaf=3, max_depth=None, max_features=1, total=   1.4s\n",
      "[CV] min_samples_split=10, min_samples_leaf=3, max_depth=None, max_features=1 \n",
      "[CV]  min_samples_split=3, min_samples_leaf=3, max_depth=None, max_features=1, total=   1.3s\n",
      "[CV] min_samples_split=10, min_samples_leaf=3, max_depth=None, max_features=1 \n",
      "[CV]  min_samples_split=3, min_samples_leaf=3, max_depth=None, max_features=1, total=   1.5s\n",
      "[CV] min_samples_split=10, min_samples_leaf=3, max_depth=None, max_features=1 \n",
      "[CV]  min_samples_split=10, min_samples_leaf=3, max_depth=None, max_features=1, total=   1.6s\n",
      "[CV] min_samples_split=2, min_samples_leaf=10, max_depth=None, max_features=1 \n",
      "[CV]  min_samples_split=10, min_samples_leaf=3, max_depth=None, max_features=1, total=   1.6s\n",
      "[CV] min_samples_split=2, min_samples_leaf=10, max_depth=None, max_features=1 \n",
      "[CV]  min_samples_split=10, min_samples_leaf=3, max_depth=None, max_features=1, total=   1.4s\n",
      "[CV] min_samples_split=2, min_samples_leaf=10, max_depth=None, max_features=1 \n",
      "[CV]  min_samples_split=2, min_samples_leaf=10, max_depth=None, max_features=1, total=   1.3s\n",
      "[CV] min_samples_split=3, min_samples_leaf=10, max_depth=None, max_features=1 \n",
      "[CV]  min_samples_split=2, min_samples_leaf=10, max_depth=None, max_features=1, total=   1.2s\n",
      "[CV] min_samples_split=3, min_samples_leaf=10, max_depth=None, max_features=1 \n",
      "[CV]  min_samples_split=2, min_samples_leaf=10, max_depth=None, max_features=1, total=   1.3s\n",
      "[CV] min_samples_split=3, min_samples_leaf=10, max_depth=None, max_features=1 \n",
      "[CV]  min_samples_split=3, min_samples_leaf=10, max_depth=None, max_features=1, total=   1.2s\n",
      "[CV] min_samples_split=10, min_samples_leaf=10, max_depth=None, max_features=1 \n",
      "[CV]  min_samples_split=3, min_samples_leaf=10, max_depth=None, max_features=1, total=   1.1s\n",
      "[CV] min_samples_split=10, min_samples_leaf=10, max_depth=None, max_features=1 \n",
      "[CV]  min_samples_split=3, min_samples_leaf=10, max_depth=None, max_features=1, total=   1.2s\n",
      "[CV] min_samples_split=10, min_samples_leaf=10, max_depth=None, max_features=1 \n",
      "[CV]  min_samples_split=10, min_samples_leaf=10, max_depth=None, max_features=1, total=   1.0s\n",
      "[CV] min_samples_split=2, min_samples_leaf=1, max_depth=None, max_features=3 \n",
      "[CV]  min_samples_split=10, min_samples_leaf=10, max_depth=None, max_features=1, total=   1.0s\n",
      "[CV] min_samples_split=2, min_samples_leaf=1, max_depth=None, max_features=3 \n",
      "[CV]  min_samples_split=10, min_samples_leaf=10, max_depth=None, max_features=1, total=   1.0s\n",
      "[CV] min_samples_split=2, min_samples_leaf=1, max_depth=None, max_features=3 \n",
      "[CV]  min_samples_split=2, min_samples_leaf=1, max_depth=None, max_features=3, total=   2.5s\n",
      "[CV] min_samples_split=3, min_samples_leaf=1, max_depth=None, max_features=3 \n",
      "[CV]  min_samples_split=2, min_samples_leaf=1, max_depth=None, max_features=3, total=   2.6s\n",
      "[CV] min_samples_split=3, min_samples_leaf=1, max_depth=None, max_features=3 \n",
      "[CV]  min_samples_split=2, min_samples_leaf=1, max_depth=None, max_features=3, total=   2.6s\n",
      "[CV] min_samples_split=3, min_samples_leaf=1, max_depth=None, max_features=3 \n",
      "[CV]  min_samples_split=3, min_samples_leaf=1, max_depth=None, max_features=3, total=   2.3s\n",
      "[CV] min_samples_split=10, min_samples_leaf=1, max_depth=None, max_features=3 \n",
      "[CV]  min_samples_split=3, min_samples_leaf=1, max_depth=None, max_features=3, total=   2.3s\n",
      "[CV] min_samples_split=10, min_samples_leaf=1, max_depth=None, max_features=3 \n",
      "[CV]  min_samples_split=3, min_samples_leaf=1, max_depth=None, max_features=3, total=   2.2s\n",
      "[CV] min_samples_split=10, min_samples_leaf=1, max_depth=None, max_features=3 \n",
      "[CV]  min_samples_split=10, min_samples_leaf=1, max_depth=None, max_features=3, total=   2.4s\n",
      "[CV] min_samples_split=2, min_samples_leaf=3, max_depth=None, max_features=3 \n",
      "[CV]  min_samples_split=10, min_samples_leaf=1, max_depth=None, max_features=3, total=   2.3s\n",
      "[CV] min_samples_split=2, min_samples_leaf=3, max_depth=None, max_features=3 \n",
      "[CV]  min_samples_split=10, min_samples_leaf=1, max_depth=None, max_features=3, total=   2.3s\n",
      "[CV] min_samples_split=2, min_samples_leaf=3, max_depth=None, max_features=3 \n",
      "[CV]  min_samples_split=2, min_samples_leaf=3, max_depth=None, max_features=3, total=   2.2s\n",
      "[CV] min_samples_split=3, min_samples_leaf=3, max_depth=None, max_features=3 \n",
      "[CV]  min_samples_split=2, min_samples_leaf=3, max_depth=None, max_features=3, total=   2.0s\n",
      "[CV] min_samples_split=3, min_samples_leaf=3, max_depth=None, max_features=3 \n",
      "[CV]  min_samples_split=2, min_samples_leaf=3, max_depth=None, max_features=3, total=   1.9s\n",
      "[CV] min_samples_split=3, min_samples_leaf=3, max_depth=None, max_features=3 \n",
      "[CV]  min_samples_split=3, min_samples_leaf=3, max_depth=None, max_features=3, total=   2.2s\n",
      "[CV]  min_samples_split=3, min_samples_leaf=3, max_depth=None, max_features=3, total=   2.0s\n",
      "[CV] min_samples_split=10, min_samples_leaf=3, max_depth=None, max_features=3 \n",
      "[CV] min_samples_split=10, min_samples_leaf=3, max_depth=None, max_features=3 \n",
      "[CV]  min_samples_split=3, min_samples_leaf=3, max_depth=None, max_features=3, total=   2.0s\n",
      "[CV] min_samples_split=10, min_samples_leaf=3, max_depth=None, max_features=3 \n",
      "[CV]  min_samples_split=10, min_samples_leaf=3, max_depth=None, max_features=3, total=   2.1s\n",
      "[CV]  min_samples_split=10, min_samples_leaf=3, max_depth=None, max_features=3, total=   2.0s\n",
      "[CV] min_samples_split=2, min_samples_leaf=10, max_depth=None, max_features=3 \n",
      "[CV]  min_samples_split=10, min_samples_leaf=3, max_depth=None, max_features=3, total=   1.9s\n",
      "[CV] min_samples_split=2, min_samples_leaf=10, max_depth=None, max_features=3 \n",
      "[CV] min_samples_split=2, min_samples_leaf=10, max_depth=None, max_features=3 \n",
      "[CV]  min_samples_split=2, min_samples_leaf=10, max_depth=None, max_features=3, total=   1.8s\n",
      "[CV]  min_samples_split=2, min_samples_leaf=10, max_depth=None, max_features=3, total=   2.0s\n",
      "[CV] min_samples_split=3, min_samples_leaf=10, max_depth=None, max_features=3 \n",
      "[CV] min_samples_split=3, min_samples_leaf=10, max_depth=None, max_features=3 \n",
      "[CV]  min_samples_split=2, min_samples_leaf=10, max_depth=None, max_features=3, total=   1.8s\n",
      "[CV] min_samples_split=3, min_samples_leaf=10, max_depth=None, max_features=3 \n",
      "[CV]  min_samples_split=3, min_samples_leaf=10, max_depth=None, max_features=3, total=   1.7s\n",
      "[CV]  min_samples_split=3, min_samples_leaf=10, max_depth=None, max_features=3, total=   1.6s\n",
      "[CV] min_samples_split=10, min_samples_leaf=10, max_depth=None, max_features=3 \n",
      "[CV]  min_samples_split=3, min_samples_leaf=10, max_depth=None, max_features=3, total=   1.5s\n",
      "[CV] min_samples_split=10, min_samples_leaf=10, max_depth=None, max_features=3 \n",
      "[CV] min_samples_split=10, min_samples_leaf=10, max_depth=None, max_features=3 \n",
      "[CV]  min_samples_split=10, min_samples_leaf=10, max_depth=None, max_features=3, total=   1.5s\n",
      "[CV] min_samples_split=2, min_samples_leaf=1, max_depth=None, max_features=10 \n",
      "[CV]  min_samples_split=10, min_samples_leaf=10, max_depth=None, max_features=3, total=   1.8s\n",
      "[CV]  min_samples_split=10, min_samples_leaf=10, max_depth=None, max_features=3, total=   1.5s\n",
      "[CV] min_samples_split=2, min_samples_leaf=1, max_depth=None, max_features=10 \n",
      "[CV] min_samples_split=2, min_samples_leaf=1, max_depth=None, max_features=10 \n",
      "[CV]  min_samples_split=2, min_samples_leaf=1, max_depth=None, max_features=10, total=   3.3s\n",
      "[CV] min_samples_split=3, min_samples_leaf=1, max_depth=None, max_features=10 \n",
      "[CV]  min_samples_split=2, min_samples_leaf=1, max_depth=None, max_features=10, total=   3.4s\n",
      "[CV] min_samples_split=3, min_samples_leaf=1, max_depth=None, max_features=10 \n",
      "[CV]  min_samples_split=2, min_samples_leaf=1, max_depth=None, max_features=10, total=   3.6s\n",
      "[CV] min_samples_split=3, min_samples_leaf=1, max_depth=None, max_features=10 \n",
      "[CV]  min_samples_split=3, min_samples_leaf=1, max_depth=None, max_features=10, total=   3.7s\n",
      "[CV] min_samples_split=10, min_samples_leaf=1, max_depth=None, max_features=10 \n",
      "[CV]  min_samples_split=3, min_samples_leaf=1, max_depth=None, max_features=10, total=   3.5s\n",
      "[CV] min_samples_split=10, min_samples_leaf=1, max_depth=None, max_features=10 \n",
      "[CV]  min_samples_split=3, min_samples_leaf=1, max_depth=None, max_features=10, total=   3.4s\n",
      "[CV] min_samples_split=10, min_samples_leaf=1, max_depth=None, max_features=10 \n",
      "[CV]  min_samples_split=10, min_samples_leaf=1, max_depth=None, max_features=10, total=   3.3s\n",
      "[CV] min_samples_split=2, min_samples_leaf=3, max_depth=None, max_features=10 \n",
      "[CV]  min_samples_split=10, min_samples_leaf=1, max_depth=None, max_features=10, total=   3.1s\n",
      "[CV] min_samples_split=2, min_samples_leaf=3, max_depth=None, max_features=10 \n",
      "[CV]  min_samples_split=10, min_samples_leaf=1, max_depth=None, max_features=10, total=   3.3s\n",
      "[CV] min_samples_split=2, min_samples_leaf=3, max_depth=None, max_features=10 \n",
      "[CV]  min_samples_split=2, min_samples_leaf=3, max_depth=None, max_features=10, total=   3.3s\n",
      "[CV] min_samples_split=3, min_samples_leaf=3, max_depth=None, max_features=10 \n",
      "[CV]  min_samples_split=2, min_samples_leaf=3, max_depth=None, max_features=10, total=   3.2s\n",
      "[CV] min_samples_split=3, min_samples_leaf=3, max_depth=None, max_features=10 \n",
      "[CV]  min_samples_split=2, min_samples_leaf=3, max_depth=None, max_features=10, total=   3.2s\n",
      "[CV] min_samples_split=3, min_samples_leaf=3, max_depth=None, max_features=10 \n",
      "[CV]  min_samples_split=3, min_samples_leaf=3, max_depth=None, max_features=10, total=   3.3s\n",
      "[CV] min_samples_split=10, min_samples_leaf=3, max_depth=None, max_features=10 \n",
      "[CV]  min_samples_split=3, min_samples_leaf=3, max_depth=None, max_features=10, total=   3.1s\n",
      "[CV] min_samples_split=10, min_samples_leaf=3, max_depth=None, max_features=10 \n",
      "[CV]  min_samples_split=3, min_samples_leaf=3, max_depth=None, max_features=10, total=   3.1s\n",
      "[CV] min_samples_split=10, min_samples_leaf=3, max_depth=None, max_features=10 \n",
      "[CV]  min_samples_split=10, min_samples_leaf=3, max_depth=None, max_features=10, total=   3.2s\n",
      "[CV] min_samples_split=2, min_samples_leaf=10, max_depth=None, max_features=10 \n",
      "[CV]  min_samples_split=10, min_samples_leaf=3, max_depth=None, max_features=10, total=   3.0s\n",
      "[CV] min_samples_split=2, min_samples_leaf=10, max_depth=None, max_features=10 \n",
      "[CV]  min_samples_split=10, min_samples_leaf=3, max_depth=None, max_features=10, total=   2.9s\n",
      "[CV] min_samples_split=2, min_samples_leaf=10, max_depth=None, max_features=10 \n",
      "[CV]  min_samples_split=2, min_samples_leaf=10, max_depth=None, max_features=10, total=   2.9s\n",
      "[CV] min_samples_split=3, min_samples_leaf=10, max_depth=None, max_features=10 \n",
      "[CV]  min_samples_split=2, min_samples_leaf=10, max_depth=None, max_features=10, total=   2.7s\n",
      "[CV] min_samples_split=3, min_samples_leaf=10, max_depth=None, max_features=10 \n",
      "[CV]  min_samples_split=2, min_samples_leaf=10, max_depth=None, max_features=10, total=   2.9s\n",
      "[CV] min_samples_split=3, min_samples_leaf=10, max_depth=None, max_features=10 \n",
      "[CV]  min_samples_split=3, min_samples_leaf=10, max_depth=None, max_features=10, total=   2.6s\n",
      "[CV]  min_samples_split=3, min_samples_leaf=10, max_depth=None, max_features=10, total=   2.9s\n",
      "[CV] min_samples_split=10, min_samples_leaf=10, max_depth=None, max_features=10 \n",
      "[CV] min_samples_split=10, min_samples_leaf=10, max_depth=None, max_features=10 \n",
      "[CV]  min_samples_split=3, min_samples_leaf=10, max_depth=None, max_features=10, total=   2.7s\n",
      "[CV] min_samples_split=10, min_samples_leaf=10, max_depth=None, max_features=10 \n",
      "[CV]  min_samples_split=10, min_samples_leaf=10, max_depth=None, max_features=10, total=   3.0s\n",
      "[CV]  min_samples_split=10, min_samples_leaf=10, max_depth=None, max_features=10, total=   3.2s\n",
      "[CV]  min_samples_split=10, min_samples_leaf=10, max_depth=None, max_features=10, total=   3.0s\n"
     ]
    },
    {
     "name": "stderr",
     "output_type": "stream",
     "text": [
      "[Parallel(n_jobs=3)]: Done 243 out of 243 | elapsed:  2.1min finished\n"
     ]
    },
    {
     "data": {
      "text/plain": [
       "GridSearchCV(cv=None, error_score='raise',\n",
       "       estimator=RandomForestClassifier(bootstrap=True, class_weight=None, criterion='gini',\n",
       "            max_depth=None, max_features='auto', max_leaf_nodes=None,\n",
       "            min_impurity_decrease=0.0, min_impurity_split=None,\n",
       "            min_samples_leaf=1, min_samples_split=2,\n",
       "            min_weight_fraction_leaf=0.0, n_estimators=10, n_jobs=1,\n",
       "            oob_score=False, random_state=None, verbose=0,\n",
       "            warm_start=False),\n",
       "       fit_params=None, iid=True, n_jobs=3,\n",
       "       param_grid={'min_samples_split': [2, 3, 10], 'min_samples_leaf': [1, 3, 10], 'max_depth': [3, 5, None], 'max_features': [1, 3, 10]},\n",
       "       pre_dispatch='2*n_jobs', refit=True, return_train_score=True,\n",
       "       scoring=None, verbose=2)"
      ]
     },
     "execution_count": 92,
     "metadata": {},
     "output_type": "execute_result"
    }
   ],
   "source": [
    "rf=RandomForestClassifier()\n",
    "\n",
    "param_grid = {\"max_depth\": [3, 5, None],\n",
    "              \"max_features\": [1, 3, 10],\n",
    "              \"min_samples_split\": [2, 3, 10],\n",
    "              \"min_samples_leaf\": [1, 3, 10]}\n",
    "\n",
    "bestRF=GridSearchCV(rf, param_grid, verbose=2, n_jobs=3)\n",
    "\n",
    "bestRF.fit(X_smote, y_smote)"
   ]
  },
  {
   "cell_type": "code",
   "execution_count": 93,
   "metadata": {
    "collapsed": true
   },
   "outputs": [],
   "source": [
    "y_test_predRF = bestRF.predict(X_test)\n"
   ]
  },
  {
   "cell_type": "code",
   "execution_count": 94,
   "metadata": {
    "collapsed": false
   },
   "outputs": [
    {
     "data": {
      "text/plain": [
       "array([[ 1102,  3335],\n",
       "       [ 1465, 16204]])"
      ]
     },
     "execution_count": 94,
     "metadata": {},
     "output_type": "execute_result"
    }
   ],
   "source": [
    "confusion_matrix(y_test, y_test_predRF, labels=[1,0])\n"
   ]
  },
  {
   "cell_type": "code",
   "execution_count": 97,
   "metadata": {
    "collapsed": false
   },
   "outputs": [
    {
     "data": {
      "text/plain": [
       "0.78286438071111919"
      ]
     },
     "execution_count": 97,
     "metadata": {},
     "output_type": "execute_result"
    }
   ],
   "source": [
    "accuracy_score(y_test, y_test_predRF)"
   ]
  },
  {
   "cell_type": "code",
   "execution_count": 98,
   "metadata": {
    "collapsed": false
   },
   "outputs": [
    {
     "data": {
      "text/plain": [
       "0.31467732724157621"
      ]
     },
     "execution_count": 98,
     "metadata": {},
     "output_type": "execute_result"
    }
   ],
   "source": [
    "f1_score(y_test, y_test_predRF)"
   ]
  },
  {
   "cell_type": "code",
   "execution_count": null,
   "metadata": {
    "collapsed": true
   },
   "outputs": [],
   "source": []
  },
  {
   "cell_type": "markdown",
   "metadata": {},
   "source": [
    "### XGBoost"
   ]
  },
  {
   "cell_type": "code",
   "execution_count": 110,
   "metadata": {
    "collapsed": false
   },
   "outputs": [
    {
     "name": "stdout",
     "output_type": "stream",
     "text": [
      "Fitting 5 folds for each of 12 candidates, totalling 60 fits\n",
      "[CV] max_depth=3, min_child_weight=1 .................................\n",
      "[CV] max_depth=3, min_child_weight=1 .................................\n",
      "[CV] max_depth=3, min_child_weight=1 .................................\n",
      "[CV] max_depth=3, min_child_weight=1 .................................\n",
      "[CV] .................. max_depth=3, min_child_weight=1, total=   7.2s\n",
      "[CV] max_depth=3, min_child_weight=1 .................................\n",
      "[CV] .................. max_depth=3, min_child_weight=1, total=   7.2s\n",
      "[CV] .................. max_depth=3, min_child_weight=1, total=   7.3s\n",
      "[CV] max_depth=3, min_child_weight=3 .................................\n",
      "[CV] .................. max_depth=3, min_child_weight=1, total=   7.2s\n",
      "[CV] max_depth=3, min_child_weight=3 .................................\n",
      "[CV] max_depth=3, min_child_weight=3 .................................\n",
      "[CV] .................. max_depth=3, min_child_weight=1, total=   7.0s\n",
      "[CV] max_depth=3, min_child_weight=3 .................................\n",
      "[CV] .................. max_depth=3, min_child_weight=3, total=   7.0s\n",
      "[CV] .................. max_depth=3, min_child_weight=3, total=   6.9s\n",
      "[CV] max_depth=3, min_child_weight=3 .................................\n",
      "[CV] max_depth=3, min_child_weight=5 .................................\n",
      "[CV] .................. max_depth=3, min_child_weight=3, total=   7.0s\n",
      "[CV] max_depth=3, min_child_weight=5 .................................\n",
      "[CV] .................. max_depth=3, min_child_weight=3, total=   7.5s\n",
      "[CV] max_depth=3, min_child_weight=5 .................................\n",
      "[CV] .................. max_depth=3, min_child_weight=3, total=   7.5s\n",
      "[CV] max_depth=3, min_child_weight=5 .................................\n",
      "[CV] .................. max_depth=3, min_child_weight=5, total=   7.5s\n",
      "[CV] max_depth=3, min_child_weight=5 .................................\n",
      "[CV] .................. max_depth=3, min_child_weight=5, total=   7.5s\n",
      "[CV] max_depth=5, min_child_weight=1 .................................\n",
      "[CV] .................. max_depth=3, min_child_weight=5, total=   7.5s\n",
      "[CV] max_depth=5, min_child_weight=1 .................................\n",
      "[CV] .................. max_depth=3, min_child_weight=5, total=   7.5s\n",
      "[CV] max_depth=5, min_child_weight=1 .................................\n",
      "[CV] .................. max_depth=3, min_child_weight=5, total=   7.5s\n",
      "[CV] max_depth=5, min_child_weight=1 .................................\n",
      "[CV] .................. max_depth=5, min_child_weight=1, total=  12.0s\n",
      "[CV] max_depth=5, min_child_weight=1 .................................\n",
      "[CV] .................. max_depth=5, min_child_weight=1, total=  12.2s\n",
      "[CV] max_depth=5, min_child_weight=3 .................................\n",
      "[CV] .................. max_depth=5, min_child_weight=1, total=  12.3s\n",
      "[CV] max_depth=5, min_child_weight=3 .................................\n",
      "[CV] .................. max_depth=5, min_child_weight=1, total=  12.2s\n",
      "[CV] max_depth=5, min_child_weight=3 .................................\n",
      "[CV] .................. max_depth=5, min_child_weight=1, total=  12.5s\n",
      "[CV] max_depth=5, min_child_weight=3 .................................\n",
      "[CV] .................. max_depth=5, min_child_weight=3, total=  12.1s\n",
      "[CV] max_depth=5, min_child_weight=3 .................................\n",
      "[CV] .................. max_depth=5, min_child_weight=3, total=  12.1s\n",
      "[CV] max_depth=5, min_child_weight=5 .................................\n",
      "[CV] .................. max_depth=5, min_child_weight=3, total=  12.1s\n",
      "[CV] max_depth=5, min_child_weight=5 .................................\n",
      "[CV] .................. max_depth=5, min_child_weight=3, total=  12.0s\n",
      "[CV] max_depth=5, min_child_weight=5 .................................\n",
      "[CV] .................. max_depth=5, min_child_weight=3, total=  12.2s\n",
      "[CV] max_depth=5, min_child_weight=5 .................................\n",
      "[CV] .................. max_depth=5, min_child_weight=5, total=  12.1s\n",
      "[CV] max_depth=5, min_child_weight=5 .................................\n",
      "[CV] .................. max_depth=5, min_child_weight=5, total=  12.2s\n",
      "[CV] max_depth=7, min_child_weight=1 .................................\n",
      "[CV] .................. max_depth=5, min_child_weight=5, total=  12.3s\n",
      "[CV] max_depth=7, min_child_weight=1 .................................\n",
      "[CV] .................. max_depth=5, min_child_weight=5, total=  12.0s\n",
      "[CV] max_depth=7, min_child_weight=1 .................................\n",
      "[CV] .................. max_depth=5, min_child_weight=5, total=  12.0s\n",
      "[CV] max_depth=7, min_child_weight=1 .................................\n",
      "[CV] .................. max_depth=7, min_child_weight=1, total=  16.5s\n",
      "[CV] max_depth=7, min_child_weight=1 .................................\n",
      "[CV] .................. max_depth=7, min_child_weight=1, total=  15.3s\n",
      "[CV] max_depth=7, min_child_weight=3 .................................\n",
      "[CV] .................. max_depth=7, min_child_weight=1, total=  15.4s\n",
      "[CV] max_depth=7, min_child_weight=3 .................................\n"
     ]
    },
    {
     "name": "stderr",
     "output_type": "stream",
     "text": [
      "[Parallel(n_jobs=4)]: Done  33 tasks      | elapsed:  1.6min\n"
     ]
    },
    {
     "name": "stdout",
     "output_type": "stream",
     "text": [
      "[CV] .................. max_depth=7, min_child_weight=1, total=  15.5s\n",
      "[CV] max_depth=7, min_child_weight=3 .................................\n",
      "[CV] .................. max_depth=7, min_child_weight=1, total=  15.5s\n",
      "[CV] max_depth=7, min_child_weight=3 .................................\n",
      "[CV] .................. max_depth=7, min_child_weight=3, total=  16.6s\n",
      "[CV] max_depth=7, min_child_weight=3 .................................\n",
      "[CV] .................. max_depth=7, min_child_weight=3, total=  16.5s\n",
      "[CV] max_depth=7, min_child_weight=5 .................................\n",
      "[CV] .................. max_depth=7, min_child_weight=3, total=  16.4s\n",
      "[CV] max_depth=7, min_child_weight=5 .................................\n",
      "[CV] .................. max_depth=7, min_child_weight=3, total=  16.5s\n",
      "[CV] max_depth=7, min_child_weight=5 .................................\n",
      "[CV] .................. max_depth=7, min_child_weight=3, total=  16.6s\n",
      "[CV] max_depth=7, min_child_weight=5 .................................\n",
      "[CV] .................. max_depth=7, min_child_weight=5, total=  17.2s\n",
      "[CV] max_depth=7, min_child_weight=5 .................................\n",
      "[CV] .................. max_depth=7, min_child_weight=5, total=  17.2s\n",
      "[CV] max_depth=9, min_child_weight=1 .................................\n",
      "[CV] .................. max_depth=7, min_child_weight=5, total=  17.8s\n",
      "[CV] max_depth=9, min_child_weight=1 .................................\n",
      "[CV] .................. max_depth=7, min_child_weight=5, total=  17.7s\n",
      "[CV] max_depth=9, min_child_weight=1 .................................\n",
      "[CV] .................. max_depth=7, min_child_weight=5, total=  17.1s\n",
      "[CV] max_depth=9, min_child_weight=1 .................................\n",
      "[CV] .................. max_depth=9, min_child_weight=1, total=  21.6s\n",
      "[CV] max_depth=9, min_child_weight=1 .................................\n",
      "[CV] .................. max_depth=9, min_child_weight=1, total=  21.0s\n",
      "[CV] max_depth=9, min_child_weight=3 .................................\n",
      "[CV] .................. max_depth=9, min_child_weight=1, total=  21.1s\n",
      "[CV] max_depth=9, min_child_weight=3 .................................\n",
      "[CV] .................. max_depth=9, min_child_weight=1, total=  21.0s\n",
      "[CV] max_depth=9, min_child_weight=3 .................................\n",
      "[CV] .................. max_depth=9, min_child_weight=1, total=  21.3s\n",
      "[CV] max_depth=9, min_child_weight=3 .................................\n",
      "[CV] .................. max_depth=9, min_child_weight=3, total=  20.9s\n",
      "[CV] max_depth=9, min_child_weight=3 .................................\n",
      "[CV] .................. max_depth=9, min_child_weight=3, total=  21.0s\n",
      "[CV] max_depth=9, min_child_weight=5 .................................\n",
      "[CV] .................. max_depth=9, min_child_weight=3, total=  21.2s\n",
      "[CV] max_depth=9, min_child_weight=5 .................................\n",
      "[CV] .................. max_depth=9, min_child_weight=3, total=  21.1s\n",
      "[CV] max_depth=9, min_child_weight=5 .................................\n",
      "[CV] .................. max_depth=9, min_child_weight=3, total=  21.3s\n",
      "[CV] max_depth=9, min_child_weight=5 .................................\n",
      "[CV] .................. max_depth=9, min_child_weight=5, total=  21.2s\n",
      "[CV] max_depth=9, min_child_weight=5 .................................\n",
      "[CV] .................. max_depth=9, min_child_weight=5, total=  21.1s\n",
      "[CV] .................. max_depth=9, min_child_weight=5, total=  20.6s\n",
      "[CV] .................. max_depth=9, min_child_weight=5, total=  20.0s\n",
      "[CV] .................. max_depth=9, min_child_weight=5, total=  19.7s\n"
     ]
    },
    {
     "name": "stderr",
     "output_type": "stream",
     "text": [
      "[Parallel(n_jobs=4)]: Done  60 out of  60 | elapsed:  3.7min finished\n",
      "/Users/conhealy/anaconda2/envs/py35/lib/python3.5/site-packages/sklearn/model_selection/_search.py:747: DeprecationWarning: The grid_scores_ attribute was deprecated in version 0.18 in favor of the more elaborate cv_results_ attribute. The grid_scores_ attribute will not be available from 0.20\n",
      "  DeprecationWarning)\n"
     ]
    },
    {
     "data": {
      "text/plain": [
       "([mean: 0.73340, std: 0.00743, params: {'max_depth': 3, 'min_child_weight': 1},\n",
       "  mean: 0.73296, std: 0.00751, params: {'max_depth': 3, 'min_child_weight': 3},\n",
       "  mean: 0.73335, std: 0.00760, params: {'max_depth': 3, 'min_child_weight': 5},\n",
       "  mean: 0.73881, std: 0.00681, params: {'max_depth': 5, 'min_child_weight': 1},\n",
       "  mean: 0.73854, std: 0.00769, params: {'max_depth': 5, 'min_child_weight': 3},\n",
       "  mean: 0.73779, std: 0.00746, params: {'max_depth': 5, 'min_child_weight': 5},\n",
       "  mean: 0.74061, std: 0.00634, params: {'max_depth': 7, 'min_child_weight': 1},\n",
       "  mean: 0.74136, std: 0.00597, params: {'max_depth': 7, 'min_child_weight': 3},\n",
       "  mean: 0.74029, std: 0.00605, params: {'max_depth': 7, 'min_child_weight': 5},\n",
       "  mean: 0.74147, std: 0.00612, params: {'max_depth': 9, 'min_child_weight': 1},\n",
       "  mean: 0.74123, std: 0.00506, params: {'max_depth': 9, 'min_child_weight': 3},\n",
       "  mean: 0.74037, std: 0.00629, params: {'max_depth': 9, 'min_child_weight': 5}],\n",
       " {'max_depth': 9, 'min_child_weight': 1},\n",
       " 0.74147281785847829)"
      ]
     },
     "execution_count": 110,
     "metadata": {},
     "output_type": "execute_result"
    }
   ],
   "source": [
    "param_test1 = {\n",
    " 'max_depth':range(3,10,2),\n",
    " 'min_child_weight':range(1,6,2)\n",
    "}\n",
    "gsearch1 = GridSearchCV(estimator = XGBClassifier( learning_rate =0.1, n_estimators=100, max_depth=5,\n",
    " min_child_weight=1, gamma=0, subsample=0.8, colsample_bytree=0.8,\n",
    " objective= 'binary:logistic', nthread=4, scale_pos_weight=1, seed=27), \n",
    " param_grid = param_test1, scoring='roc_auc',n_jobs=4,iid=False, cv=5, verbose=2)\n",
    "gsearch1.fit(X_under, y_under)\n",
    "gsearch1.grid_scores_, gsearch1.best_params_, gsearch1.best_score_"
   ]
  },
  {
   "cell_type": "code",
   "execution_count": 111,
   "metadata": {
    "collapsed": false
   },
   "outputs": [
    {
     "name": "stdout",
     "output_type": "stream",
     "text": [
      "Fitting 5 folds for each of 5 candidates, totalling 25 fits\n",
      "[CV] gamma=0.1 .......................................................\n",
      "[CV] gamma=0.1 .......................................................\n",
      "[CV] gamma=0.1 .......................................................\n",
      "[CV] gamma=0.1 .......................................................\n",
      "[CV] ........................................ gamma=0.1, total=  29.7s\n",
      "[CV] gamma=0.1 .......................................................\n",
      "[CV] ........................................ gamma=0.1, total=  29.9s\n",
      "[CV] ........................................ gamma=0.1, total=  29.8s\n",
      "[CV] gamma=0.2 .......................................................\n",
      "[CV] gamma=0.2 .......................................................\n",
      "[CV] ........................................ gamma=0.1, total=  29.9s\n",
      "[CV] gamma=0.2 .......................................................\n",
      "[CV] ........................................ gamma=0.1, total=  31.0s\n",
      "[CV] ........................................ gamma=0.2, total=  30.8s\n",
      "[CV] ........................................ gamma=0.2, total=  30.8s\n",
      "[CV] gamma=0.2 .......................................................\n",
      "[CV] gamma=0.2 .......................................................\n",
      "[CV] gamma=0.3 .......................................................\n",
      "[CV] ........................................ gamma=0.2, total=  30.9s\n",
      "[CV] gamma=0.3 .......................................................\n",
      "[CV] ........................................ gamma=0.2, total=  30.1s\n",
      "[CV] ........................................ gamma=0.2, total=  30.1s\n",
      "[CV] gamma=0.3 .......................................................\n",
      "[CV] gamma=0.3 .......................................................\n",
      "[CV] ........................................ gamma=0.3, total=  30.1s\n",
      "[CV] gamma=0.3 .......................................................\n",
      "[CV] ........................................ gamma=0.3, total=  30.1s\n",
      "[CV] gamma=0.4 .......................................................\n",
      "[CV] ........................................ gamma=0.3, total=  29.5s\n",
      "[CV] gamma=0.4 .......................................................\n",
      "[CV] ........................................ gamma=0.3, total=  29.6s\n",
      "[CV] gamma=0.4 .......................................................\n",
      "[CV] ........................................ gamma=0.3, total=  29.5s\n",
      "[CV] gamma=0.4 .......................................................\n",
      "[CV] ........................................ gamma=0.4, total=  29.3s\n",
      "[CV] gamma=0.4 .......................................................\n",
      "[CV] ........................................ gamma=0.4, total=  29.3s\n",
      "[CV] gamma=0.5 .......................................................\n",
      "[CV] ........................................ gamma=0.4, total=  29.4s\n",
      "[CV] gamma=0.5 .......................................................\n",
      "[CV] ........................................ gamma=0.4, total=  29.3s\n",
      "[CV] gamma=0.5 .......................................................\n",
      "[CV] ........................................ gamma=0.4, total=  29.4s\n",
      "[CV] gamma=0.5 .......................................................\n",
      "[CV] ........................................ gamma=0.5, total=  29.3s\n",
      "[CV] gamma=0.5 .......................................................\n",
      "[CV] ........................................ gamma=0.5, total=  29.3s\n",
      "[CV] ........................................ gamma=0.5, total=  29.3s\n",
      "[CV] ........................................ gamma=0.5, total=  29.2s\n",
      "[CV] ........................................ gamma=0.5, total=  25.6s\n"
     ]
    },
    {
     "name": "stderr",
     "output_type": "stream",
     "text": [
      "[Parallel(n_jobs=4)]: Done  25 out of  25 | elapsed:  3.5min finished\n",
      "/Users/conhealy/anaconda2/envs/py35/lib/python3.5/site-packages/sklearn/model_selection/_search.py:747: DeprecationWarning: The grid_scores_ attribute was deprecated in version 0.18 in favor of the more elaborate cv_results_ attribute. The grid_scores_ attribute will not be available from 0.20\n",
      "  DeprecationWarning)\n"
     ]
    },
    {
     "data": {
      "text/plain": [
       "([mean: 0.74127, std: 0.00501, params: {'gamma': 0.1},\n",
       "  mean: 0.74269, std: 0.00570, params: {'gamma': 0.2},\n",
       "  mean: 0.74209, std: 0.00539, params: {'gamma': 0.3},\n",
       "  mean: 0.74080, std: 0.00498, params: {'gamma': 0.4},\n",
       "  mean: 0.74035, std: 0.00661, params: {'gamma': 0.5}],\n",
       " {'gamma': 0.2},\n",
       " 0.74269424002507478)"
      ]
     },
     "execution_count": 111,
     "metadata": {},
     "output_type": "execute_result"
    }
   ],
   "source": [
    "param_test2 = {\n",
    " 'gamma':[0.1, 0.2, 0.3, 0.4, 0.5]\n",
    "}\n",
    "gsearch3 = GridSearchCV(estimator = XGBClassifier( learning_rate =0.1, n_estimators=140, max_depth=9,\n",
    " min_child_weight=1, gamma=0, subsample=0.8, colsample_bytree=0.8,\n",
    " objective= 'binary:logistic', nthread=4, scale_pos_weight=1,seed=27), \n",
    " param_grid = param_test2, scoring='roc_auc',n_jobs=4,iid=False, cv=5, verbose=2)\n",
    "gsearch3.fit(X_under, y_under)\n",
    "gsearch3.grid_scores_, gsearch3.best_params_, gsearch3.best_score_"
   ]
  },
  {
   "cell_type": "code",
   "execution_count": 116,
   "metadata": {
    "collapsed": false
   },
   "outputs": [
    {
     "name": "stdout",
     "output_type": "stream",
     "text": [
      "Fitting 5 folds for each of 16 candidates, totalling 80 fits\n",
      "[CV] colsample_bytree=0.5, subsample=0.5 .............................\n",
      "[CV] colsample_bytree=0.5, subsample=0.5 .............................\n",
      "[CV] colsample_bytree=0.5, subsample=0.5 .............................\n",
      "[CV] colsample_bytree=0.5, subsample=0.5 .............................\n",
      "[CV] .............. colsample_bytree=0.5, subsample=0.5, total=  24.8s\n",
      "[CV] colsample_bytree=0.5, subsample=0.5 .............................\n",
      "[CV] .............. colsample_bytree=0.5, subsample=0.5, total=  24.9s\n",
      "[CV] colsample_bytree=0.5, subsample=0.7 .............................\n",
      "[CV] .............. colsample_bytree=0.5, subsample=0.5, total=  24.9s\n",
      "[CV] colsample_bytree=0.5, subsample=0.7 .............................\n",
      "[CV] .............. colsample_bytree=0.5, subsample=0.5, total=  24.9s\n",
      "[CV] colsample_bytree=0.5, subsample=0.7 .............................\n",
      "[CV] .............. colsample_bytree=0.5, subsample=0.7, total=  24.5s\n",
      "[CV] colsample_bytree=0.5, subsample=0.7 .............................\n",
      "[CV] .............. colsample_bytree=0.5, subsample=0.7, total=  24.5s\n",
      "[CV] colsample_bytree=0.5, subsample=0.7 .............................\n",
      "[CV] .............. colsample_bytree=0.5, subsample=0.7, total=  24.4s\n",
      "[CV] colsample_bytree=0.5, subsample=0.9 .............................\n",
      "[CV] .............. colsample_bytree=0.5, subsample=0.5, total=  26.4s\n",
      "[CV] colsample_bytree=0.5, subsample=0.9 .............................\n",
      "[CV] .............. colsample_bytree=0.5, subsample=0.9, total=  22.3s\n",
      "[CV] colsample_bytree=0.5, subsample=0.9 .............................\n",
      "[CV] .............. colsample_bytree=0.5, subsample=0.9, total=  22.3s\n",
      "[CV] colsample_bytree=0.5, subsample=0.9 .............................\n",
      "[CV] .............. colsample_bytree=0.5, subsample=0.7, total=  25.2s\n",
      "[CV] colsample_bytree=0.5, subsample=0.9 .............................\n",
      "[CV] .............. colsample_bytree=0.5, subsample=0.7, total=  25.2s\n",
      "[CV] colsample_bytree=0.5, subsample=1.0 .............................\n",
      "[CV] .............. colsample_bytree=0.5, subsample=0.9, total=  24.4s\n",
      "[CV] colsample_bytree=0.5, subsample=1.0 .............................\n",
      "[CV] .............. colsample_bytree=0.5, subsample=1.0, total=  22.6s\n",
      "[CV] colsample_bytree=0.5, subsample=1.0 .............................\n",
      "[CV] .............. colsample_bytree=0.5, subsample=0.9, total=  24.6s\n",
      "[CV] colsample_bytree=0.5, subsample=1.0 .............................\n",
      "[CV] .............. colsample_bytree=0.5, subsample=0.9, total=  24.9s\n",
      "[CV] colsample_bytree=0.5, subsample=1.0 .............................\n",
      "[CV] .............. colsample_bytree=0.5, subsample=1.0, total=  22.0s\n",
      "[CV] colsample_bytree=0.7, subsample=0.5 .............................\n",
      "[CV] .............. colsample_bytree=0.5, subsample=1.0, total=  21.8s\n",
      "[CV] colsample_bytree=0.7, subsample=0.5 .............................\n",
      "[CV] .............. colsample_bytree=0.5, subsample=1.0, total=  21.7s\n",
      "[CV] colsample_bytree=0.7, subsample=0.5 .............................\n",
      "[CV] .............. colsample_bytree=0.5, subsample=1.0, total=  21.5s\n",
      "[CV] colsample_bytree=0.7, subsample=0.5 .............................\n",
      "[CV] .............. colsample_bytree=0.7, subsample=0.5, total=  36.0s\n",
      "[CV] colsample_bytree=0.7, subsample=0.5 .............................\n",
      "[CV] .............. colsample_bytree=0.7, subsample=0.5, total=  35.9s\n",
      "[CV] colsample_bytree=0.7, subsample=0.7 .............................\n",
      "[CV] .............. colsample_bytree=0.7, subsample=0.5, total=  35.9s\n",
      "[CV] colsample_bytree=0.7, subsample=0.7 .............................\n",
      "[CV] .............. colsample_bytree=0.7, subsample=0.5, total=  36.0s\n",
      "[CV] colsample_bytree=0.7, subsample=0.7 .............................\n",
      "[CV] .............. colsample_bytree=0.7, subsample=0.7, total=  35.5s\n",
      "[CV] colsample_bytree=0.7, subsample=0.7 .............................\n",
      "[CV] .............. colsample_bytree=0.7, subsample=0.7, total=  35.4s\n",
      "[CV] colsample_bytree=0.7, subsample=0.7 .............................\n",
      "[CV] .............. colsample_bytree=0.7, subsample=0.5, total=  37.9s\n",
      "[CV] colsample_bytree=0.7, subsample=0.9 .............................\n",
      "[CV] .............. colsample_bytree=0.7, subsample=0.7, total=  35.4s\n",
      "[CV] colsample_bytree=0.7, subsample=0.9 .............................\n",
      "[CV] .............. colsample_bytree=0.7, subsample=0.9, total=  31.1s\n",
      "[CV] colsample_bytree=0.7, subsample=0.9 .............................\n",
      "[CV] .............. colsample_bytree=0.7, subsample=0.9, total=  31.1s\n",
      "[CV] colsample_bytree=0.7, subsample=0.9 .............................\n",
      "[CV] .............. colsample_bytree=0.7, subsample=0.7, total=  34.9s\n",
      "[CV] colsample_bytree=0.7, subsample=0.9 .............................\n",
      "[CV] .............. colsample_bytree=0.7, subsample=0.7, total=  34.9s\n",
      "[CV] colsample_bytree=0.7, subsample=1.0 .............................\n",
      "[CV] .............. colsample_bytree=0.7, subsample=0.9, total=  33.1s\n",
      "[CV] .............. colsample_bytree=0.7, subsample=1.0, total=  30.4s\n",
      "[CV] colsample_bytree=0.7, subsample=1.0 .............................\n",
      "[CV] colsample_bytree=0.7, subsample=1.0 .............................\n",
      "[CV] .............. colsample_bytree=0.7, subsample=0.9, total=  33.0s\n"
     ]
    },
    {
     "name": "stderr",
     "output_type": "stream",
     "text": [
      "[Parallel(n_jobs=4)]: Done  33 tasks      | elapsed:  4.4min\n"
     ]
    },
    {
     "name": "stdout",
     "output_type": "stream",
     "text": [
      "[CV] colsample_bytree=0.7, subsample=1.0 .............................\n",
      "[CV] .............. colsample_bytree=0.7, subsample=0.9, total=  33.3s\n",
      "[CV] colsample_bytree=0.7, subsample=1.0 .............................\n",
      "[CV] .............. colsample_bytree=0.7, subsample=1.0, total=  30.0s\n",
      "[CV] colsample_bytree=0.9, subsample=0.5 .............................\n",
      "[CV] .............. colsample_bytree=0.7, subsample=1.0, total=  30.1s\n",
      "[CV] .............. colsample_bytree=0.7, subsample=1.0, total=  30.0s\n",
      "[CV] colsample_bytree=0.9, subsample=0.5 .............................\n",
      "[CV] colsample_bytree=0.9, subsample=0.5 .............................\n",
      "[CV] .............. colsample_bytree=0.7, subsample=1.0, total=  30.4s\n",
      "[CV] colsample_bytree=0.9, subsample=0.5 .............................\n",
      "[CV] .............. colsample_bytree=0.9, subsample=0.5, total=  48.2s\n",
      "[CV] colsample_bytree=0.9, subsample=0.5 .............................\n",
      "[CV] .............. colsample_bytree=0.9, subsample=0.5, total=  48.0s\n",
      "[CV] colsample_bytree=0.9, subsample=0.7 .............................\n",
      "[CV] .............. colsample_bytree=0.9, subsample=0.5, total=  48.1s\n",
      "[CV] colsample_bytree=0.9, subsample=0.7 .............................\n",
      "[CV] .............. colsample_bytree=0.9, subsample=0.5, total=  47.8s\n",
      "[CV] colsample_bytree=0.9, subsample=0.7 .............................\n",
      "[CV] .............. colsample_bytree=0.9, subsample=0.7, total=  44.1s\n",
      "[CV] colsample_bytree=0.9, subsample=0.7 .............................\n",
      "[CV] .............. colsample_bytree=0.9, subsample=0.7, total=  44.0s\n",
      "[CV] colsample_bytree=0.9, subsample=0.7 .............................\n",
      "[CV] .............. colsample_bytree=0.9, subsample=0.7, total=  44.2s\n",
      "[CV] colsample_bytree=0.9, subsample=0.9 .............................\n",
      "[CV] .............. colsample_bytree=0.9, subsample=0.5, total=  47.2s\n",
      "[CV] colsample_bytree=0.9, subsample=0.9 .............................\n",
      "[CV] .............. colsample_bytree=0.9, subsample=0.9, total=  39.9s\n",
      "[CV] colsample_bytree=0.9, subsample=0.9 .............................\n",
      "[CV] .............. colsample_bytree=0.9, subsample=0.9, total=  40.0s\n",
      "[CV] colsample_bytree=0.9, subsample=0.9 .............................\n",
      "[CV] .............. colsample_bytree=0.9, subsample=0.7, total=  45.2s\n",
      "[CV] .............. colsample_bytree=0.9, subsample=0.7, total=  45.2s\n",
      "[CV] colsample_bytree=0.9, subsample=0.9 .............................\n",
      "[CV] colsample_bytree=0.9, subsample=1.0 .............................\n",
      "[CV] .............. colsample_bytree=0.9, subsample=1.0, total=  37.8s\n",
      "[CV] colsample_bytree=0.9, subsample=1.0 .............................\n",
      "[CV] .............. colsample_bytree=0.9, subsample=0.9, total=  41.8s\n",
      "[CV] colsample_bytree=0.9, subsample=1.0 .............................\n",
      "[CV] .............. colsample_bytree=0.9, subsample=0.9, total=  41.8s\n",
      "[CV] colsample_bytree=0.9, subsample=1.0 .............................\n",
      "[CV] .............. colsample_bytree=0.9, subsample=0.9, total=  42.0s\n",
      "[CV] colsample_bytree=0.9, subsample=1.0 .............................\n",
      "[CV] .............. colsample_bytree=0.9, subsample=1.0, total=  38.2s\n",
      "[CV] colsample_bytree=1.0, subsample=0.5 .............................\n",
      "[CV] .............. colsample_bytree=0.9, subsample=1.0, total=  38.2s\n",
      "[CV] colsample_bytree=1.0, subsample=0.5 .............................\n",
      "[CV] .............. colsample_bytree=0.9, subsample=1.0, total=  38.2s\n",
      "[CV] colsample_bytree=1.0, subsample=0.5 .............................\n",
      "[CV] .............. colsample_bytree=0.9, subsample=1.0, total=  37.8s\n",
      "[CV] colsample_bytree=1.0, subsample=0.5 .............................\n",
      "[CV] .............. colsample_bytree=1.0, subsample=0.5, total=  51.8s\n",
      "[CV] colsample_bytree=1.0, subsample=0.5 .............................\n",
      "[CV] .............. colsample_bytree=1.0, subsample=0.5, total=  51.9s\n",
      "[CV] colsample_bytree=1.0, subsample=0.7 .............................\n",
      "[CV] .............. colsample_bytree=1.0, subsample=0.5, total=  51.9s\n",
      "[CV] colsample_bytree=1.0, subsample=0.7 .............................\n",
      "[CV] .............. colsample_bytree=1.0, subsample=0.5, total=  51.8s\n",
      "[CV] colsample_bytree=1.0, subsample=0.7 .............................\n",
      "[CV] .............. colsample_bytree=1.0, subsample=0.7, total=  49.0s\n",
      "[CV] colsample_bytree=1.0, subsample=0.7 .............................\n",
      "[CV] .............. colsample_bytree=1.0, subsample=0.7, total=  49.1s\n",
      "[CV] colsample_bytree=1.0, subsample=0.7 .............................\n",
      "[CV] .............. colsample_bytree=1.0, subsample=0.5, total=  52.6s\n",
      "[CV] colsample_bytree=1.0, subsample=0.9 .............................\n",
      "[CV] .............. colsample_bytree=1.0, subsample=0.7, total=  49.1s\n",
      "[CV] colsample_bytree=1.0, subsample=0.9 .............................\n",
      "[CV] .............. colsample_bytree=1.0, subsample=0.9, total=  44.5s\n",
      "[CV] colsample_bytree=1.0, subsample=0.9 .............................\n",
      "[CV] .............. colsample_bytree=1.0, subsample=0.9, total=  44.6s\n",
      "[CV] colsample_bytree=1.0, subsample=0.9 .............................\n",
      "[CV] .............. colsample_bytree=1.0, subsample=0.7, total=  50.2s\n",
      "[CV] colsample_bytree=1.0, subsample=0.9 .............................\n",
      "[CV] .............. colsample_bytree=1.0, subsample=0.7, total=  50.3s\n",
      "[CV] colsample_bytree=1.0, subsample=1.0 .............................\n",
      "[CV] .............. colsample_bytree=1.0, subsample=0.9, total=  45.1s\n",
      "[CV] colsample_bytree=1.0, subsample=1.0 .............................\n",
      "[CV] .............. colsample_bytree=1.0, subsample=1.0, total=  41.3s\n",
      "[CV] colsample_bytree=1.0, subsample=1.0 .............................\n",
      "[CV] .............. colsample_bytree=1.0, subsample=0.9, total=  45.2s\n",
      "[CV] colsample_bytree=1.0, subsample=1.0 .............................\n",
      "[CV] .............. colsample_bytree=1.0, subsample=0.9, total=  45.1s\n",
      "[CV] colsample_bytree=1.0, subsample=1.0 .............................\n",
      "[CV] .............. colsample_bytree=1.0, subsample=1.0, total=  42.1s\n",
      "[CV] .............. colsample_bytree=1.0, subsample=1.0, total=  41.7s\n",
      "[CV] .............. colsample_bytree=1.0, subsample=1.0, total=  42.4s\n",
      "[CV] .............. colsample_bytree=1.0, subsample=1.0, total=  41.4s\n"
     ]
    },
    {
     "name": "stderr",
     "output_type": "stream",
     "text": [
      "[Parallel(n_jobs=4)]: Done  80 out of  80 | elapsed: 12.6min finished\n",
      "/Users/conhealy/anaconda2/envs/py35/lib/python3.5/site-packages/sklearn/model_selection/_search.py:747: DeprecationWarning: The grid_scores_ attribute was deprecated in version 0.18 in favor of the more elaborate cv_results_ attribute. The grid_scores_ attribute will not be available from 0.20\n",
      "  DeprecationWarning)\n"
     ]
    },
    {
     "data": {
      "text/plain": [
       "([mean: 0.73770, std: 0.00434, params: {'colsample_bytree': 0.5, 'subsample': 0.5},\n",
       "  mean: 0.74035, std: 0.00474, params: {'colsample_bytree': 0.5, 'subsample': 0.7},\n",
       "  mean: 0.74227, std: 0.00509, params: {'colsample_bytree': 0.5, 'subsample': 0.9},\n",
       "  mean: 0.74326, std: 0.00607, params: {'colsample_bytree': 0.5, 'subsample': 1.0},\n",
       "  mean: 0.73681, std: 0.00510, params: {'colsample_bytree': 0.7, 'subsample': 0.5},\n",
       "  mean: 0.74030, std: 0.00440, params: {'colsample_bytree': 0.7, 'subsample': 0.7},\n",
       "  mean: 0.74107, std: 0.00465, params: {'colsample_bytree': 0.7, 'subsample': 0.9},\n",
       "  mean: 0.74228, std: 0.00608, params: {'colsample_bytree': 0.7, 'subsample': 1.0},\n",
       "  mean: 0.73738, std: 0.00536, params: {'colsample_bytree': 0.9, 'subsample': 0.5},\n",
       "  mean: 0.73980, std: 0.00486, params: {'colsample_bytree': 0.9, 'subsample': 0.7},\n",
       "  mean: 0.74208, std: 0.00590, params: {'colsample_bytree': 0.9, 'subsample': 0.9},\n",
       "  mean: 0.73964, std: 0.00479, params: {'colsample_bytree': 0.9, 'subsample': 1.0},\n",
       "  mean: 0.73659, std: 0.00500, params: {'colsample_bytree': 1.0, 'subsample': 0.5},\n",
       "  mean: 0.74088, std: 0.00537, params: {'colsample_bytree': 1.0, 'subsample': 0.7},\n",
       "  mean: 0.74108, std: 0.00627, params: {'colsample_bytree': 1.0, 'subsample': 0.9},\n",
       "  mean: 0.73938, std: 0.00573, params: {'colsample_bytree': 1.0, 'subsample': 1.0}],\n",
       " {'colsample_bytree': 0.5, 'subsample': 1.0},\n",
       " 0.74326317871333303)"
      ]
     },
     "execution_count": 116,
     "metadata": {},
     "output_type": "execute_result"
    }
   ],
   "source": [
    "param_test3 = {\n",
    " 'subsample':[0.5, 0.7, 0.9, 1.0],\n",
    " 'colsample_bytree':[0.5, 0.7, 0.9, 1.0]\n",
    "}\n",
    "gsearch4 = GridSearchCV(estimator = XGBClassifier( learning_rate =0.1, n_estimators=177, max_depth=9,\n",
    " min_child_weight=1, gamma=0.2, subsample=0.8, colsample_bytree=0.8,\n",
    " objective= 'binary:logistic', nthread=4, scale_pos_weight=1,seed=27), \n",
    " param_grid = param_test3, scoring='roc_auc',n_jobs=4,iid=False, cv=5, verbose=2)\n",
    "gsearch4.fit(X_under, y_under)\n",
    "gsearch4.grid_scores_, gsearch4.best_params_, gsearch4.best_score_"
   ]
  },
  {
   "cell_type": "code",
   "execution_count": 119,
   "metadata": {
    "collapsed": false
   },
   "outputs": [
    {
     "name": "stdout",
     "output_type": "stream",
     "text": [
      "Fitting 5 folds for each of 5 candidates, totalling 25 fits\n",
      "[CV] reg_alpha=1e-05 .................................................\n",
      "[CV] reg_alpha=1e-05 .................................................\n",
      "[CV] reg_alpha=1e-05 .................................................\n",
      "[CV] reg_alpha=1e-05 .................................................\n",
      "[CV] .................................. reg_alpha=1e-05, total=  19.9s\n",
      "[CV] .................................. reg_alpha=1e-05, total=  19.9s\n",
      "[CV] reg_alpha=1e-05 .................................................\n",
      "[CV] .................................. reg_alpha=1e-05, total=  19.8s\n",
      "[CV] reg_alpha=0.01 ..................................................\n",
      "[CV] reg_alpha=0.01 ..................................................\n",
      "[CV] .................................. reg_alpha=1e-05, total=  20.0s\n",
      "[CV] reg_alpha=0.01 ..................................................\n",
      "[CV] ................................... reg_alpha=0.01, total=  22.6s\n",
      "[CV] reg_alpha=0.01 ..................................................\n",
      "[CV] ................................... reg_alpha=0.01, total=  22.7s\n",
      "[CV] reg_alpha=0.01 ..................................................\n",
      "[CV] .................................. reg_alpha=1e-05, total=  22.9s\n",
      "[CV] reg_alpha=0.1 ...................................................\n",
      "[CV] ................................... reg_alpha=0.01, total=  22.9s\n",
      "[CV] reg_alpha=0.1 ...................................................\n",
      "[CV] ................................... reg_alpha=0.01, total=  25.3s\n",
      "[CV] reg_alpha=0.1 ...................................................\n",
      "[CV] ................................... reg_alpha=0.01, total=  25.4s\n",
      "[CV] reg_alpha=0.1 ...................................................\n",
      "[CV] .................................... reg_alpha=0.1, total=  25.4s\n",
      "[CV] reg_alpha=0.1 ...................................................\n",
      "[CV] .................................... reg_alpha=0.1, total=  25.4s\n",
      "[CV] reg_alpha=1 .....................................................\n",
      "[CV] .................................... reg_alpha=0.1, total=  21.6s\n",
      "[CV] reg_alpha=1 .....................................................\n",
      "[CV] .................................... reg_alpha=0.1, total=  21.6s\n",
      "[CV] reg_alpha=1 .....................................................\n",
      "[CV] .................................... reg_alpha=0.1, total=  21.6s\n",
      "[CV] reg_alpha=1 .....................................................\n",
      "[CV] ...................................... reg_alpha=1, total=  21.8s\n",
      "[CV] reg_alpha=1 .....................................................\n",
      "[CV] ...................................... reg_alpha=1, total=  22.4s\n",
      "[CV] reg_alpha=100 ...................................................\n",
      "[CV] ...................................... reg_alpha=1, total=  22.6s\n",
      "[CV] reg_alpha=100 ...................................................\n",
      "[CV] ...................................... reg_alpha=1, total=  22.5s\n",
      "[CV] reg_alpha=100 ...................................................\n",
      "[CV] ...................................... reg_alpha=1, total=  22.6s\n",
      "[CV] reg_alpha=100 ...................................................\n",
      "[CV] .................................... reg_alpha=100, total=  11.1s\n",
      "[CV] reg_alpha=100 ...................................................\n",
      "[CV] .................................... reg_alpha=100, total=  10.9s\n",
      "[CV] .................................... reg_alpha=100, total=  11.2s\n",
      "[CV] .................................... reg_alpha=100, total=  10.9s\n",
      "[CV] .................................... reg_alpha=100, total=  10.0s\n"
     ]
    },
    {
     "name": "stderr",
     "output_type": "stream",
     "text": [
      "[Parallel(n_jobs=4)]: Done  25 out of  25 | elapsed:  2.3min finished\n",
      "/Users/conhealy/anaconda2/envs/py35/lib/python3.5/site-packages/sklearn/model_selection/_search.py:747: DeprecationWarning: The grid_scores_ attribute was deprecated in version 0.18 in favor of the more elaborate cv_results_ attribute. The grid_scores_ attribute will not be available from 0.20\n",
      "  DeprecationWarning)\n"
     ]
    },
    {
     "data": {
      "text/plain": [
       "([mean: 0.74322, std: 0.00611, params: {'reg_alpha': 1e-05},\n",
       "  mean: 0.74217, std: 0.00659, params: {'reg_alpha': 0.01},\n",
       "  mean: 0.74245, std: 0.00621, params: {'reg_alpha': 0.1},\n",
       "  mean: 0.74353, std: 0.00543, params: {'reg_alpha': 1},\n",
       "  mean: 0.72925, std: 0.00732, params: {'reg_alpha': 100}],\n",
       " {'reg_alpha': 1},\n",
       " 0.74353310834602404)"
      ]
     },
     "execution_count": 119,
     "metadata": {},
     "output_type": "execute_result"
    }
   ],
   "source": [
    "param_test4 = {\n",
    " 'reg_alpha':[1e-5, 1e-2, 0.1, 1, 100]\n",
    "}\n",
    "gsearch6 = GridSearchCV(estimator = XGBClassifier( learning_rate =0.1, n_estimators=177, max_depth=9,\n",
    " min_child_weight=1, gamma=0.2, subsample=1.0, colsample_bytree=0.5,\n",
    " objective= 'binary:logistic', nthread=4, scale_pos_weight=1,seed=27), \n",
    " param_grid = param_test4, scoring='roc_auc',n_jobs=4,iid=False, cv=5, verbose=2)\n",
    "gsearch6.fit(X_under, y_under)\n",
    "gsearch6.grid_scores_, gsearch6.best_params_, gsearch6.best_score_"
   ]
  },
  {
   "cell_type": "code",
   "execution_count": 120,
   "metadata": {
    "collapsed": false
   },
   "outputs": [
    {
     "name": "stdout",
     "output_type": "stream",
     "text": [
      "Fitting 5 folds for each of 4 candidates, totalling 20 fits\n",
      "[CV] reg_alpha=0.2 ...................................................\n",
      "[CV] reg_alpha=0.2 ...................................................\n",
      "[CV] reg_alpha=0.2 ...................................................\n",
      "[CV] reg_alpha=0.2 ...................................................\n",
      "[CV] .................................... reg_alpha=0.2, total=  19.8s\n",
      "[CV] reg_alpha=0.2 ...................................................\n",
      "[CV] .................................... reg_alpha=0.2, total=  19.7s\n",
      "[CV] .................................... reg_alpha=0.2, total=  19.8s\n",
      "[CV] reg_alpha=0.5 ...................................................\n",
      "[CV] reg_alpha=0.5 ...................................................\n",
      "[CV] .................................... reg_alpha=0.2, total=  19.8s\n",
      "[CV] reg_alpha=0.5 ...................................................\n",
      "[CV] .................................... reg_alpha=0.2, total=  22.4s\n",
      "[CV] reg_alpha=0.5 ...................................................\n",
      "[CV] .................................... reg_alpha=0.5, total=  22.3s\n",
      "[CV] reg_alpha=0.5 ...................................................\n",
      "[CV] .................................... reg_alpha=0.5, total=  22.4s\n",
      "[CV] reg_alpha=1 .....................................................\n",
      "[CV] .................................... reg_alpha=0.5, total=  22.3s\n",
      "[CV] reg_alpha=1 .....................................................\n",
      "[CV] .................................... reg_alpha=0.5, total=  22.3s\n",
      "[CV] reg_alpha=1 .....................................................\n",
      "[CV] ...................................... reg_alpha=1, total=  22.1s\n",
      "[CV] reg_alpha=1 .....................................................\n",
      "[CV] ...................................... reg_alpha=1, total=  22.1s\n",
      "[CV] reg_alpha=1 .....................................................\n",
      "[CV] .................................... reg_alpha=0.5, total=  22.4s\n",
      "[CV] reg_alpha=10 ....................................................\n",
      "[CV] ...................................... reg_alpha=1, total=  21.9s\n",
      "[CV] reg_alpha=10 ....................................................\n",
      "[CV] ...................................... reg_alpha=1, total=  21.9s\n",
      "[CV] reg_alpha=10 ....................................................\n",
      "[CV] ...................................... reg_alpha=1, total=  21.8s\n",
      "[CV] reg_alpha=10 ....................................................\n",
      "[CV] ..................................... reg_alpha=10, total=  22.9s\n",
      "[CV] reg_alpha=10 ....................................................\n",
      "[CV] ..................................... reg_alpha=10, total=  22.2s\n",
      "[CV] ..................................... reg_alpha=10, total=  22.6s\n",
      "[CV] ..................................... reg_alpha=10, total=  22.7s\n",
      "[CV] ..................................... reg_alpha=10, total=  22.5s\n"
     ]
    },
    {
     "name": "stderr",
     "output_type": "stream",
     "text": [
      "[Parallel(n_jobs=4)]: Done  20 out of  20 | elapsed:  1.9min finished\n",
      "/Users/conhealy/anaconda2/envs/py35/lib/python3.5/site-packages/sklearn/model_selection/_search.py:747: DeprecationWarning: The grid_scores_ attribute was deprecated in version 0.18 in favor of the more elaborate cv_results_ attribute. The grid_scores_ attribute will not be available from 0.20\n",
      "  DeprecationWarning)\n"
     ]
    },
    {
     "data": {
      "text/plain": [
       "([mean: 0.74169, std: 0.00566, params: {'reg_alpha': 0.2},\n",
       "  mean: 0.74234, std: 0.00463, params: {'reg_alpha': 0.5},\n",
       "  mean: 0.74353, std: 0.00543, params: {'reg_alpha': 1},\n",
       "  mean: 0.74005, std: 0.00605, params: {'reg_alpha': 10}],\n",
       " {'reg_alpha': 1},\n",
       " 0.74353310834602404)"
      ]
     },
     "execution_count": 120,
     "metadata": {},
     "output_type": "execute_result"
    }
   ],
   "source": [
    "param_test4 = {\n",
    " 'reg_alpha':[0.2, 0.5, 1, 10]\n",
    "}\n",
    "gsearch6 = GridSearchCV(estimator = XGBClassifier( learning_rate =0.1, n_estimators=177, max_depth=9,\n",
    " min_child_weight=1, gamma=0.2, subsample=1.0, colsample_bytree=0.5,\n",
    " objective= 'binary:logistic', nthread=4, scale_pos_weight=1,seed=27), \n",
    " param_grid = param_test4, scoring='roc_auc',n_jobs=4,iid=False, cv=5, verbose=2)\n",
    "gsearch6.fit(X_under, y_under)\n",
    "gsearch6.grid_scores_, gsearch6.best_params_, gsearch6.best_score_"
   ]
  },
  {
   "cell_type": "code",
   "execution_count": 121,
   "metadata": {
    "collapsed": false,
    "scrolled": false
   },
   "outputs": [
    {
     "name": "stdout",
     "output_type": "stream",
     "text": [
      "Fitting 5 folds for each of 5 candidates, totalling 25 fits\n",
      "[CV] reg_alpha=1 .....................................................\n",
      "[CV] reg_alpha=1 .....................................................\n",
      "[CV] reg_alpha=1 .....................................................\n",
      "[CV] reg_alpha=1 .....................................................\n",
      "[CV] ...................................... reg_alpha=1, total=  19.7s\n",
      "[CV] reg_alpha=1 .....................................................\n",
      "[CV] ...................................... reg_alpha=1, total=  19.7s\n",
      "[CV] reg_alpha=2 .....................................................\n",
      "[CV] ...................................... reg_alpha=1, total=  19.8s\n",
      "[CV] ...................................... reg_alpha=1, total=  19.7s\n",
      "[CV] reg_alpha=2 .....................................................\n",
      "[CV] reg_alpha=2 .....................................................\n",
      "[CV] ...................................... reg_alpha=1, total=  21.5s\n",
      "[CV] reg_alpha=2 .....................................................\n",
      "[CV] ...................................... reg_alpha=2, total=  21.5s\n",
      "[CV] reg_alpha=2 .....................................................\n",
      "[CV] ...................................... reg_alpha=2, total=  21.5s\n",
      "[CV] reg_alpha=3 .....................................................\n",
      "[CV] ...................................... reg_alpha=2, total=  21.5s\n",
      "[CV] reg_alpha=3 .....................................................\n",
      "[CV] ...................................... reg_alpha=2, total=  21.7s\n",
      "[CV] reg_alpha=3 .....................................................\n",
      "[CV] ...................................... reg_alpha=2, total=  21.7s\n",
      "[CV] reg_alpha=3 .....................................................\n",
      "[CV] ...................................... reg_alpha=3, total=  21.7s\n",
      "[CV] reg_alpha=3 .....................................................\n",
      "[CV] ...................................... reg_alpha=3, total=  21.7s\n",
      "[CV] reg_alpha=4 .....................................................\n",
      "[CV] ...................................... reg_alpha=3, total=  22.3s\n",
      "[CV] reg_alpha=4 .....................................................\n",
      "[CV] ...................................... reg_alpha=3, total=  22.3s\n",
      "[CV] reg_alpha=4 .....................................................\n",
      "[CV] ...................................... reg_alpha=3, total=  22.3s\n",
      "[CV] reg_alpha=4 .....................................................\n",
      "[CV] ...................................... reg_alpha=4, total=  22.5s\n",
      "[CV] reg_alpha=4 .....................................................\n",
      "[CV] ...................................... reg_alpha=4, total=  22.3s\n",
      "[CV] reg_alpha=5 .....................................................\n",
      "[CV] ...................................... reg_alpha=4, total=  22.3s\n",
      "[CV] reg_alpha=5 .....................................................\n",
      "[CV] ...................................... reg_alpha=4, total=  22.4s\n",
      "[CV] reg_alpha=5 .....................................................\n",
      "[CV] ...................................... reg_alpha=4, total=  22.2s\n",
      "[CV] reg_alpha=5 .....................................................\n",
      "[CV] ...................................... reg_alpha=5, total=  22.1s\n",
      "[CV] reg_alpha=5 .....................................................\n",
      "[CV] ...................................... reg_alpha=5, total=  22.0s\n",
      "[CV] ...................................... reg_alpha=5, total=  22.1s\n",
      "[CV] ...................................... reg_alpha=5, total=  22.0s\n",
      "[CV] ...................................... reg_alpha=5, total=  19.3s\n"
     ]
    },
    {
     "name": "stderr",
     "output_type": "stream",
     "text": [
      "[Parallel(n_jobs=4)]: Done  25 out of  25 | elapsed:  2.6min finished\n",
      "/Users/conhealy/anaconda2/envs/py35/lib/python3.5/site-packages/sklearn/model_selection/_search.py:747: DeprecationWarning: The grid_scores_ attribute was deprecated in version 0.18 in favor of the more elaborate cv_results_ attribute. The grid_scores_ attribute will not be available from 0.20\n",
      "  DeprecationWarning)\n"
     ]
    },
    {
     "data": {
      "text/plain": [
       "([mean: 0.74353, std: 0.00543, params: {'reg_alpha': 1},\n",
       "  mean: 0.74308, std: 0.00602, params: {'reg_alpha': 2},\n",
       "  mean: 0.74244, std: 0.00645, params: {'reg_alpha': 3},\n",
       "  mean: 0.74182, std: 0.00690, params: {'reg_alpha': 4},\n",
       "  mean: 0.74215, std: 0.00640, params: {'reg_alpha': 5}],\n",
       " {'reg_alpha': 1},\n",
       " 0.74353310834602404)"
      ]
     },
     "execution_count": 121,
     "metadata": {},
     "output_type": "execute_result"
    }
   ],
   "source": [
    "param_test4 = {\n",
    " 'reg_alpha':[1,2,3,4,5]\n",
    "}\n",
    "gsearch6 = GridSearchCV(estimator = XGBClassifier( learning_rate =0.1, n_estimators=177, max_depth=9,\n",
    " min_child_weight=1, gamma=0.2, subsample=1.0, colsample_bytree=0.5,\n",
    " objective= 'binary:logistic', nthread=4, scale_pos_weight=1,seed=27), \n",
    " param_grid = param_test4, scoring='roc_auc',n_jobs=4,iid=False, cv=5, verbose=2)\n",
    "gsearch6.fit(X_under, y_under)\n",
    "gsearch6.grid_scores_, gsearch6.best_params_, gsearch6.best_score_"
   ]
  },
  {
   "cell_type": "code",
   "execution_count": 132,
   "metadata": {
    "collapsed": true
   },
   "outputs": [],
   "source": [
    "X_train2, X_test2, y_train2, y_test2 = train_test_split(X_under, y_under, test_size=0.2, random_state=42)"
   ]
  },
  {
   "cell_type": "code",
   "execution_count": 133,
   "metadata": {
    "collapsed": false
   },
   "outputs": [
    {
     "data": {
      "text/plain": [
       "XGBClassifier(base_score=0.5, colsample_bylevel=1, colsample_bytree=0.5,\n",
       "       gamma=0.2, learning_rate=0.1, max_delta_step=0, max_depth=9,\n",
       "       min_child_weight=1, missing=None, n_estimators=1000, nthread=4,\n",
       "       objective='binary:logistic', reg_alpha=1, reg_lambda=1,\n",
       "       scale_pos_weight=1, seed=27, silent=True, subsample=1.0)"
      ]
     },
     "execution_count": 133,
     "metadata": {},
     "output_type": "execute_result"
    }
   ],
   "source": [
    "xgbFinal = XGBClassifier(\n",
    " learning_rate =0.1,\n",
    " n_estimators=1000,\n",
    " max_depth=9,\n",
    " min_child_weight=1,\n",
    " gamma=0.2,\n",
    " subsample=1.0,\n",
    " colsample_bytree=0.5,\n",
    " reg_alpha=1,\n",
    " objective= 'binary:logistic',\n",
    " nthread=4,\n",
    " scale_pos_weight=1,\n",
    " seed=27)\n",
    "xgbFinal.fit(X_train2, y_train2, verbose=2)"
   ]
  },
  {
   "cell_type": "code",
   "execution_count": 134,
   "metadata": {
    "collapsed": false
   },
   "outputs": [],
   "source": [
    "y_xgbPred = xgbFinal.predict(X_test2)"
   ]
  },
  {
   "cell_type": "code",
   "execution_count": 135,
   "metadata": {
    "collapsed": false
   },
   "outputs": [
    {
     "data": {
      "text/plain": [
       "array([[2619,  962],\n",
       "       [1410, 2162]])"
      ]
     },
     "execution_count": 135,
     "metadata": {},
     "output_type": "execute_result"
    }
   ],
   "source": [
    "confusion_matrix(y_test2, y_xgbPred, labels=[1,0])"
   ]
  },
  {
   "cell_type": "code",
   "execution_count": 138,
   "metadata": {
    "collapsed": false
   },
   "outputs": [
    {
     "data": {
      "text/plain": [
       "0.66839088494338039"
      ]
     },
     "execution_count": 138,
     "metadata": {},
     "output_type": "execute_result"
    }
   ],
   "source": [
    "accuracy_score(y_test2, y_xgbPred)"
   ]
  },
  {
   "cell_type": "code",
   "execution_count": 137,
   "metadata": {
    "collapsed": false
   },
   "outputs": [
    {
     "data": {
      "text/plain": [
       "0.68830486202365304"
      ]
     },
     "execution_count": 137,
     "metadata": {},
     "output_type": "execute_result"
    }
   ],
   "source": [
    "f1_score(y_test2, y_xgbPred, labels=[1,0])"
   ]
  },
  {
   "cell_type": "code",
   "execution_count": null,
   "metadata": {
    "collapsed": true
   },
   "outputs": [],
   "source": []
  },
  {
   "cell_type": "markdown",
   "metadata": {},
   "source": [
    "### Try XGBoost with original unbalanced dataset"
   ]
  },
  {
   "cell_type": "code",
   "execution_count": 139,
   "metadata": {
    "collapsed": false
   },
   "outputs": [
    {
     "data": {
      "text/plain": [
       "XGBClassifier(base_score=0.5, colsample_bylevel=1, colsample_bytree=0.5,\n",
       "       gamma=0.2, learning_rate=0.1, max_delta_step=0, max_depth=9,\n",
       "       min_child_weight=1, missing=None, n_estimators=1000, nthread=4,\n",
       "       objective='binary:logistic', reg_alpha=1, reg_lambda=1,\n",
       "       scale_pos_weight=1, seed=27, silent=True, subsample=1.0)"
      ]
     },
     "execution_count": 139,
     "metadata": {},
     "output_type": "execute_result"
    }
   ],
   "source": [
    "xgbFinal = XGBClassifier(\n",
    " learning_rate =0.1,\n",
    " n_estimators=1000,\n",
    " max_depth=9,\n",
    " min_child_weight=1,\n",
    " gamma=0.2,\n",
    " subsample=1.0,\n",
    " colsample_bytree=0.5,\n",
    " reg_alpha=1,\n",
    " objective= 'binary:logistic',\n",
    " nthread=4,\n",
    " scale_pos_weight=1,\n",
    " seed=27)\n",
    "xgbFinal.fit(X_train, y_train, verbose=2)"
   ]
  },
  {
   "cell_type": "code",
   "execution_count": 140,
   "metadata": {
    "collapsed": true
   },
   "outputs": [],
   "source": [
    "y_xgbPred = xgbFinal.predict(X_test)"
   ]
  },
  {
   "cell_type": "code",
   "execution_count": 143,
   "metadata": {
    "collapsed": false
   },
   "outputs": [
    {
     "data": {
      "text/plain": [
       "array([[17028,   641],\n",
       "       [ 3657,   780]])"
      ]
     },
     "execution_count": 143,
     "metadata": {},
     "output_type": "execute_result"
    }
   ],
   "source": [
    "confusion_matrix(y_test, y_xgbPred)"
   ]
  },
  {
   "cell_type": "code",
   "execution_count": 144,
   "metadata": {
    "collapsed": false
   },
   "outputs": [
    {
     "data": {
      "text/plain": [
       "0.80557314756174792"
      ]
     },
     "execution_count": 144,
     "metadata": {},
     "output_type": "execute_result"
    }
   ],
   "source": [
    "accuracy_score(y_test, y_xgbPred)"
   ]
  },
  {
   "cell_type": "code",
   "execution_count": 145,
   "metadata": {
    "collapsed": false
   },
   "outputs": [
    {
     "data": {
      "text/plain": [
       "0.26630249231819736"
      ]
     },
     "execution_count": 145,
     "metadata": {},
     "output_type": "execute_result"
    }
   ],
   "source": [
    "f1_score(y_test, y_xgbPred)"
   ]
  },
  {
   "cell_type": "code",
   "execution_count": null,
   "metadata": {
    "collapsed": true
   },
   "outputs": [],
   "source": []
  },
  {
   "cell_type": "code",
   "execution_count": null,
   "metadata": {
    "collapsed": true
   },
   "outputs": [],
   "source": []
  }
 ],
 "metadata": {
  "kernelspec": {
   "display_name": "Python [conda env:py35]",
   "language": "python",
   "name": "conda-env-py35-py"
  },
  "language_info": {
   "codemirror_mode": {
    "name": "ipython",
    "version": 3
   },
   "file_extension": ".py",
   "mimetype": "text/x-python",
   "name": "python",
   "nbconvert_exporter": "python",
   "pygments_lexer": "ipython3",
   "version": "3.5.4"
  }
 },
 "nbformat": 4,
 "nbformat_minor": 2
}
